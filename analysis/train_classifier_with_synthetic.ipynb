{
 "cells": [
  {
   "cell_type": "code",
   "execution_count": null,
   "outputs": [],
   "source": [
    "from utils.util import *\n",
    "%matplotlib inline"
   ],
   "metadata": {
    "collapsed": false
   }
  },
  {
   "cell_type": "code",
   "execution_count": null,
   "outputs": [],
   "source": [
    "results = pd.read_csv(os.path.join(\"classifier_analysis\", \"classifiers_results_final.csv\"))\n",
    "results = results[results[\"model_name\"].isin([\"LGR\",\"NN\", \"KNN\"])].groupby('model_name').head(500)\n",
    "# results = results[results[\"model_name\"] != 'NN']\n",
    "# results2 = pd.read_csv(os.path.join(\"classifier_analysis\", \"classifiers_results2.csv\"))\n",
    "# results = pd.concat([results, results2])\n",
    "# results.to_csv(os.path.join(\"classifier_analysis\", \"classifiers_results_final.csv\"))\n",
    "print(results)"
   ],
   "metadata": {
    "collapsed": false
   }
  },
  {
   "cell_type": "code",
   "execution_count": null,
   "outputs": [],
   "source": [
    "print(results.groupby('synthetic_percentage')[\"accuracy\"].max())"
   ],
   "metadata": {
    "collapsed": false
   }
  },
  {
   "cell_type": "code",
   "execution_count": null,
   "outputs": [],
   "source": [
    "def compare_number_of_samples_mean(sorted_df):\n",
    "    fig, axes = plt.subplots(nrows=1, ncols=1, figsize=(18, 5))\n",
    "\n",
    "    # Plot accuracy on the first subplot\n",
    "    sns.pointplot(x='samples_and_percentage', y='accuracy', data=sorted_df, ax=axes, color='red')\n",
    "    axes.set_xlabel('Additional Synthetic Samples', fontsize=20)\n",
    "    axes.set_ylabel('Mean Accuracy', fontsize=20)\n",
    "    axes.grid(True, color='black')\n",
    "    axes.tick_params(axis='x', labelsize=16)\n",
    "    axes.tick_params(axis='y', labelsize=16)\n",
    "    # Adjust the layout of subplots\n",
    "    plt.tight_layout()\n",
    "    plt.savefig(os.path.join(\"classifier_analysis\", 'classifier_with_synthetic_compare_mean.jpg'), bbox_inches='tight',\n",
    "                dpi=250)\n",
    "    # Show the plot\n",
    "    plt.show()\n",
    "\n",
    "    # Calculate and return the maximum accuracy for each model\n",
    "    results = sorted_df.groupby('model_name')['accuracy'].max().to_dict()\n",
    "    return results\n"
   ],
   "metadata": {
    "collapsed": false
   }
  },
  {
   "cell_type": "code",
   "execution_count": null,
   "outputs": [],
   "source": [
    "def compare_number_of_samples(sorted_df, metric_name=\"accuracy\"):\n",
    "    # Get unique model names\n",
    "    model_names = sorted_df['model_name'].unique()\n",
    "\n",
    "    # Create a figure with subplots\n",
    "    fig, axes = plt.subplots(nrows=1, ncols=3, figsize=(70, 25))\n",
    "    axes = axes.flatten()  # Flatten the axes array for easier indexing\n",
    "\n",
    "    # Plot accuracy for each model on separate subplots\n",
    "    for i, model_name in enumerate(model_names):\n",
    "        ax = axes[i]  # Select the current subplot\n",
    "\n",
    "        # Filter the data for the current model name\n",
    "        subset = sorted_df[sorted_df['model_name'] == model_name]\n",
    "        # Calculate the maximum accuracy for each samples_and_percentage\n",
    "        mean_values = subset.groupby(['samples_and_percentage', 'synthetic_percentage'])[metric_name].mean().reset_index()\n",
    "        mean_values = mean_values.sort_values('synthetic_percentage')\n",
    "        # Plot accuracy on the current subplot\n",
    "        sns.pointplot(x='samples_and_percentage', y=metric_name, data=subset, ax=ax, color='red', scale=4, errwidth=6)\n",
    "        ax.set_xlabel('Additional Synthetic Samples', fontsize=55)\n",
    "        ax.set_ylabel('Accuracy', fontsize=55)\n",
    "        ax.set_title(f'{model_name}', fontsize=65, fontweight='bold', y=1.05)\n",
    "        ax.tick_params(axis='x', labelsize=50)\n",
    "        ax.tick_params(axis='y', labelsize=50)\n",
    "        ax.grid(True, color='black')\n",
    "        # Add value numbers to each point\n",
    "        for index, (x, y) in enumerate(zip(mean_values.index, mean_values[metric_name])):\n",
    "            x_i = x if x == 0 else x - 1 if x > 1 else 9\n",
    "            text_y_position = y + 0.001  # Move text up by 2mm (adjust this value as needed)\n",
    "            ax.text(x_i, text_y_position, f'{y * 100:.1f}%', fontsize=50, fontweight='bold', ha='center',\n",
    "                    va='bottom', color='black')\n",
    "\n",
    "    # Adjust the layout of subplots\n",
    "    plt.tight_layout()\n",
    "    plt.savefig(os.path.join(\"classifier_analysis\", 'classifier_with_synthetic_compare_by_model.jpg'),\n",
    "                bbox_inches='tight', dpi=300)\n",
    "\n",
    "    # Show the plot\n",
    "    plt.show()\n",
    "\n",
    "    # Calculate and return the maximum accuracy for each model\n",
    "    results = sorted_df.groupby('model_name')[metric_name].min().to_dict()\n",
    "    return results\n"
   ],
   "metadata": {
    "collapsed": false
   }
  },
  {
   "cell_type": "code",
   "execution_count": null,
   "outputs": [],
   "source": [
    "import matplotlib.pyplot as plt\n",
    "import seaborn as sns\n",
    "import os\n",
    "\n",
    "\n",
    "def compare_number_of_samples_max(sorted_df, metric_name=\"accuracy\"):\n",
    "    # Get unique model names\n",
    "    model_names = sorted_df['model_name'].unique()\n",
    "\n",
    "    # Create a figure with subplots\n",
    "    fig, axes = plt.subplots(nrows=1, ncols=3, figsize=(60, 12))\n",
    "    axes = axes.flatten()  # Flatten the axes array for easier indexing\n",
    "\n",
    "    # Plot maximum accuracy for each model on separate subplots\n",
    "    for i, model_name in enumerate(model_names):\n",
    "        ax = axes[i]  # Select the current subplot\n",
    "\n",
    "        # Filter the data for the current model name\n",
    "        subset = sorted_df[sorted_df['model_name'] == model_name]\n",
    "\n",
    "        # Calculate the maximum accuracy for each samples_and_percentage\n",
    "        max_values = subset.groupby(['samples_and_percentage', 'synthetic_percentage'])[metric_name].max().reset_index()\n",
    "        max_values = max_values.sort_values('synthetic_percentage')\n",
    "\n",
    "        # Plot maximum accuracy on the current subplot\n",
    "        sns.pointplot(x='samples_and_percentage', y=metric_name, data=max_values, ax=ax, color='red', scale=3)\n",
    "        ax.set_xlabel('Additional Synthetic Samples', fontsize=40)\n",
    "        ax.set_ylabel('Max ' + metric_name.capitalize(), fontsize=40)  # Update y-axis label\n",
    "        ax.set_title(f'{model_name}', fontsize=55, fontweight='bold', y=1.05)\n",
    "        ax.tick_params(axis='x', labelsize=30)\n",
    "        ax.tick_params(axis='y', labelsize=30)\n",
    "        ax.grid(True, color='black')\n",
    "\n",
    "        # Add value numbers to each point\n",
    "        pos = ['bottom', 'top']\n",
    "        for index, (x, y) in enumerate(zip(max_values.index, max_values[metric_name])):\n",
    "            ax.text(x, y, f'{y * 100:.1f}%', ha='right', va=pos[index % len(pos)], fontsize=38, fontweight='bold')\n",
    "\n",
    "    # Adjust the layout of subplots\n",
    "    plt.tight_layout()\n",
    "    plt.savefig(os.path.join(\"classifier_analysis\", 'classifier_with_synthetic_max_potential.jpg'))\n",
    "\n",
    "    # Show the plot\n",
    "    plt.show()\n",
    "\n",
    "    # Calculate and return the maximum accuracy for each model\n",
    "    results = sorted_df.groupby('model_name')[metric_name].max().to_dict()\n",
    "    return results\n",
    "\n"
   ],
   "metadata": {
    "collapsed": false
   }
  },
  {
   "cell_type": "code",
   "execution_count": null,
   "outputs": [],
   "source": [
    "sorted_df = results.sort_values('synthetic_percentage')\n",
    "sorted_df[\"model_name\"] = sorted_df[\"model_name\"].replace(\n",
    "    {\"LGR\": \"LogisticRegression\", \"NN\": \"NuralNet\", \"KNN\": \"KNeighborsClassifier\"})"
   ],
   "metadata": {
    "collapsed": false
   }
  },
  {
   "cell_type": "code",
   "execution_count": null,
   "outputs": [],
   "source": [
    "compare_number_of_samples_max(sorted_df, \"accuracy\")"
   ],
   "metadata": {
    "collapsed": false
   }
  },
  {
   "cell_type": "code",
   "execution_count": null,
   "outputs": [],
   "source": [
    "compare_number_of_samples(sorted_df, \"accuracy\")"
   ],
   "metadata": {
    "collapsed": false
   }
  },
  {
   "cell_type": "code",
   "execution_count": null,
   "outputs": [],
   "source": [
    "compare_number_of_samples_mean(sorted_df)"
   ],
   "metadata": {
    "collapsed": false
   }
  },
  {
   "cell_type": "code",
   "execution_count": null,
   "outputs": [],
   "source": [
    "from scipy import stats\n",
    "\n",
    "\n",
    "def get_p_value(tmp_df, synthetic_percentage_add_compare, target_score=\"accuracy\"):\n",
    "    t_stat, p_value = stats.ttest_ind(tmp_df[tmp_df[\"synthetic_percentage\"] == 0][target_score],\n",
    "                                      tmp_df[tmp_df[\"synthetic_percentage\"].isin(synthetic_percentage_add_compare)][\n",
    "                                          target_score])\n",
    "    m_train = tmp_df[tmp_df[\"synthetic_percentage\"] == 0][target_score].mean()\n",
    "    m_train_s = tmp_df[tmp_df[\"synthetic_percentage\"].isin(synthetic_percentage_add_compare)][target_score].mean()\n",
    "    number_of_models = tmp_df[tmp_df[\"synthetic_percentage\"].isin(synthetic_percentage_add_compare)][\n",
    "        target_score].count()\n",
    "    print(\n",
    "        f\"p_value: {round(p_value, 10)}, mean_train:{m_train}, mean_train_s:{m_train_s}, number_of_models: {number_of_models}, number_of_models_real: {len(tmp_df[tmp_df['synthetic_percentage'] == 0][target_score])}\")"
   ],
   "metadata": {
    "collapsed": false
   }
  },
  {
   "cell_type": "code",
   "execution_count": null,
   "outputs": [],
   "source": [
    "get_p_value(sorted_df[sorted_df[\"model_name\"]==\"NuralNet\"], [0.8], \"accuracy\")"
   ],
   "metadata": {
    "collapsed": false
   }
  },
  {
   "cell_type": "code",
   "execution_count": null,
   "outputs": [],
   "source": [
    "[\"CatboostClassifier\", \"KNeighborsClassifier\", \"MultinomialNB\", \"SVC\"]\n",
    "df = sorted_df"
   ],
   "metadata": {
    "collapsed": false
   }
  },
  {
   "cell_type": "code",
   "execution_count": null,
   "outputs": [],
   "source": [
    "# Filter the data for real_train_set\n",
    "real_train_data = sorted_df[sorted_df['synthetic_percentage'] == 0][\n",
    "    ['synthetic_percentage', \"ACB\", \"GWD\", \"ESN\", \"MSL\", \"YRI\", \"LWK\", \"ASW\"]]\n",
    "\n",
    "# Filter the data for train_with_aug\n",
    "train_with_aug_data = sorted_df[sorted_df['synthetic_percentage'] == 0.9][\n",
    "    ['synthetic_percentage', \"ACB\", \"GWD\", \"ESN\", \"MSL\", \"YRI\", \"LWK\", \"ASW\"]]\n",
    "\n",
    "# Concatenate the filtered dataframes\n",
    "merged_data = pd.concat([real_train_data, train_with_aug_data])\n",
    "\n",
    "# Compute the mean accuracy for each population\n",
    "mean_accuracy_real_train = merged_data[merged_data['synthetic_percentage'] == 0].mean(axis=0)\n",
    "mean_accuracy_train_with_aug = merged_data[merged_data['synthetic_percentage'] == 0.9].mean(axis=0)\n",
    "\n",
    "# Get the population names\n",
    "population_names = [\"ACB\", \"GWD\", \"ESN\", \"MSL\", \"YRI\", \"LWK\", \"ASW\"]\n",
    "\n",
    "# Set the figure size\n",
    "plt.figure(figsize=(18, 8))\n",
    "# Plot the histograms for train_with_aug_data\n",
    "plt.hist(population_names, bins=len(population_names), weights=mean_accuracy_train_with_aug[population_names],\n",
    "         alpha=0.5, label='Train with Augmentation 90%', color='blue', edgecolor='black')\n",
    "# Plot the histograms for real_train_data\n",
    "plt.hist(population_names, bins=len(population_names), weights=mean_accuracy_real_train[population_names],\n",
    "         alpha=0.5, label='Real Train Set', color='yellow', edgecolor='black')\n",
    "\n",
    "# Add labels and title\n",
    "plt.xlabel('Population Name', fontsize=22)\n",
    "plt.ylabel('Mean Accuracy', fontsize=22)\n",
    "\n",
    "# Add a legend\n",
    "plt.legend()\n",
    "\n",
    "pos = ['left', 'left', 'center', 'center', 'center', 'right', 'right']\n",
    "# Annotate the bars with mean accuracy values\n",
    "for i, mean_acc in enumerate(mean_accuracy_real_train[population_names]):\n",
    "    va = 'top' if i + 1 < len(population_names) else 'bottom'\n",
    "    plt.text(i, mean_acc, f'{mean_acc * 100:.2f}%', ha=pos[i], va=va, color='yellow', fontweight='bold', fontsize=21,\n",
    "             bbox=dict(facecolor='gray', edgecolor='black', boxstyle='round,pad=0.2'))\n",
    "for i, mean_acc in enumerate(mean_accuracy_train_with_aug[population_names]):\n",
    "    va = 'bottom' if i + 1 < len(population_names) else 'top'\n",
    "    plt.text(i, mean_acc, f'{mean_acc * 100:.2f}%', ha=pos[i], va=va, color='blue', fontweight='bold', fontsize=21,\n",
    "             bbox=dict(facecolor='gray', edgecolor='black', boxstyle='round,pad=0.2'))\n",
    "\n",
    "# Rotate x-axis labels if needed\n",
    "plt.tick_params(axis='x', labelsize=20)\n",
    "plt.tick_params(axis='y', labelsize=20)\n",
    "plt.legend(fontsize=18)\n",
    "# Save the plot to a file\n",
    "plt.savefig(os.path.join(\"classifier_analysis\", 'classifier_with_synthetic_by_pop.jpg'), bbox_inches='tight', dpi=500)\n",
    "\n",
    "# Display the plot\n",
    "plt.show()\n"
   ],
   "metadata": {
    "collapsed": false
   }
  },
  {
   "cell_type": "code",
   "execution_count": null,
   "outputs": [],
   "source": [
    "import pandas as pd\n",
    "import matplotlib.pyplot as plt\n",
    "import os\n",
    "SYNTHETIC_PERCENTAGE = 0.9\n",
    "\n",
    "# Filter the data for real_train_set\n",
    "real_train_data = sorted_df[sorted_df['synthetic_percentage'] == 0][\n",
    "    ['synthetic_percentage', \"ACB\", \"GWD\", \"ESN\", \"MSL\", \"YRI\", \"LWK\", \"ASW\", 'model_name']]\n",
    "\n",
    "# Filter the data for train_with_aug\n",
    "train_with_aug_data = sorted_df[sorted_df['synthetic_percentage'] == SYNTHETIC_PERCENTAGE][\n",
    "    ['synthetic_percentage', \"ACB\", \"GWD\", \"ESN\", \"MSL\", \"YRI\", \"LWK\", \"ASW\", 'model_name']]\n",
    "\n",
    "# Concatenate the filtered dataframes\n",
    "merged_data = pd.concat([real_train_data, train_with_aug_data])\n",
    "merged_data = merged_data.reset_index()\n",
    "# Convert population columns to numeric\n",
    "population_columns = [\"ACB\", \"GWD\", \"ESN\", \"MSL\", \"YRI\", \"LWK\", \"ASW\"]\n",
    "merged_data[population_columns] = merged_data[population_columns].apply(pd.to_numeric)\n",
    "\n",
    "\n",
    "# Create subplots with three columns\n",
    "fig, axes = plt.subplots(nrows=1, ncols=3, figsize=(40, 15), sharey=True)\n",
    "\n",
    "# Iterate over unique model names\n",
    "for i, model_name in enumerate(merged_data['model_name'].unique()):\n",
    "    # Compute the mean accuracy for each population\n",
    "    mean_accuracy_real_train = merged_data[merged_data['model_name'] == model_name][merged_data['synthetic_percentage'] == 0][population_columns].mean(axis=0)\n",
    "    mean_accuracy_train_with_aug = merged_data[merged_data['model_name'] == model_name][merged_data['synthetic_percentage'] == SYNTHETIC_PERCENTAGE][population_columns].mean(axis=0)\n",
    "    # Plot the histograms for train_with_aug_data in the corresponding subplot\n",
    "    axes[i].bar(population_columns, mean_accuracy_train_with_aug[population_columns],\n",
    "                alpha=0.5, label='Train with Augmentation 90%', color='blue', edgecolor='black')\n",
    "\n",
    "    # Plot the histograms for real_train_data in the corresponding subplot\n",
    "    axes[i].bar(population_columns, mean_accuracy_real_train[population_columns],\n",
    "                alpha=0.5, label='Real Train Set', color='yellow', edgecolor='black')\n",
    "\n",
    "    # Add labels and title to the current subplot\n",
    "    axes[i].set_xlabel('Population Name', fontsize=30)\n",
    "    axes[i].set_ylabel('Mean Accuracy', fontsize=30)\n",
    "    axes[i].set_title(model_name, fontsize=35, fontweight='bold', y=1.05)\n",
    "    axes[i].tick_params(axis='x', labelsize=30)\n",
    "    axes[i].tick_params(axis='y', labelsize=30)\n",
    "    axes[i].legend(fontsize=37, loc='upper left')\n",
    "\n",
    "    # Annotate the bars with mean accuracy values\n",
    "    for j, (mean_acc_real,mean_acc_fake)  in enumerate(zip(mean_accuracy_real_train[population_columns], mean_accuracy_train_with_aug[population_columns])):\n",
    "        real_pos, fake_pos = ('top', 'bottom') if mean_acc_fake > mean_acc_real else ('bottom', 'top')\n",
    "        axes[i].text(j, mean_acc_real, f'{mean_acc_real * 100:.2f}%', ha='center', va=real_pos, color='white', fontweight='bold', fontsize=35, bbox=dict(facecolor='black',  edgecolor='yellow', boxstyle='round,pad=0.05', linewidth=4), verticalalignment='baseline')\n",
    "        axes[i].text(j, mean_acc_fake, f'{mean_acc_fake * 100:.2f}%', ha='center', va=fake_pos, color='white', fontweight='bold', fontsize=35,bbox=dict(facecolor='black', edgecolor='blue', boxstyle='round,pad=0.05',             linewidth=4), verticalalignment='baseline')\n",
    "\n",
    "# Adjust the spacing between subplots\n",
    "plt.tight_layout()\n",
    "\n",
    "# Save the plot to a file\n",
    "output_dir = \"classifier_analysis\"\n",
    "filename = 'classifier_with_synthetic_by_pop.jpg'\n",
    "output_path = os.path.join(output_dir, filename)\n",
    "plt.savefig(output_path, bbox_inches='tight', dpi=300)\n",
    "\n",
    "# Display the plot\n",
    "plt.show()\n"
   ],
   "metadata": {
    "collapsed": false
   }
  },
  {
   "cell_type": "code",
   "execution_count": null,
   "outputs": [],
   "source": [],
   "metadata": {
    "collapsed": false
   }
  },
  {
   "cell_type": "code",
   "execution_count": null,
   "outputs": [],
   "source": [],
   "metadata": {
    "collapsed": false
   }
  }
 ],
 "metadata": {
  "kernelspec": {
   "display_name": "Python 3",
   "language": "python",
   "name": "python3"
  },
  "language_info": {
   "codemirror_mode": {
    "name": "ipython",
    "version": 2
   },
   "file_extension": ".py",
   "mimetype": "text/x-python",
   "name": "python",
   "nbconvert_exporter": "python",
   "pygments_lexer": "ipython2",
   "version": "2.7.6"
  }
 },
 "nbformat": 4,
 "nbformat_minor": 0
}
