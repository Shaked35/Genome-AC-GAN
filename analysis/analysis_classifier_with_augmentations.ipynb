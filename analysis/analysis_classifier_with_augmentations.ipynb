{
 "cells": [
  {
   "cell_type": "code",
   "execution_count": null,
   "outputs": [],
   "source": [
    "%matplotlib inline\n",
    "\n",
    "from utils.util import *\n"
   ],
   "metadata": {
    "collapsed": false
   }
  },
  {
   "cell_type": "code",
   "execution_count": null,
   "outputs": [],
   "source": [
    "results = pd.read_csv(\"../resource/classifiers_results_final.csv\")\n",
    "print(len(results))"
   ],
   "metadata": {
    "collapsed": false
   }
  },
  {
   "cell_type": "code",
   "execution_count": null,
   "outputs": [],
   "source": [
    "print(\"******* median *******\")\n",
    "print(results.groupby('synthetic_percentage')[\"accuracy\"].median())\n",
    "\n",
    "print(\"\\n******* mean *******\")\n",
    "print(results.groupby('synthetic_percentage')[\"accuracy\"].mean())\n",
    "\n",
    "print(\"\\n******* count *******\")\n",
    "print(results.groupby('synthetic_percentage')[\"accuracy\"].count())"
   ],
   "metadata": {
    "collapsed": false
   }
  },
  {
   "cell_type": "code",
   "execution_count": null,
   "outputs": [],
   "source": [
    "def compare_number_of_samples_mean(sorted_df):\n",
    "    fig, axes = plt.subplots(nrows=1, ncols=1, figsize=(18, 5))\n",
    "\n",
    "    # Plot accuracy on the first subplot\n",
    "    sns.pointplot(x='samples_and_percentage', y='accuracy', data=sorted_df, ax=axes, color='red')\n",
    "    axes.set_xlabel('Additional Synthetic Samples', fontsize=20)\n",
    "    axes.set_ylabel('Mean Accuracy', fontsize=20)\n",
    "    axes.grid(True, color='black')\n",
    "    axes.tick_params(axis='x', labelsize=16)\n",
    "    axes.tick_params(axis='y', labelsize=16)\n",
    "    # Adjust the layout of subplots\n",
    "    plt.tight_layout()\n",
    "    plt.savefig(os.path.join(\"classifier_analysis\", 'classifier_with_synthetic_compare_mean.jpg'), bbox_inches='tight',\n",
    "                dpi=250)\n",
    "    # Show the plot\n",
    "    plt.show()\n",
    "\n",
    "    # Calculate and return the maximum accuracy for each model\n",
    "    results = sorted_df.groupby('model_name')['accuracy'].max().to_dict()\n",
    "    return results\n"
   ],
   "metadata": {
    "collapsed": false
   }
  },
  {
   "cell_type": "code",
   "execution_count": null,
   "outputs": [],
   "source": [
    "def compare_number_of_samples(sorted_df, metric_name=\"accuracy\"):\n",
    "    # Get unique model names\n",
    "    model_names = sorted_df['model_name'].unique()\n",
    "\n",
    "    # Create a figure with subplots\n",
    "    fig, axes = plt.subplots(nrows=1, ncols=3, figsize=(90, 20))\n",
    "    axes = axes.flatten()  # Flatten the axes array for easier indexing\n",
    "    for i, model_name in enumerate(model_names):\n",
    "        ax = axes[i]  # Select the current subplot\n",
    "\n",
    "        # Filter the data for the current model name\n",
    "        subset = sorted_df[sorted_df['model_name'] == model_name]\n",
    "        subset = subset.sort_values('synthetic_percentage')\n",
    "        # Calculate the maximum accuracy for each samples_and_percentage\n",
    "        describe_values = subset.groupby('synthetic_percentage')[metric_name].describe()[['std', '50%']].sort_values('synthetic_percentage').to_records(index=True)\n",
    "        sns.boxplot(x='samples_and_percentage', y=metric_name, data=subset, ax=ax, color='gray', whiskerprops=dict(linestyle='dotted',linewidth=8.0, color='black'),capprops=dict(linewidth=8.0, color='black'),\n",
    "        boxprops=dict(linewidth=5),\n",
    "        medianprops=dict(linewidth=8, color='black'))\n",
    "        ax.set_xlabel('Additional Synthetic Samples', fontsize=55)\n",
    "        ax.set_ylabel('Accuracy', fontsize=55)\n",
    "        ax.set_title(f'{model_name}', fontsize=65, fontweight='bold', y=1.05)\n",
    "        ax.tick_params(axis='x', labelsize=50)\n",
    "        ax.tick_params(axis='y', labelsize=50)\n",
    "        ax.grid(False)\n",
    "        ax.set_ylim([0.25, 0.4])\n",
    "        ax.set_facecolor('white')\n",
    "        # Add value numbers to each box\n",
    "        for index, values in enumerate(describe_values):\n",
    "            # x_i = x if x == 0 else x - 1 if x > 1 else len(median_values) - 1\n",
    "            text_y_position = float(values[1]) + float(values[2])  # Move text up by 2mm (adjust this value as needed)\n",
    "            ax.text(index, text_y_position, f'{float(values[2]) * 100:.1f}%', ha='center', va='top', fontsize=55, color='white', fontweight='bold',\n",
    "                    bbox=dict(facecolor='black', edgecolor='black', boxstyle='round', pad=0.1))\n",
    "\n",
    "    # Adjust the layout of subplots\n",
    "    plt.tight_layout()\n",
    "    plt.savefig(os.path.join(\"classifier_analysis\", 'classifier_with_synthetic_compare_by_model.jpg'),\n",
    "                bbox_inches='tight', dpi=300)\n",
    "\n",
    "    # Show the plot\n",
    "    plt.show()\n",
    "\n",
    "    # Calculate and return the maximum accuracy for each model\n",
    "    results = sorted_df.groupby(['model_name','samples_and_percentage'])[metric_name].count().reset_index().groupby('model_name')[\"accuracy\"].mean().reset_index()\n",
    "    return results\n"
   ],
   "metadata": {
    "collapsed": false
   }
  },
  {
   "cell_type": "code",
   "execution_count": null,
   "outputs": [],
   "source": [
    "sorted_df = results.sort_values('synthetic_percentage')\n",
    "sorted_df[\"model_name\"] = sorted_df[\"model_name\"].replace(\n",
    "    {\"SVC\": \"SVC\", \"NeuralNet\": \"NN\", \"KNeighborsClassifier\": \"KNN\"})\n",
    "sorted_df[\"model_name\"] = pd.Categorical(sorted_df[\"model_name\"], categories=[\"SVC\", \"KNN\", \"NN\"], ordered=True)\n",
    "\n",
    "# Sort the DataFrame based on the new categorical order\n",
    "sorted_df = sorted_df.sort_values(\"model_name\")\n",
    "sorted_df[\"model_name\"]"
   ],
   "metadata": {
    "collapsed": false
   }
  },
  {
   "cell_type": "code",
   "execution_count": null,
   "outputs": [],
   "source": [
    "compare_number_of_samples(sorted_df, \"accuracy\")\n"
   ],
   "metadata": {
    "collapsed": false
   }
  },
  {
   "cell_type": "code",
   "execution_count": null,
   "outputs": [],
   "source": [
    "sorted_df[sorted_df[\"synthetic_percentage\"] == 0]"
   ],
   "metadata": {
    "collapsed": false
   }
  },
  {
   "cell_type": "code",
   "execution_count": null,
   "outputs": [],
   "source": [
    "compare_number_of_samples_mean(sorted_df)\n"
   ],
   "metadata": {
    "collapsed": false
   }
  },
  {
   "cell_type": "code",
   "execution_count": null,
   "outputs": [],
   "source": [
    "from scipy import stats\n",
    "\n",
    "\n",
    "def get_p_value(tmp_df, synthetic_percentage_add_compare, target_score=\"accuracy\"):\n",
    "    t_stat, p_value = stats.ttest_ind(tmp_df[tmp_df[\"synthetic_percentage\"] == 0][target_score],\n",
    "                                      tmp_df[tmp_df[\"synthetic_percentage\"].isin(synthetic_percentage_add_compare)][\n",
    "                                          target_score])\n",
    "    m_train = tmp_df[tmp_df[\"synthetic_percentage\"] == 0][target_score].mean()\n",
    "    m_train_s = tmp_df[tmp_df[\"synthetic_percentage\"].isin(synthetic_percentage_add_compare)][target_score].mean()\n",
    "    number_of_models = tmp_df[tmp_df[\"synthetic_percentage\"].isin(synthetic_percentage_add_compare)][\n",
    "        target_score].count()\n",
    "    print(\n",
    "        f\"p_value: {p_value}, mean_train:{m_train}, mean_train_s:{m_train_s}, number_of_models: {number_of_models}, number_of_models_real: {len(tmp_df[tmp_df['synthetic_percentage'] == 0][target_score])}\")"
   ],
   "metadata": {
    "collapsed": false
   }
  },
  {
   "cell_type": "code",
   "execution_count": null,
   "outputs": [],
   "source": [
    "get_p_value(sorted_df[sorted_df[\"model_name\"]==\"NN\"], [0.2], \"accuracy\")\n",
    "df = sorted_df"
   ],
   "metadata": {
    "collapsed": false
   }
  },
  {
   "cell_type": "code",
   "execution_count": null,
   "outputs": [],
   "source": [
    "# Filter the data for real_train_set\n",
    "real_train_data = sorted_df[sorted_df['synthetic_percentage'] == 0][\n",
    "    ['synthetic_percentage', \"ACB\", \"GWD\", \"ESN\", \"MSL\", \"YRI\", \"LWK\", \"ASW\"]]\n",
    "\n",
    "# Filter the data for train_with_aug\n",
    "train_with_aug_data = sorted_df[sorted_df['synthetic_percentage'] == 0.9][\n",
    "    ['synthetic_percentage', \"ACB\", \"GWD\", \"ESN\", \"MSL\", \"YRI\", \"LWK\", \"ASW\"]]\n",
    "\n",
    "# Concatenate the filtered dataframes\n",
    "merged_data = pd.concat([real_train_data, train_with_aug_data])\n",
    "\n",
    "# Compute the mean accuracy for each population\n",
    "mean_accuracy_real_train = merged_data[merged_data['synthetic_percentage'] == 0].mean(axis=0)\n",
    "mean_accuracy_train_with_aug = merged_data[merged_data['synthetic_percentage'] == 0.9].mean(axis=0)\n",
    "\n",
    "# Get the population names\n",
    "population_names = [\"ACB\", \"GWD\", \"ESN\", \"MSL\", \"YRI\", \"LWK\", \"ASW\"]\n",
    "\n",
    "# Set the figure size\n",
    "plt.figure(figsize=(18, 8))\n",
    "# Plot the histograms for train_with_aug_data\n",
    "plt.hist(population_names, bins=len(population_names), weights=mean_accuracy_train_with_aug[population_names],\n",
    "         alpha=0.5, label='Train with Augmentation 90%', color='blue', edgecolor='black')\n",
    "# Plot the histograms for real_train_data\n",
    "plt.hist(population_names, bins=len(population_names), weights=mean_accuracy_real_train[population_names],\n",
    "         alpha=0.5, label='Real Train Set', color='yellow', edgecolor='black')\n",
    "\n",
    "# Add labels and title\n",
    "plt.xlabel('Population Name', fontsize=22)\n",
    "plt.ylabel('Mean Accuracy', fontsize=22)\n",
    "\n",
    "# Add a legend\n",
    "plt.legend()\n",
    "\n",
    "pos = ['left', 'left', 'center', 'center', 'center', 'right', 'right']\n",
    "# Annotate the bars with mean accuracy values\n",
    "for i, mean_acc in enumerate(mean_accuracy_real_train[population_names]):\n",
    "    va = 'top' if i + 1 < len(population_names) else 'bottom'\n",
    "    plt.text(i, mean_acc, f'{mean_acc * 100:.2f}%', ha=pos[i], va=va, color='yellow', fontweight='bold', fontsize=21,\n",
    "             bbox=dict(facecolor='gray', edgecolor='black', boxstyle='round,pad=0.2'))\n",
    "for i, mean_acc in enumerate(mean_accuracy_train_with_aug[population_names]):\n",
    "    va = 'bottom' if i + 1 < len(population_names) else 'top'\n",
    "    plt.text(i, mean_acc, f'{mean_acc * 100:.2f}%', ha=pos[i], va=va, color='blue', fontweight='bold', fontsize=21,\n",
    "             bbox=dict(facecolor='gray', edgecolor='black', boxstyle='round,pad=0.2'))\n",
    "\n",
    "# Rotate x-axis labels if needed\n",
    "plt.tick_params(axis='x', labelsize=20)\n",
    "plt.tick_params(axis='y', labelsize=20)\n",
    "plt.legend(fontsize=18)\n",
    "# Save the plot to a file\n",
    "plt.savefig(os.path.join(\"classifier_analysis\", 'classifier_with_synthetic_by_pop.jpg'), bbox_inches='tight', dpi=500)\n",
    "\n",
    "# Display the plot\n",
    "plt.show()\n"
   ],
   "metadata": {
    "collapsed": false
   }
  },
  {
   "cell_type": "code",
   "execution_count": null,
   "outputs": [],
   "source": [
    "import pandas as pd\n",
    "import matplotlib.pyplot as plt\n",
    "import os\n",
    "\n",
    "SYNTHETIC_PERCENTAGE = 1\n",
    "\n",
    "# Filter the data for real_train_set\n",
    "real_train_data = sorted_df[sorted_df['synthetic_percentage'] == 0][\n",
    "    ['synthetic_percentage', \"ACB\", \"GWD\", \"ESN\", \"MSL\", \"YRI\", \"LWK\", \"ASW\", 'model_name']]\n",
    "\n",
    "# Filter the data for train_with_aug\n",
    "train_with_aug_data = sorted_df[sorted_df['synthetic_percentage'] == SYNTHETIC_PERCENTAGE][\n",
    "    ['synthetic_percentage', \"ACB\", \"GWD\", \"ESN\", \"MSL\", \"YRI\", \"LWK\", \"ASW\", 'model_name']]\n",
    "\n",
    "# Concatenate the filtered dataframes\n",
    "merged_data = pd.concat([real_train_data, train_with_aug_data])\n",
    "merged_data = merged_data.reset_index()\n",
    "# Convert population columns to numeric\n",
    "population_columns = [\"ACB\", \"GWD\", \"ESN\", \"MSL\", \"YRI\", \"LWK\", \"ASW\"]\n",
    "x_population_columns = [\"\"] + population_columns\n",
    "merged_data[population_columns] = merged_data[population_columns].apply(pd.to_numeric)\n",
    "\n",
    "# Create subplots with three columns\n",
    "fig, axes = plt.subplots(nrows=1, ncols=3, figsize=(50, 14), sharey=True)\n",
    "\n",
    "# Iterate over unique model names\n",
    "for i, model_name in enumerate(merged_data['model_name'].unique()):\n",
    "    # Compute the mean accuracy for each population\n",
    "    mean_accuracy_real_train = merged_data[merged_data['model_name'] == model_name][merged_data['synthetic_percentage'] == 0][population_columns].mean(axis=0)\n",
    "    mean_accuracy_train_with_aug = merged_data[merged_data['model_name'] == model_name][merged_data['synthetic_percentage'] == SYNTHETIC_PERCENTAGE][population_columns].mean(axis=0)\n",
    "\n",
    "    # Calculate the positions for bars\n",
    "    bar_width = 0.35\n",
    "    bar_positions_real = range(len(population_columns))\n",
    "    bar_positions_fake = [pos + bar_width for pos in bar_positions_real]\n",
    "\n",
    "    # Plot the histograms for train_with_aug_data in the corresponding subplot\n",
    "    axes[i].bar(bar_positions_fake, mean_accuracy_train_with_aug[population_columns],\n",
    "                width=bar_width, alpha=0.5, label='Augmented training set', color='blue', edgecolor='black')\n",
    "\n",
    "    # Plot the histograms for real_train_data in the corresponding subplot\n",
    "    axes[i].bar(bar_positions_real, mean_accuracy_real_train[population_columns],\n",
    "                width=bar_width, alpha=0.5, label='Original training set', color='red', edgecolor='black')\n",
    "\n",
    "    # Add labels and title to the current subplot\n",
    "    axes[i].set_xlabel('Population Name', fontsize=30)\n",
    "    axes[i].set_ylabel('Mean Accuracy', fontsize=30)\n",
    "    axes[i].set_title(model_name, fontsize=35, fontweight='bold', y=1.05)\n",
    "    axes[i].tick_params(axis='x', labelsize=30)\n",
    "    axes[i].tick_params(axis='y', labelsize=30)\n",
    "    axes[i].legend(fontsize=37, loc='upper left')\n",
    "    axes[i].set_xticklabels(x_population_columns, fontsize=30)\n",
    "\n",
    "    # Annotate the bars with mean accuracy values\n",
    "    for j, (mean_acc_real, mean_acc_fake) in enumerate(zip(mean_accuracy_real_train[population_columns], mean_accuracy_train_with_aug[population_columns])):\n",
    "        real_pos, fake_pos = ('top', 'bottom') if mean_acc_fake > mean_acc_real else ('bottom', 'top')\n",
    "        axes[i].text(bar_positions_real[j], mean_acc_real, f'{mean_acc_real * 100:.2f}%', ha='center', va=real_pos, color='white', fontweight='bold', fontsize=35, bbox=dict(facecolor='black', edgecolor='red', boxstyle='round,pad=0.05', linewidth=4), verticalalignment='baseline')\n",
    "        axes[i].text(bar_positions_fake[j], mean_acc_fake, f'{mean_acc_fake * 100:.2f}%', ha='center', va=fake_pos, color='white', fontweight='bold', fontsize=35, bbox=dict(facecolor='black', edgecolor='blue', boxstyle='round,pad=0.05', linewidth=4), verticalalignment='baseline')\n",
    "\n",
    "# Adjust the spacing between subplots\n",
    "plt.tight_layout()\n",
    "\n",
    "# Save the plot to a file\n",
    "output_dir = \"classifier_analysis\"\n",
    "filename = 'classifier_with_synthetic_by_pop.jpg'\n",
    "output_path = os.path.join(output_dir, filename)\n",
    "plt.savefig(output_path, bbox_inches='tight', dpi=300)\n",
    "\n",
    "# Display the plot\n",
    "plt.show()\n"
   ],
   "metadata": {
    "collapsed": false
   }
  },
  {
   "cell_type": "code",
   "execution_count": null,
   "outputs": [],
   "source": [
    "population_names"
   ],
   "metadata": {
    "collapsed": false
   }
  },
  {
   "cell_type": "code",
   "execution_count": null,
   "outputs": [],
   "source": [],
   "metadata": {
    "collapsed": false
   }
  }
 ],
 "metadata": {
  "kernelspec": {
   "display_name": "Python 3",
   "language": "python",
   "name": "python3"
  },
  "language_info": {
   "codemirror_mode": {
    "name": "ipython",
    "version": 2
   },
   "file_extension": ".py",
   "mimetype": "text/x-python",
   "name": "python",
   "nbconvert_exporter": "python",
   "pygments_lexer": "ipython2",
   "version": "2.7.6"
  }
 },
 "nbformat": 4,
 "nbformat_minor": 0
}
