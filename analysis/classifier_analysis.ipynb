{
 "cells": [
  {
   "cell_type": "code",
   "execution_count": 1,
   "metadata": {
    "collapsed": true
   },
   "outputs": [
    {
     "ename": "KeyboardInterrupt",
     "evalue": "",
     "output_type": "error",
     "traceback": [
      "\u001B[0;31m---------------------------------------------------------------------------\u001B[0m",
      "\u001B[0;31mKeyboardInterrupt\u001B[0m                         Traceback (most recent call last)",
      "Cell \u001B[0;32mIn[1], line 3\u001B[0m\n\u001B[1;32m      1\u001B[0m \u001B[38;5;28;01mfrom\u001B[39;00m \u001B[38;5;21;01mpathlib\u001B[39;00m \u001B[38;5;28;01mimport\u001B[39;00m Path\n\u001B[0;32m----> 3\u001B[0m \u001B[38;5;28;01mfrom\u001B[39;00m \u001B[38;5;21;01mutils\u001B[39;00m\u001B[38;5;21;01m.\u001B[39;00m\u001B[38;5;21;01mutil\u001B[39;00m \u001B[38;5;28;01mimport\u001B[39;00m \u001B[38;5;241m*\u001B[39m\n\u001B[1;32m      4\u001B[0m get_ipython()\u001B[38;5;241m.\u001B[39mrun_line_magic(\u001B[38;5;124m'\u001B[39m\u001B[38;5;124mmatplotlib\u001B[39m\u001B[38;5;124m'\u001B[39m, \u001B[38;5;124m'\u001B[39m\u001B[38;5;124minline\u001B[39m\u001B[38;5;124m'\u001B[39m)\n\u001B[1;32m      6\u001B[0m discriminator_folder \u001B[38;5;241m=\u001B[39m \u001B[38;5;124m\"\u001B[39m\u001B[38;5;124m../experiment_results/discriminator_0.8_test\u001B[39m\u001B[38;5;124m\"\u001B[39m\n",
      "File \u001B[0;32m~/code/GS-AC-GAN/utils/util.py:11\u001B[0m\n\u001B[1;32m      9\u001B[0m \u001B[38;5;28;01mimport\u001B[39;00m \u001B[38;5;21;01mnumpy\u001B[39;00m \u001B[38;5;28;01mas\u001B[39;00m \u001B[38;5;21;01mnp\u001B[39;00m\n\u001B[1;32m     10\u001B[0m \u001B[38;5;28;01mimport\u001B[39;00m \u001B[38;5;21;01mpandas\u001B[39;00m \u001B[38;5;28;01mas\u001B[39;00m \u001B[38;5;21;01mpd\u001B[39;00m\n\u001B[0;32m---> 11\u001B[0m \u001B[38;5;28;01mimport\u001B[39;00m \u001B[38;5;21;01mseaborn\u001B[39;00m \u001B[38;5;28;01mas\u001B[39;00m \u001B[38;5;21;01msns\u001B[39;00m\n\u001B[1;32m     12\u001B[0m \u001B[38;5;28;01mimport\u001B[39;00m \u001B[38;5;21;01mtensorflow\u001B[39;00m\n\u001B[1;32m     13\u001B[0m \u001B[38;5;28;01mfrom\u001B[39;00m \u001B[38;5;21;01mtensorflow\u001B[39;00m\u001B[38;5;21;01m.\u001B[39;00m\u001B[38;5;21;01mpython\u001B[39;00m\u001B[38;5;21;01m.\u001B[39;00m\u001B[38;5;21;01mkeras\u001B[39;00m\u001B[38;5;21;01m.\u001B[39;00m\u001B[38;5;21;01mmodels\u001B[39;00m \u001B[38;5;28;01mimport\u001B[39;00m Model\n",
      "File \u001B[0;32m~/miniconda3/envs/tensorflow_27/lib/python3.9/site-packages/seaborn/__init__.py:5\u001B[0m\n\u001B[1;32m      3\u001B[0m \u001B[38;5;28;01mfrom\u001B[39;00m \u001B[38;5;21;01m.\u001B[39;00m\u001B[38;5;21;01mutils\u001B[39;00m \u001B[38;5;28;01mimport\u001B[39;00m \u001B[38;5;241m*\u001B[39m  \u001B[38;5;66;03m# noqa: F401,F403\u001B[39;00m\n\u001B[1;32m      4\u001B[0m \u001B[38;5;28;01mfrom\u001B[39;00m \u001B[38;5;21;01m.\u001B[39;00m\u001B[38;5;21;01mpalettes\u001B[39;00m \u001B[38;5;28;01mimport\u001B[39;00m \u001B[38;5;241m*\u001B[39m  \u001B[38;5;66;03m# noqa: F401,F403\u001B[39;00m\n\u001B[0;32m----> 5\u001B[0m \u001B[38;5;28;01mfrom\u001B[39;00m \u001B[38;5;21;01m.\u001B[39;00m\u001B[38;5;21;01mrelational\u001B[39;00m \u001B[38;5;28;01mimport\u001B[39;00m \u001B[38;5;241m*\u001B[39m  \u001B[38;5;66;03m# noqa: F401,F403\u001B[39;00m\n\u001B[1;32m      6\u001B[0m \u001B[38;5;28;01mfrom\u001B[39;00m \u001B[38;5;21;01m.\u001B[39;00m\u001B[38;5;21;01mregression\u001B[39;00m \u001B[38;5;28;01mimport\u001B[39;00m \u001B[38;5;241m*\u001B[39m  \u001B[38;5;66;03m# noqa: F401,F403\u001B[39;00m\n\u001B[1;32m      7\u001B[0m \u001B[38;5;28;01mfrom\u001B[39;00m \u001B[38;5;21;01m.\u001B[39;00m\u001B[38;5;21;01mcategorical\u001B[39;00m \u001B[38;5;28;01mimport\u001B[39;00m \u001B[38;5;241m*\u001B[39m  \u001B[38;5;66;03m# noqa: F401,F403\u001B[39;00m\n",
      "File \u001B[0;32m~/miniconda3/envs/tensorflow_27/lib/python3.9/site-packages/seaborn/relational.py:17\u001B[0m\n\u001B[1;32m      8\u001B[0m \u001B[38;5;28;01mfrom\u001B[39;00m \u001B[38;5;21;01m.\u001B[39;00m\u001B[38;5;21;01m_oldcore\u001B[39;00m \u001B[38;5;28;01mimport\u001B[39;00m (\n\u001B[1;32m      9\u001B[0m     VectorPlotter,\n\u001B[1;32m     10\u001B[0m )\n\u001B[1;32m     11\u001B[0m \u001B[38;5;28;01mfrom\u001B[39;00m \u001B[38;5;21;01m.\u001B[39;00m\u001B[38;5;21;01mutils\u001B[39;00m \u001B[38;5;28;01mimport\u001B[39;00m (\n\u001B[1;32m     12\u001B[0m     locator_to_legend_entries,\n\u001B[1;32m     13\u001B[0m     adjust_legend_subtitles,\n\u001B[1;32m     14\u001B[0m     _default_color,\n\u001B[1;32m     15\u001B[0m     _deprecate_ci,\n\u001B[1;32m     16\u001B[0m )\n\u001B[0;32m---> 17\u001B[0m \u001B[38;5;28;01mfrom\u001B[39;00m \u001B[38;5;21;01m.\u001B[39;00m\u001B[38;5;21;01m_statistics\u001B[39;00m \u001B[38;5;28;01mimport\u001B[39;00m EstimateAggregator\n\u001B[1;32m     18\u001B[0m \u001B[38;5;28;01mfrom\u001B[39;00m \u001B[38;5;21;01m.\u001B[39;00m\u001B[38;5;21;01maxisgrid\u001B[39;00m \u001B[38;5;28;01mimport\u001B[39;00m FacetGrid, _facet_docs\n\u001B[1;32m     19\u001B[0m \u001B[38;5;28;01mfrom\u001B[39;00m \u001B[38;5;21;01m.\u001B[39;00m\u001B[38;5;21;01m_docstrings\u001B[39;00m \u001B[38;5;28;01mimport\u001B[39;00m DocstringComponents, _core_docs\n",
      "File \u001B[0;32m~/miniconda3/envs/tensorflow_27/lib/python3.9/site-packages/seaborn/_statistics.py:31\u001B[0m\n\u001B[1;32m     29\u001B[0m \u001B[38;5;28;01mimport\u001B[39;00m \u001B[38;5;21;01mpandas\u001B[39;00m \u001B[38;5;28;01mas\u001B[39;00m \u001B[38;5;21;01mpd\u001B[39;00m\n\u001B[1;32m     30\u001B[0m \u001B[38;5;28;01mtry\u001B[39;00m:\n\u001B[0;32m---> 31\u001B[0m     \u001B[38;5;28;01mfrom\u001B[39;00m \u001B[38;5;21;01mscipy\u001B[39;00m\u001B[38;5;21;01m.\u001B[39;00m\u001B[38;5;21;01mstats\u001B[39;00m \u001B[38;5;28;01mimport\u001B[39;00m gaussian_kde\n\u001B[1;32m     32\u001B[0m     _no_scipy \u001B[38;5;241m=\u001B[39m \u001B[38;5;28;01mFalse\u001B[39;00m\n\u001B[1;32m     33\u001B[0m \u001B[38;5;28;01mexcept\u001B[39;00m \u001B[38;5;167;01mImportError\u001B[39;00m:\n",
      "File \u001B[0;32m~/miniconda3/envs/tensorflow_27/lib/python3.9/site-packages/scipy/stats/__init__.py:485\u001B[0m\n\u001B[1;32m      1\u001B[0m \u001B[38;5;124;03m\"\"\"\u001B[39;00m\n\u001B[1;32m      2\u001B[0m \u001B[38;5;124;03m.. _statsrefmanual:\u001B[39;00m\n\u001B[1;32m      3\u001B[0m \n\u001B[0;32m   (...)\u001B[0m\n\u001B[1;32m    480\u001B[0m \n\u001B[1;32m    481\u001B[0m \u001B[38;5;124;03m\"\"\"\u001B[39;00m\n\u001B[1;32m    483\u001B[0m \u001B[38;5;28;01mfrom\u001B[39;00m \u001B[38;5;21;01m.\u001B[39;00m\u001B[38;5;21;01m_warnings_errors\u001B[39;00m \u001B[38;5;28;01mimport\u001B[39;00m (ConstantInputWarning, NearConstantInputWarning,\n\u001B[1;32m    484\u001B[0m                                DegenerateDataWarning, FitError)\n\u001B[0;32m--> 485\u001B[0m \u001B[38;5;28;01mfrom\u001B[39;00m \u001B[38;5;21;01m.\u001B[39;00m\u001B[38;5;21;01m_stats_py\u001B[39;00m \u001B[38;5;28;01mimport\u001B[39;00m \u001B[38;5;241m*\u001B[39m\n\u001B[1;32m    486\u001B[0m \u001B[38;5;28;01mfrom\u001B[39;00m \u001B[38;5;21;01m.\u001B[39;00m\u001B[38;5;21;01m_variation\u001B[39;00m \u001B[38;5;28;01mimport\u001B[39;00m variation\n\u001B[1;32m    487\u001B[0m \u001B[38;5;28;01mfrom\u001B[39;00m \u001B[38;5;21;01m.\u001B[39;00m\u001B[38;5;21;01mdistributions\u001B[39;00m \u001B[38;5;28;01mimport\u001B[39;00m \u001B[38;5;241m*\u001B[39m\n",
      "File \u001B[0;32m~/miniconda3/envs/tensorflow_27/lib/python3.9/site-packages/scipy/stats/_stats_py.py:39\u001B[0m\n\u001B[1;32m     36\u001B[0m \u001B[38;5;28;01mfrom\u001B[39;00m \u001B[38;5;21;01mnumpy\u001B[39;00m\u001B[38;5;21;01m.\u001B[39;00m\u001B[38;5;21;01mlib\u001B[39;00m \u001B[38;5;28;01mimport\u001B[39;00m NumpyVersion\n\u001B[1;32m     37\u001B[0m \u001B[38;5;28;01mfrom\u001B[39;00m \u001B[38;5;21;01mnumpy\u001B[39;00m\u001B[38;5;21;01m.\u001B[39;00m\u001B[38;5;21;01mtesting\u001B[39;00m \u001B[38;5;28;01mimport\u001B[39;00m suppress_warnings\n\u001B[0;32m---> 39\u001B[0m \u001B[38;5;28;01mfrom\u001B[39;00m \u001B[38;5;21;01mscipy\u001B[39;00m\u001B[38;5;21;01m.\u001B[39;00m\u001B[38;5;21;01mspatial\u001B[39;00m\u001B[38;5;21;01m.\u001B[39;00m\u001B[38;5;21;01mdistance\u001B[39;00m \u001B[38;5;28;01mimport\u001B[39;00m cdist\n\u001B[1;32m     40\u001B[0m \u001B[38;5;28;01mfrom\u001B[39;00m \u001B[38;5;21;01mscipy\u001B[39;00m\u001B[38;5;21;01m.\u001B[39;00m\u001B[38;5;21;01mndimage\u001B[39;00m \u001B[38;5;28;01mimport\u001B[39;00m _measurements\n\u001B[1;32m     41\u001B[0m \u001B[38;5;28;01mfrom\u001B[39;00m \u001B[38;5;21;01mscipy\u001B[39;00m\u001B[38;5;21;01m.\u001B[39;00m\u001B[38;5;21;01m_lib\u001B[39;00m\u001B[38;5;21;01m.\u001B[39;00m\u001B[38;5;21;01m_util\u001B[39;00m \u001B[38;5;28;01mimport\u001B[39;00m (check_random_state, MapWrapper,\n\u001B[1;32m     42\u001B[0m                               rng_integers, _rename_parameter, _contains_nan)\n",
      "File \u001B[0;32m~/miniconda3/envs/tensorflow_27/lib/python3.9/site-packages/scipy/spatial/__init__.py:105\u001B[0m\n\u001B[1;32m      1\u001B[0m \u001B[38;5;124;03m\"\"\"\u001B[39;00m\n\u001B[1;32m      2\u001B[0m \u001B[38;5;124;03m=============================================================\u001B[39;00m\n\u001B[1;32m      3\u001B[0m \u001B[38;5;124;03mSpatial algorithms and data structures (:mod:`scipy.spatial`)\u001B[39;00m\n\u001B[0;32m   (...)\u001B[0m\n\u001B[1;32m    102\u001B[0m \u001B[38;5;124;03m   QhullError\u001B[39;00m\n\u001B[1;32m    103\u001B[0m \u001B[38;5;124;03m\"\"\"\u001B[39;00m\n\u001B[0;32m--> 105\u001B[0m \u001B[38;5;28;01mfrom\u001B[39;00m \u001B[38;5;21;01m.\u001B[39;00m\u001B[38;5;21;01m_kdtree\u001B[39;00m \u001B[38;5;28;01mimport\u001B[39;00m \u001B[38;5;241m*\u001B[39m\n\u001B[1;32m    106\u001B[0m \u001B[38;5;28;01mfrom\u001B[39;00m \u001B[38;5;21;01m.\u001B[39;00m\u001B[38;5;21;01m_ckdtree\u001B[39;00m \u001B[38;5;28;01mimport\u001B[39;00m \u001B[38;5;241m*\u001B[39m\n\u001B[1;32m    107\u001B[0m \u001B[38;5;28;01mfrom\u001B[39;00m \u001B[38;5;21;01m.\u001B[39;00m\u001B[38;5;21;01m_qhull\u001B[39;00m \u001B[38;5;28;01mimport\u001B[39;00m \u001B[38;5;241m*\u001B[39m\n",
      "File \u001B[0;32m~/miniconda3/envs/tensorflow_27/lib/python3.9/site-packages/scipy/spatial/_kdtree.py:4\u001B[0m\n\u001B[1;32m      1\u001B[0m \u001B[38;5;66;03m# Copyright Anne M. Archibald 2008\u001B[39;00m\n\u001B[1;32m      2\u001B[0m \u001B[38;5;66;03m# Released under the scipy license\u001B[39;00m\n\u001B[1;32m      3\u001B[0m \u001B[38;5;28;01mimport\u001B[39;00m \u001B[38;5;21;01mnumpy\u001B[39;00m \u001B[38;5;28;01mas\u001B[39;00m \u001B[38;5;21;01mnp\u001B[39;00m\n\u001B[0;32m----> 4\u001B[0m \u001B[38;5;28;01mfrom\u001B[39;00m \u001B[38;5;21;01m.\u001B[39;00m\u001B[38;5;21;01m_ckdtree\u001B[39;00m \u001B[38;5;28;01mimport\u001B[39;00m cKDTree, cKDTreeNode\n\u001B[1;32m      6\u001B[0m __all__ \u001B[38;5;241m=\u001B[39m [\u001B[38;5;124m'\u001B[39m\u001B[38;5;124mminkowski_distance_p\u001B[39m\u001B[38;5;124m'\u001B[39m, \u001B[38;5;124m'\u001B[39m\u001B[38;5;124mminkowski_distance\u001B[39m\u001B[38;5;124m'\u001B[39m,\n\u001B[1;32m      7\u001B[0m            \u001B[38;5;124m'\u001B[39m\u001B[38;5;124mdistance_matrix\u001B[39m\u001B[38;5;124m'\u001B[39m,\n\u001B[1;32m      8\u001B[0m            \u001B[38;5;124m'\u001B[39m\u001B[38;5;124mRectangle\u001B[39m\u001B[38;5;124m'\u001B[39m, \u001B[38;5;124m'\u001B[39m\u001B[38;5;124mKDTree\u001B[39m\u001B[38;5;124m'\u001B[39m]\n\u001B[1;32m     11\u001B[0m \u001B[38;5;28;01mdef\u001B[39;00m \u001B[38;5;21mminkowski_distance_p\u001B[39m(x, y, p\u001B[38;5;241m=\u001B[39m\u001B[38;5;241m2\u001B[39m):\n",
      "File \u001B[0;32m_ckdtree.pyx:10\u001B[0m, in \u001B[0;36minit scipy.spatial._ckdtree\u001B[0;34m()\u001B[0m\n",
      "File \u001B[0;32m<frozen importlib._bootstrap>:1002\u001B[0m, in \u001B[0;36m_find_and_load\u001B[0;34m(name, import_)\u001B[0m\n",
      "\u001B[0;31mKeyboardInterrupt\u001B[0m: "
     ]
    }
   ],
   "source": [
    "from pathlib import Path\n",
    "\n",
    "from utils.util import *\n",
    "%matplotlib inline\n",
    "\n",
    "discriminator_folder = \"../experiment_results/discriminator_0.8_test\"\n",
    "csv_name = \"discriminator_pred_on_test.csv\"\n",
    "output_dir = \"classifier_analysis\"\n",
    "\n",
    "Path(output_dir).mkdir(parents=True, exist_ok=True)"
   ]
  },
  {
   "cell_type": "code",
   "execution_count": null,
   "outputs": [],
   "source": [
    "experiments = [ \"categorical_crossentropy\", \"polyloss_ce_01\"]\n",
    "experiments_rename = [ \"categorical_crossentropy\", \"Polyloss_CE\"]"
   ],
   "metadata": {
    "collapsed": false
   }
  },
  {
   "cell_type": "code",
   "execution_count": null,
   "outputs": [],
   "source": [
    "\n",
    "import matplotlib.pyplot as plt\n",
    "\n",
    "\n",
    "def plot_metrics(experiments):\n",
    "    # Set up figure and axes\n",
    "    fig, ax = plt.subplots(nrows=1, ncols=2, figsize=(40, 20))\n",
    "\n",
    "    # Plot accuracy and precision for each algorithm\n",
    "    for i, experiments_name in enumerate(experiments):\n",
    "        df = pd.read_csv(f\"../{os.path.join(DEFAULT_RESULTS_FOLDER, experiments_name, DISCRIMINATOR_METRICS_FILE)}\")\n",
    "        Q1 = df.quantile(0.05)\n",
    "        Q3 = df.quantile(0.95)\n",
    "        IQR = Q3 - Q1\n",
    "\n",
    "        df = df[~((df < (Q1 -  IQR)) | (df > (Q3 +  IQR))).any(axis=1)]\n",
    "        x = df[\"epoch\"]\n",
    "\n",
    "        # Compute cumulative average every 3 epochs\n",
    "        df[\"Accuracy_cumavg\"] = df[\"Accuracy\"].rolling(3).mean()\n",
    "        df[\"F1_score_cumavg\"] = df[\"F1-score\"].rolling(3).mean()\n",
    "\n",
    "        # Get the color of the line used for the experiment\n",
    "        color = ax[0]._get_lines.get_next_color()\n",
    "\n",
    "        # Add regression line for accuracy\n",
    "        # slope_acc, intercept_acc = np.polyfit(x, df[\"Accuracy\"], 1)\n",
    "        ax[0].plot(x, df[\"Accuracy_cumavg\"], label=f\"{experiments_rename[i]}\", color=color, linestyle='--')\n",
    "        coefficients = np.polyfit(x, df[\"Accuracy\"], 4)\n",
    "        p = np.poly1d(coefficients)\n",
    "        ax[0].plot(x, p(x), color=color, linewidth=4)\n",
    "\n",
    "        # Add regression line for precision\n",
    "        ax[1].plot(x, df[\"F1_score_cumavg\"], label=f\"{experiments_rename[i]}\", color=color, linestyle='--')\n",
    "        coefficients = np.polyfit(x, df[\"F1-score\"], 4)\n",
    "        p = np.poly1d(coefficients)\n",
    "        ax[1].plot(x, p(x), color=color, linewidth=4)\n",
    "\n",
    "        ax[0].legend(fontsize=14)\n",
    "        ax[0].set_xlabel(\"Epoch\", fontsize=20)\n",
    "        ax[0].set_ylabel(\"Accuracy\", fontsize=20)\n",
    "\n",
    "        ax[1].legend(fontsize=14)\n",
    "        ax[1].set_xlabel(\"Epoch\", fontsize=20)\n",
    "        ax[1].set_ylabel(\"F1-score\", fontsize=20)\n",
    "\n",
    "    ax[0].set_facecolor('black')\n",
    "    ax[1].set_facecolor('black')\n",
    "    plt.savefig(os.path.join(output_dir, \"discriminator_class_metrics.jpg\"))\n",
    "    plt.show()\n"
   ],
   "metadata": {
    "collapsed": false
   }
  },
  {
   "cell_type": "code",
   "execution_count": null,
   "outputs": [],
   "source": [
    "plot_metrics(experiments)"
   ],
   "metadata": {
    "collapsed": false
   }
  },
  {
   "cell_type": "code",
   "execution_count": null,
   "outputs": [],
   "source": [
    "plot_classifications_confusion_matrix(['../experiment_results/categorical_crossentropy/discriminator_pred_on_test.csv','../GS-AC-GAN/experiment_results/polyloss_ce_01/discriminator_pred_on_test.csv'], output_dir, experiments_rename)"
   ],
   "metadata": {
    "collapsed": false
   }
  },
  {
   "cell_type": "code",
   "execution_count": null,
   "outputs": [],
   "source": [
    "def get_last_metrics(experiments):\n",
    "    last_metrics_dfs = []\n",
    "    for i, experiments_name in enumerate(experiments):\n",
    "        df = pd.read_csv(f\"../{os.path.join(DEFAULT_RESULTS_FOLDER, experiments_name, DISCRIMINATOR_METRICS_FILE)}\")\n",
    "        df = df.tail(1)\n",
    "        df = pd.DataFrame(df.mean()).T\n",
    "        df[\"experiments_name\"] = experiments_rename[i]\n",
    "        last_metrics_dfs.append(df)\n",
    "    catboost_results = pd.read_csv(os.path.join(output_dir, \"catboost_classification_results.csv\"))\n",
    "    catboost_results[\"experiments_name\"] = \"CatBoostClassifier\"\n",
    "    last_metrics_dfs.append(catboost_results.tail(1))\n",
    "    return pd.concat(last_metrics_dfs, ignore_index=True)\n",
    "\n",
    "all_experiments_scores = get_last_metrics(experiments)\n",
    "all_experiments_scores.set_index('experiments_name', inplace=True)\n",
    "all_experiments_scores.drop([\"epoch\", \"Jaccard Similarity Coefficient\", \"Recall\", \"ROC AUC\", \"Precision\"], inplace=True, axis=1)\n",
    "all_experiments_scores = all_experiments_scores.round(4)\n",
    "\n",
    "df_transposed = all_experiments_scores.transpose()\n",
    "\n",
    "# plot the bar chart\n",
    "ax = df_transposed.plot(kind='bar', figsize=(28,8), width=0.9,  fontsize=16)\n",
    "\n",
    "# set labels\n",
    "ax.set_title('Performance of experiments - average recent epochs',  fontsize=22)\n",
    "ax.set_xlabel('Score Type')\n",
    "ax.set_ylabel('Score')\n",
    "\n",
    "# show the legend\n",
    "ax.legend(loc='center left', bbox_to_anchor=(1.0, 0.5))\n",
    "\n",
    "# add numbers to bars\n",
    "for i, rect in enumerate(ax.containers):\n",
    "    ax.bar_label(rect, labels=all_experiments_scores.iloc[i].astype(str), fontsize=16)\n",
    "\n",
    "plt.savefig(os.path.join(output_dir,\"discriminator_compare_catboost\"))\n",
    "plt.show()"
   ],
   "metadata": {
    "collapsed": false
   }
  }
 ],
 "metadata": {
  "kernelspec": {
   "display_name": "Python 3",
   "language": "python",
   "name": "python3"
  },
  "language_info": {
   "codemirror_mode": {
    "name": "ipython",
    "version": 2
   },
   "file_extension": ".py",
   "mimetype": "text/x-python",
   "name": "python",
   "nbconvert_exporter": "python",
   "pygments_lexer": "ipython2",
   "version": "2.7.6"
  }
 },
 "nbformat": 4,
 "nbformat_minor": 0
}
