{
 "cells": [
  {
   "cell_type": "code",
   "execution_count": 1,
   "metadata": {
    "collapsed": true
   },
   "outputs": [],
   "source": [
    "from utils.util import *\n",
    "\n",
    "real_data = load_real_data(extra_data_path=f\"../{REAL_EXTRA_DATA_PATH}\", hapt_genotypes_path=f\"../{REAL_10K_SNP_1000G_PATH}\")"
   ]
  },
  {
   "cell_type": "code",
   "execution_count": 2,
   "outputs": [],
   "source": [
    "real_data['Sample Population'] = real_data.groupby('Sample name')['Superpopulation code'].transform('first')\n",
    "real_data['Sample ID'] = real_data['Sample name'] + '_' + real_data['Sample Population']\n",
    "from sklearn.model_selection import GroupShuffleSplit\n",
    "\n",
    "splitter = GroupShuffleSplit(n_splits=1, test_size=0.2, random_state=42)\n",
    "train_indices, test_indices = next(splitter.split(real_data, groups=real_data['Sample ID']))\n",
    "train_data = real_data.iloc[train_indices].reset_index(drop=True)\n",
    "test_data = real_data.iloc[test_indices].reset_index(drop=True)"
   ],
   "metadata": {
    "collapsed": false
   }
  },
  {
   "cell_type": "code",
   "execution_count": 3,
   "outputs": [],
   "source": [
    "test_data.to_csv(\"../resource/test_0.2_super_pop.csv\", index=False)\n",
    "train_data.to_csv(\"../resource/train_0.8_super_pop.csv\", index=False)"
   ],
   "metadata": {
    "collapsed": false
   }
  }
 ],
 "metadata": {
  "kernelspec": {
   "display_name": "Python 3",
   "language": "python",
   "name": "python3"
  },
  "language_info": {
   "codemirror_mode": {
    "name": "ipython",
    "version": 2
   },
   "file_extension": ".py",
   "mimetype": "text/x-python",
   "name": "python",
   "nbconvert_exporter": "python",
   "pygments_lexer": "ipython2",
   "version": "2.7.6"
  }
 },
 "nbformat": 4,
 "nbformat_minor": 0
}
