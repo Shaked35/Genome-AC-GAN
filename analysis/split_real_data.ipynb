{
 "cells": [
  {
   "cell_type": "code",
   "execution_count": 1,
   "metadata": {
    "collapsed": true
   },
   "outputs": [
    {
     "name": "stderr",
     "output_type": "stream",
     "text": [
      "<frozen importlib._bootstrap>:228: RuntimeWarning: scipy._lib.messagestream.MessageStream size changed, may indicate binary incompatibility. Expected 56 from C header, got 64 from PyObject\n"
     ]
    },
    {
     "name": "stdout",
     "output_type": "stream",
     "text": [
      "            0        1  2  3  4  5  6  7  8  9  ...  10001  Sample name   \n",
      "1                                               ...                       \n",
      "HG00096  Real  HG00096  0  0  0  0  1  0  1  0  ...      0      HG00096  \\\n",
      "HG00096  Real  HG00096  0  0  0  0  1  0  1  0  ...      0      HG00096   \n",
      "HG00097  Real  HG00097  0  0  0  0  1  0  1  0  ...      0      HG00097   \n",
      "HG00097  Real  HG00097  1  0  0  0  0  1  1  0  ...      0      HG00097   \n",
      "HG00099  Real  HG00099  0  0  0  0  1  0  1  0  ...      0      HG00099   \n",
      "...       ...      ... .. .. .. .. .. .. .. ..  ...    ...          ...   \n",
      "NA21142  Real  NA21142  0  0  0  0  0  0  1  0  ...      0      NA21142   \n",
      "NA21143  Real  NA21143  0  0  1  0  0  0  1  0  ...      0      NA21143   \n",
      "NA21143  Real  NA21143  1  0  0  0  0  1  1  0  ...      0      NA21143   \n",
      "NA21144  Real  NA21144  0  0  1  0  0  0  1  0  ...      0      NA21144   \n",
      "NA21144  Real  NA21144  0  0  1  0  0  0  1  0  ...      0      NA21144   \n",
      "\n",
      "            Sex  Biosample ID  Population code  Population name   \n",
      "1                                                                 \n",
      "HG00096    male    SAME123268              GBR          British  \\\n",
      "HG00096    male    SAME123268              GBR          British   \n",
      "HG00097  female    SAME123267              GBR          British   \n",
      "HG00097  female    SAME123267              GBR          British   \n",
      "HG00099  female    SAME123271              GBR          British   \n",
      "...         ...           ...              ...              ...   \n",
      "NA21142  female    SAME123344              GIH         Gujarati   \n",
      "NA21143  female    SAME123359              GIH         Gujarati   \n",
      "NA21143  female    SAME123359              GIH         Gujarati   \n",
      "NA21144  female    SAME124511              GIH         Gujarati   \n",
      "NA21144  female    SAME124511              GIH         Gujarati   \n",
      "\n",
      "         Superpopulation code  Superpopulation name  Population elastic ID   \n",
      "1                                                                            \n",
      "HG00096                   EUR     European Ancestry                    GBR  \\\n",
      "HG00096                   EUR     European Ancestry                    GBR   \n",
      "HG00097                   EUR     European Ancestry                    GBR   \n",
      "HG00097                   EUR     European Ancestry                    GBR   \n",
      "HG00099                   EUR     European Ancestry                    GBR   \n",
      "...                       ...                   ...                    ...   \n",
      "NA21142                   SAS  South Asian Ancestry                    GIH   \n",
      "NA21143                   SAS  South Asian Ancestry                    GIH   \n",
      "NA21143                   SAS  South Asian Ancestry                    GIH   \n",
      "NA21144                   SAS  South Asian Ancestry                    GIH   \n",
      "NA21144                   SAS  South Asian Ancestry                    GIH   \n",
      "\n",
      "                                          Data collections  \n",
      "1                                                           \n",
      "HG00096  1000 Genomes on GRCh38,1000 Genomes 30x on GRC...  \n",
      "HG00096  1000 Genomes on GRCh38,1000 Genomes 30x on GRC...  \n",
      "HG00097  1000 Genomes on GRCh38,1000 Genomes 30x on GRC...  \n",
      "HG00097  1000 Genomes on GRCh38,1000 Genomes 30x on GRC...  \n",
      "HG00099  1000 Genomes on GRCh38,1000 Genomes 30x on GRC...  \n",
      "...                                                    ...  \n",
      "NA21142  1000 Genomes on GRCh38,1000 Genomes 30x on GRC...  \n",
      "NA21143  1000 Genomes on GRCh38,1000 Genomes 30x on GRC...  \n",
      "NA21143  1000 Genomes on GRCh38,1000 Genomes 30x on GRC...  \n",
      "NA21144  1000 Genomes on GRCh38,1000 Genomes 30x on GRC...  \n",
      "NA21144  1000 Genomes on GRCh38,1000 Genomes 30x on GRC...  \n",
      "\n",
      "[5008 rows x 10011 columns]\n"
     ]
    }
   ],
   "source": [
    "from utils.util import *\n",
    "\n",
    "real_data = load_real_data(extra_data_path=f\"../{REAL_EXTRA_DATA_PATH}\", hapt_genotypes_path=f\"../{REAL_10K_SNP_1000G_PATH}\")"
   ]
  },
  {
   "cell_type": "code",
   "execution_count": 4,
   "outputs": [],
   "source": [
    "real_data['Sample Population'] = real_data.groupby('Sample name')['Population code'].transform('first')\n",
    "real_data['Sample ID'] = real_data['Sample name'] + '_' + real_data['Sample Population']\n",
    "from sklearn.model_selection import GroupShuffleSplit\n",
    "\n",
    "splitter = GroupShuffleSplit(n_splits=1, test_size=0.2, random_state=42)\n",
    "train_indices, test_indices = next(splitter.split(real_data, groups=real_data['Sample ID']))\n",
    "train_data = real_data.iloc[train_indices].reset_index(drop=True)\n",
    "test_data = real_data.iloc[test_indices].reset_index(drop=True)"
   ],
   "metadata": {
    "collapsed": false
   }
  },
  {
   "cell_type": "code",
   "execution_count": 5,
   "outputs": [],
   "source": [
    "test_data.to_csv(\"../resource/test_0.2_sub_pop.csv\", index=False)\n",
    "train_data.to_csv(\"../resource/train_0.8_sub_pop.csv\", index=False)"
   ],
   "metadata": {
    "collapsed": false
   }
  },
  {
   "cell_type": "code",
   "execution_count": null,
   "outputs": [],
   "source": [],
   "metadata": {
    "collapsed": false
   }
  }
 ],
 "metadata": {
  "kernelspec": {
   "display_name": "Python 3",
   "language": "python",
   "name": "python3"
  },
  "language_info": {
   "codemirror_mode": {
    "name": "ipython",
    "version": 2
   },
   "file_extension": ".py",
   "mimetype": "text/x-python",
   "name": "python",
   "nbconvert_exporter": "python",
   "pygments_lexer": "ipython2",
   "version": "2.7.6"
  }
 },
 "nbformat": 4,
 "nbformat_minor": 0
}
