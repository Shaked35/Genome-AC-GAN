{
 "cells": [
  {
   "cell_type": "code",
   "execution_count": null,
   "metadata": {
    "collapsed": true
   },
   "outputs": [],
   "source": [
    "from pathlib import Path\n",
    "from utils.util import *\n",
    "import plotly.express as px\n",
    "output_dir = \"data_analysis\"\n",
    "Path(output_dir).mkdir(parents=True, exist_ok=True)\n",
    "real_data_1000_genome = load_real_data(hapt_genotypes_path=f\"../{REAL_10K_SNP_1000G_PATH}\",\n",
    "                                       extra_data_path=f\"../{REAL_EXTRA_DATA_PATH}\")\n",
    "real_data_1000_genome = real_data_1000_genome[\n",
    "    ~real_data_1000_genome['Superpopulation code'].str.contains(',', na=False)]"
   ]
  },
  {
   "cell_type": "code",
   "execution_count": null,
   "outputs": [],
   "source": [
    "import pandas as pd\n",
    "\n",
    "# Assuming you have a DataFrame named 'df' containing the sample data\n",
    "# Count the number of unique Population codes within each Superpopulation code\n",
    "population_counts = real_data_1000_genome.groupby('Superpopulation code')['Population code'].nunique().reset_index()\n",
    "population_counts = population_counts.rename(columns={'Superpopulation code': 'Superpopulation', 'Population code': 'Population Count'})\n",
    "\n",
    "# Concatenate all Population codes within each Superpopulation code, separated by comma\n",
    "population_list = real_data_1000_genome.groupby('Superpopulation code')['Population code'].unique().reset_index()\n",
    "population_counts['Population Codes'] = population_list['Population code'].apply(lambda x: ', '.join(x))\n",
    "\n",
    "# Count the number of unique Superpopulation codes\n",
    "superpopulation_count = real_data_1000_genome['Superpopulation code'].nunique()\n",
    "\n",
    "# Create the table\n",
    "table = pd.DataFrame({\n",
    "    'Superpopulation': population_counts['Superpopulation'],\n",
    "    'Population Count': population_counts['Population Count'],\n",
    "    'Population Codes': population_counts['Population Codes']\n",
    "})\n",
    "\n",
    "counts = pd.DataFrame(real_data_1000_genome.groupby('Superpopulation code').count()[0])\n",
    "print(\"pop counts by national: \",pd.DataFrame(real_data_1000_genome.groupby('Population code').count()[0]))\n",
    "counts[\"Superpopulation\"] = counts.index\n",
    "table = pd.merge(table, counts, on='Superpopulation', how='left')\n",
    "\n",
    "mean_by_pop = pd.DataFrame(pd.DataFrame(real_data_1000_genome.groupby(['Superpopulation code', 'Population code']).count()[0]).groupby('Superpopulation code').mean()[0]).round(2)\n",
    "mean_by_pop[\"Superpopulation\"] = mean_by_pop.index\n",
    "table = pd.merge(table, mean_by_pop, on='Superpopulation', how='left')\n",
    "\n",
    "table = table.rename(columns={'Superpopulation': '$\\\\bf{Continental}$ $\\\\bf{Populations}$', 'Population Count': '$\\\\bf{National}$ $\\\\bf{Count}$', 'Population Codes': '$\\\\bf{National}$ $\\\\bf{Populations}$', \"0_x\": '$\\\\bf{Continental}$ #$\\\\bf{Haplotypes}$', \"0_y\": '$\\\\bf{National}$ $\\\\bf{Mean}$ #$\\\\bf{Haplotypes}$'})\n",
    "\n",
    "# Display the table\n",
    "print(table)\n"
   ],
   "metadata": {
    "collapsed": false
   }
  },
  {
   "cell_type": "code",
   "execution_count": null,
   "outputs": [],
   "source": [
    "import pandas as pd\n",
    "import matplotlib.pyplot as plt\n",
    "\n",
    "# Assuming you have a DataFrame named 'table' containing the data\n",
    "# Create a table visualization\n",
    "fig, ax = plt.subplots(figsize=(12, 1.7))\n",
    "ax.axis('off')  # Hide axis\n",
    "table_plot = ax.table(cellText=table.values, colLabels=table.columns, cellLoc='center', loc='center')\n",
    "\n",
    "# Set table properties\n",
    "table_plot.auto_set_font_size(False)\n",
    "table_plot.set_fontsize(12)\n",
    "table_plot.scale(1.2, 1.2)\n",
    "\n",
    "# Adjust the width of the 'Population Codes' column\n",
    "column_widths = [0.15, 0.3, 0.2, 0.2, 0.2]  # Adjust the values as needed\n",
    "for i, width in enumerate(column_widths):\n",
    "    table_plot.auto_set_column_width([i])\n",
    "    table_plot.get_celld()[(0, i)].set_width(width)\n",
    "\n",
    "\n",
    "\n",
    "# Save the table as a JPG image\n",
    "plt.savefig(os.path.join(output_dir, 'table.jpg'), bbox_inches='tight', pad_inches=0.5, dpi=300)\n"
   ],
   "metadata": {
    "collapsed": false
   }
  },
  {
   "cell_type": "code",
   "execution_count": null,
   "outputs": [],
   "source": [
    "sns.set(style=\"whitegrid\", rc={\"figure.figsize\": (20, 10)})\n",
    "\n",
    "\n",
    "def plot_number_of_samples(target_column_name: str, output_path: str):\n",
    "    ax = sns.countplot(x=target_column_name, data=real_data_1000_genome)\n",
    "    plt.xlabel(target_column_name)\n",
    "    plt.ylabel(\"Number of Samples\")\n",
    "    plt.title(\"Number of Samples by \" + target_column_name)\n",
    "\n",
    "    # Add count values to the plot\n",
    "    for p in ax.patches:\n",
    "        ax.annotate(format(p.get_height(), '.0f'), (p.get_x() + p.get_width() / 2., p.get_height()),\n",
    "                    ha='center', va='center', xytext=(0, 10), textcoords='offset points')\n",
    "    plt.savefig(output_path)\n",
    "    plt.show()"
   ],
   "metadata": {
    "collapsed": false
   }
  },
  {
   "cell_type": "code",
   "execution_count": null,
   "outputs": [],
   "source": [
    "plot_number_of_samples(\"Superpopulation code\", output_path=os.path.join(output_dir, \"super_population_distribution.jpg\"))"
   ],
   "metadata": {
    "collapsed": false
   }
  },
  {
   "cell_type": "code",
   "execution_count": null,
   "outputs": [],
   "source": [
    "plot_number_of_samples(\"Population code\", output_path=os.path.join(output_dir, \"sub_population_distribution.jpg\"))"
   ],
   "metadata": {
    "collapsed": false
   }
  },
  {
   "cell_type": "code",
   "execution_count": null,
   "outputs": [],
   "source": [
    "genotypes_ids = get_relevant_columns(input_df=real_data_1000_genome, input_columns=[])\n",
    "# genotypes_ids.pop(0)\n",
    "# genotypes_ids.pop(0)\n",
    "print(f\"Number of SNPs: {len(genotypes_ids)}\")"
   ],
   "metadata": {
    "collapsed": false
   }
  },
  {
   "cell_type": "code",
   "execution_count": null,
   "outputs": [],
   "source": [
    "def print_frequency(current_df, target_column, title):\n",
    "    rows = []\n",
    "    for pop in current_df[target_column].unique():\n",
    "        tmp_df = current_df[current_df[target_column] == pop]\n",
    "        uniques, counts = np.unique(tmp_df[genotypes_ids], return_counts=True)\n",
    "        tmp_percentages = dict(zip(uniques, 100 * counts / (len(tmp_df[genotypes_ids]) * len(genotypes_ids))))\n",
    "        # tmp_percentages = {key: f\"{str(round(values, 2))}%\" for key, values in tmp_percentages.items()}\n",
    "        tmp_percentages = {key: round(values, 2) for key, values in tmp_percentages.items()}\n",
    "        tmp_percentages[\"pop\"] = pop\n",
    "        rows.append(tmp_percentages)\n",
    "    # print(\"\\033[91m \\033[1m \", title, \"\\033[0m\")\n",
    "    # print(pd.DataFrame(rows).plot())\n",
    "    df = pd.DataFrame(rows)\n",
    "    df.set_index('pop', inplace=True)\n",
    "    df.plot.bar()\n"
   ],
   "metadata": {
    "collapsed": false
   }
  },
  {
   "cell_type": "markdown",
   "source": [
    "Allele Frequency"
   ],
   "metadata": {
    "collapsed": false
   }
  },
  {
   "cell_type": "code",
   "execution_count": null,
   "outputs": [],
   "source": [
    "print_frequency(current_df=real_data_1000_genome, target_column=0, title=\"allele frequencies all\")"
   ],
   "metadata": {
    "collapsed": false
   }
  },
  {
   "cell_type": "code",
   "execution_count": null,
   "outputs": [],
   "source": [
    "print_frequency(current_df=real_data_1000_genome, target_column=\"Superpopulation code\",\n",
    "                title=\"allele frequencies by Superpopulation code\")"
   ],
   "metadata": {
    "collapsed": false
   }
  },
  {
   "cell_type": "code",
   "execution_count": null,
   "outputs": [],
   "source": [
    "print_frequency(current_df=real_data_1000_genome, target_column=\"Population code\",\n",
    "                title=\"allele frequencies by Population code\")"
   ],
   "metadata": {
    "collapsed": false
   }
  },
  {
   "cell_type": "markdown",
   "source": [
    "PCA"
   ],
   "metadata": {
    "collapsed": false
   }
  },
  {
   "cell_type": "code",
   "execution_count": null,
   "outputs": [],
   "source": [
    "n_components = 2\n",
    "pca = PCA(n_components=n_components)\n",
    "components = pca.fit_transform(real_data_1000_genome[genotypes_ids])"
   ],
   "metadata": {
    "collapsed": false
   }
  },
  {
   "cell_type": "code",
   "execution_count": null,
   "outputs": [],
   "source": [
    "fig = px.scatter(components, x=0, y=1, color=real_data_1000_genome[\"Superpopulation code\"],\n",
    "                 title=\"PCA By Super Population\")\n",
    "fig.show()"
   ],
   "metadata": {
    "collapsed": false
   }
  },
  {
   "cell_type": "code",
   "execution_count": null,
   "outputs": [],
   "source": [
    "fig = px.scatter(components, x=0, y=1, color=real_data_1000_genome[\"Population code\"],\n",
    "                 title=\"PCA By Population\")\n",
    "fig.show()"
   ],
   "metadata": {
    "collapsed": false
   }
  },
  {
   "cell_type": "code",
   "execution_count": null,
   "outputs": [],
   "source": [
    "n_components = 2\n",
    "pca = PCA(n_components=n_components)\n",
    "real_data_1000_genome_afr = real_data_1000_genome[real_data_1000_genome[\"Population code\"].isin([\"ACB\", \"GWD\", \"ESN\", \"MSL\", \"YRI\", \"LWK\", \"ASW\"])]\n",
    "components_by_afr = pca.fit_transform(real_data_1000_genome_afr[genotypes_ids])"
   ],
   "metadata": {
    "collapsed": false
   }
  },
  {
   "cell_type": "code",
   "execution_count": null,
   "outputs": [],
   "source": [
    "components_by_afr"
   ],
   "metadata": {
    "collapsed": false
   }
  },
  {
   "cell_type": "code",
   "execution_count": null,
   "outputs": [],
   "source": [
    "c = pd.concat([pd.DataFrame(components_by_afr),real_data_1000_genome_afr[\"Population code\"].reset_index()], axis=1)\n",
    "print(c)"
   ],
   "metadata": {
    "collapsed": false
   }
  },
  {
   "cell_type": "code",
   "execution_count": null,
   "outputs": [],
   "source": [
    "import os\n",
    "import numpy as np\n",
    "import plotly.graph_objects as go\n",
    "\n",
    "# Assume you already have these defined\n",
    "n_components = 3\n",
    "pca = PCA(n_components=n_components)\n",
    "real_data_1000_genome_afr = real_data_1000_genome[real_data_1000_genome[\"Population code\"].isin([\"ACB\", \"GWD\", \"ESN\", \"MSL\", \"YRI\", \"LWK\", \"ASW\"])]\n",
    "components_by_afr = pca.fit_transform(real_data_1000_genome_afr[genotypes_ids])\n",
    "# Calculate the centroid of the data\n",
    "centroid = np.mean(components_by_afr, axis=0)\n",
    "\n",
    "# Calculate the distance of each data point from the centroid\n",
    "distances_from_centroid = np.linalg.norm(components_by_afr - centroid, axis=1)\n",
    "\n",
    "# Define the mapping between categorical values and colors\n",
    "color_mapping = {\n",
    "    'ACB': 'green',\n",
    "    'GWD': 'red',\n",
    "    'ESN': 'gray',\n",
    "    'MSL': 'yellow',\n",
    "    'YRI': 'blue',\n",
    "    'LWK': 'black',\n",
    "    'ASW': 'pink',\n",
    "}\n",
    "\n",
    "# Map the categorical values to corresponding colors for the scatter plot\n",
    "colors = real_data_1000_genome_afr[\"Population code\"].map(color_mapping)\n",
    "\n",
    "# Calculate marker size based on distances (dispersion)\n",
    "marker_sizes = (distances_from_centroid / max(distances_from_centroid)) * 20 + 20  # Adjust scaling and offset as needed\n",
    "\n",
    "# Create a 3D scatter plot using Plotly\n",
    "fig = go.Figure()\n",
    "\n",
    "for population in real_data_1000_genome_afr['Population code'].unique():\n",
    "    mask = (real_data_1000_genome_afr['Population code'] == population)\n",
    "    fig.add_trace(go.Scatter3d(\n",
    "        x=components_by_afr[mask, 0],\n",
    "        y=components_by_afr[mask, 1],\n",
    "        z=components_by_afr[mask, 2],\n",
    "        mode='markers',\n",
    "        marker=dict(\n",
    "            size=marker_sizes[mask],  # Use the calculated marker sizes here\n",
    "            color=colors[mask],  # Use the colors variable here\n",
    "            opacity=0.4\n",
    "        ),\n",
    "        name=population,  # Specify the name for the legend\n",
    "    ))\n",
    "\n",
    "\n",
    "# Customize the appearance\n",
    "fig.update_layout(\n",
    "    scene=dict(\n",
    "        xaxis_title='PC1',\n",
    "        yaxis_title='PC2',\n",
    "        zaxis_title='PC3',\n",
    "        xaxis=dict(backgroundcolor='white',title_font=dict(size=30, color='black'),gridwidth=5),  # Set the x-axis grid background to white\n",
    "        yaxis=dict(backgroundcolor='white',title_font=dict(size=30, color='black'),gridwidth=5),  # Set the y-axis grid background to white\n",
    "        zaxis=dict(backgroundcolor='white',title_font=dict(size=30, color='black'),gridwidth=5),  # Set the z-axis grid background to white\n",
    "        bgcolor='white', # Set the plot background color to transparent\n",
    "        camera=dict(\n",
    "            eye=dict(x=1.1, y=1, z=1),  # Adjust the camera eye position to zoom in\n",
    "        ),\n",
    "    ),\n",
    "    width=1200,\n",
    "    height=800,\n",
    "    margin=dict(l=0, r=0, t=0, b=0),  # Remove margins around the plot area\n",
    "    legend=dict(\n",
    "        bgcolor='black',\n",
    "        bordercolor='black',\n",
    "        borderwidth=10,\n",
    "        itemsizing='trace',\n",
    "        itemclick='toggle',\n",
    "        font=dict(size=34)\n",
    "\n",
    "    ),\n",
    "    xaxis_title_font=dict(size=50),\n",
    "    yaxis_title_font=dict(size=50),\n",
    "    autosize=False,  # Disable autosize to match the specified width and height\n",
    "\n",
    ")\n",
    "\n",
    "# Save the figure as an image\n",
    "output_path = os.path.join(output_dir, \"AFR_PCA_3D.jpg\")\n",
    "fig.write_image(output_path, format='jpeg', engine='kaleido')\n",
    "\n",
    "# Show the figure\n",
    "fig.show()\n"
   ],
   "metadata": {
    "collapsed": false
   }
  },
  {
   "cell_type": "code",
   "execution_count": null,
   "outputs": [],
   "source": [],
   "metadata": {
    "collapsed": false
   }
  }
 ],
 "metadata": {
  "kernelspec": {
   "display_name": "Python 3",
   "language": "python",
   "name": "python3"
  },
  "language_info": {
   "codemirror_mode": {
    "name": "ipython",
    "version": 2
   },
   "file_extension": ".py",
   "mimetype": "text/x-python",
   "name": "python",
   "nbconvert_exporter": "python",
   "pygments_lexer": "ipython2",
   "version": "2.7.6"
  }
 },
 "nbformat": 4,
 "nbformat_minor": 0
}
