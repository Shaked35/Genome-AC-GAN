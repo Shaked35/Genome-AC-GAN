{
 "cells": [
  {
   "cell_type": "code",
   "execution_count": 1,
   "metadata": {
    "collapsed": true
   },
   "outputs": [
    {
     "name": "stderr",
     "output_type": "stream",
     "text": [
      "<frozen importlib._bootstrap>:228: RuntimeWarning: scipy._lib.messagestream.MessageStream size changed, may indicate binary incompatibility. Expected 56 from C header, got 64 from PyObject\n"
     ]
    }
   ],
   "source": [
    "from pathlib import Path\n",
    "from utils.util import *\n",
    "import plotly.express as px\n",
    "output_dir = \"data_analysis\"\n",
    "Path(output_dir).mkdir(parents=True, exist_ok=True)\n",
    "real_data_1000_genome = load_real_data(hapt_genotypes_path=f\"../{REAL_10K_SNP_1000G_PATH}\",\n",
    "                                       extra_data_path=f\"../{REAL_EXTRA_DATA_PATH}\")\n",
    "real_data_1000_genome = real_data_1000_genome[\n",
    "    ~real_data_1000_genome['Superpopulation code'].str.contains(',', na=False)]"
   ]
  },
  {
   "cell_type": "code",
   "execution_count": 2,
   "outputs": [
    {
     "name": "stdout",
     "output_type": "stream",
     "text": [
      "pop counts by national:                     0\n",
      "Population code     \n",
      "ACB              192\n",
      "ASW              122\n",
      "BEB              172\n",
      "CDX              186\n",
      "CEU              198\n",
      "CHB              206\n",
      "CHS              210\n",
      "CLM              188\n",
      "ESN              198\n",
      "FIN              198\n",
      "GBR              182\n",
      "GIH              206\n",
      "GWD              226\n",
      "IBS              212\n",
      "ITU              204\n",
      "JPT              208\n",
      "KHV              198\n",
      "LWK              198\n",
      "MSL              170\n",
      "MXL              128\n",
      "PEL              170\n",
      "PJL              192\n",
      "PUR              208\n",
      "STU              204\n",
      "TSI              214\n",
      "YRI              216\n",
      "  $\\bf{Continental}$ $\\bf{Populations}$  $\\bf{National}$ $\\bf{Count}$   \n",
      "0                                   AFR                             7  \\\n",
      "1                                   AMR                             4   \n",
      "2                                   EAS                             5   \n",
      "3                                   EUR                             5   \n",
      "4                                   SAS                             5   \n",
      "\n",
      "  $\\bf{National}$ $\\bf{Populations}$  $\\bf{Continental}$ #$\\bf{Haplotypes}$   \n",
      "0  ACB, GWD, ESN, MSL, YRI, LWK, ASW                                   1322  \\\n",
      "1                 PUR, CLM, PEL, MXL                                    694   \n",
      "2            CHS, CDX, KHV, CHB, JPT                                   1008   \n",
      "3            GBR, FIN, IBS, CEU, TSI                                   1004   \n",
      "4            PJL, BEB, STU, ITU, GIH                                    978   \n",
      "\n",
      "   $\\bf{National}$ $\\bf{Mean}$ #$\\bf{Haplotypes}$  \n",
      "0                                          188.86  \n",
      "1                                          173.50  \n",
      "2                                          201.60  \n",
      "3                                          200.80  \n",
      "4                                          195.60  \n"
     ]
    }
   ],
   "source": [
    "import pandas as pd\n",
    "\n",
    "# Assuming you have a DataFrame named 'df' containing the sample data\n",
    "# Count the number of unique Population codes within each Superpopulation code\n",
    "population_counts = real_data_1000_genome.groupby('Superpopulation code')['Population code'].nunique().reset_index()\n",
    "population_counts = population_counts.rename(columns={'Superpopulation code': 'Superpopulation', 'Population code': 'Population Count'})\n",
    "\n",
    "# Concatenate all Population codes within each Superpopulation code, separated by comma\n",
    "population_list = real_data_1000_genome.groupby('Superpopulation code')['Population code'].unique().reset_index()\n",
    "population_counts['Population Codes'] = population_list['Population code'].apply(lambda x: ', '.join(x))\n",
    "\n",
    "# Count the number of unique Superpopulation codes\n",
    "superpopulation_count = real_data_1000_genome['Superpopulation code'].nunique()\n",
    "\n",
    "# Create the table\n",
    "table = pd.DataFrame({\n",
    "    'Superpopulation': population_counts['Superpopulation'],\n",
    "    'Population Count': population_counts['Population Count'],\n",
    "    'Population Codes': population_counts['Population Codes']\n",
    "})\n",
    "\n",
    "counts = pd.DataFrame(real_data_1000_genome.groupby('Superpopulation code').count()[0])\n",
    "print(\"pop counts by national: \",pd.DataFrame(real_data_1000_genome.groupby('Population code').count()[0]))\n",
    "counts[\"Superpopulation\"] = counts.index\n",
    "table = pd.merge(table, counts, on='Superpopulation', how='left')\n",
    "\n",
    "mean_by_pop = pd.DataFrame(pd.DataFrame(real_data_1000_genome.groupby(['Superpopulation code', 'Population code']).count()[0]).groupby('Superpopulation code').mean()[0]).round(2)\n",
    "mean_by_pop[\"Superpopulation\"] = mean_by_pop.index\n",
    "table = pd.merge(table, mean_by_pop, on='Superpopulation', how='left')\n",
    "\n",
    "table = table.rename(columns={'Superpopulation': '$\\\\bf{Continental}$ $\\\\bf{Populations}$', 'Population Count': '$\\\\bf{National}$ $\\\\bf{Count}$', 'Population Codes': '$\\\\bf{National}$ $\\\\bf{Populations}$', \"0_x\": '$\\\\bf{Continental}$ #$\\\\bf{Haplotypes}$', \"0_y\": '$\\\\bf{National}$ $\\\\bf{Mean}$ #$\\\\bf{Haplotypes}$'})\n",
    "\n",
    "# Display the table\n",
    "print(table)\n"
   ],
   "metadata": {
    "collapsed": false
   }
  },
  {
   "cell_type": "code",
   "execution_count": 88,
   "outputs": [
    {
     "data": {
      "text/plain": "<Figure size 1200x170 with 1 Axes>",
      "image/png": "[encoded data removed]"
     },
     "metadata": {},
     "output_type": "display_data"
    }
   ],
   "source": [
    "import pandas as pd\n",
    "import matplotlib.pyplot as plt\n",
    "\n",
    "# Assuming you have a DataFrame named 'table' containing the data\n",
    "# Create a table visualization\n",
    "fig, ax = plt.subplots(figsize=(12, 1.7))\n",
    "ax.axis('off')  # Hide axis\n",
    "table_plot = ax.table(cellText=table.values, colLabels=table.columns, cellLoc='center', loc='center')\n",
    "\n",
    "# Set table properties\n",
    "table_plot.auto_set_font_size(False)\n",
    "table_plot.set_fontsize(12)\n",
    "table_plot.scale(1.2, 1.2)\n",
    "\n",
    "# Adjust the width of the 'Population Codes' column\n",
    "column_widths = [0.15, 0.3, 0.2, 0.2, 0.2]  # Adjust the values as needed\n",
    "for i, width in enumerate(column_widths):\n",
    "    table_plot.auto_set_column_width([i])\n",
    "    table_plot.get_celld()[(0, i)].set_width(width)\n",
    "\n",
    "\n",
    "\n",
    "# Save the table as a JPG image\n",
    "plt.savefig(os.path.join(output_dir, 'table.jpg'), bbox_inches='tight', pad_inches=0.5, dpi=300)\n"
   ],
   "metadata": {
    "collapsed": false
   }
  },
  {
   "cell_type": "code",
   "execution_count": null,
   "outputs": [],
   "source": [
    "sns.set(style=\"whitegrid\", rc={\"figure.figsize\": (20, 10)})\n",
    "\n",
    "\n",
    "def plot_number_of_samples(target_column_name: str, output_path: str):\n",
    "    ax = sns.countplot(x=target_column_name, data=real_data_1000_genome)\n",
    "    plt.xlabel(target_column_name)\n",
    "    plt.ylabel(\"Number of Samples\")\n",
    "    plt.title(\"Number of Samples by \" + target_column_name)\n",
    "\n",
    "    # Add count values to the plot\n",
    "    for p in ax.patches:\n",
    "        ax.annotate(format(p.get_height(), '.0f'), (p.get_x() + p.get_width() / 2., p.get_height()),\n",
    "                    ha='center', va='center', xytext=(0, 10), textcoords='offset points')\n",
    "    plt.savefig(output_path)\n",
    "    plt.show()"
   ],
   "metadata": {
    "collapsed": false
   }
  },
  {
   "cell_type": "code",
   "execution_count": null,
   "outputs": [],
   "source": [
    "plot_number_of_samples(\"Superpopulation code\", output_path=os.path.join(output_dir, \"super_population_distribution.jpg\"))"
   ],
   "metadata": {
    "collapsed": false
   }
  },
  {
   "cell_type": "code",
   "execution_count": null,
   "outputs": [],
   "source": [
    "plot_number_of_samples(\"Population code\", output_path=os.path.join(output_dir, \"sub_population_distribution.jpg\"))"
   ],
   "metadata": {
    "collapsed": false
   }
  },
  {
   "cell_type": "code",
   "execution_count": null,
   "outputs": [],
   "source": [
    "genotypes_ids = get_relevant_columns(input_df=real_data_1000_genome, input_columns=[])\n",
    "# genotypes_ids.pop(0)\n",
    "# genotypes_ids.pop(0)\n",
    "print(f\"Number of SNPs: {len(genotypes_ids)}\")"
   ],
   "metadata": {
    "collapsed": false
   }
  },
  {
   "cell_type": "code",
   "execution_count": null,
   "outputs": [],
   "source": [
    "def print_frequency(current_df, target_column, title):\n",
    "    rows = []\n",
    "    for pop in current_df[target_column].unique():\n",
    "        tmp_df = current_df[current_df[target_column] == pop]\n",
    "        uniques, counts = np.unique(tmp_df[genotypes_ids], return_counts=True)\n",
    "        tmp_percentages = dict(zip(uniques, 100 * counts / (len(tmp_df[genotypes_ids]) * len(genotypes_ids))))\n",
    "        # tmp_percentages = {key: f\"{str(round(values, 2))}%\" for key, values in tmp_percentages.items()}\n",
    "        tmp_percentages = {key: round(values, 2) for key, values in tmp_percentages.items()}\n",
    "        tmp_percentages[\"pop\"] = pop\n",
    "        rows.append(tmp_percentages)\n",
    "    # print(\"\\033[91m \\033[1m \", title, \"\\033[0m\")\n",
    "    # print(pd.DataFrame(rows).plot())\n",
    "    df = pd.DataFrame(rows)\n",
    "    df.set_index('pop', inplace=True)\n",
    "    df.plot.bar()\n"
   ],
   "metadata": {
    "collapsed": false
   }
  },
  {
   "cell_type": "markdown",
   "source": [
    "Allele Frequency"
   ],
   "metadata": {
    "collapsed": false
   }
  },
  {
   "cell_type": "code",
   "execution_count": null,
   "outputs": [],
   "source": [
    "print_frequency(current_df=real_data_1000_genome, target_column=0, title=\"allele frequencies all\")"
   ],
   "metadata": {
    "collapsed": false
   }
  },
  {
   "cell_type": "code",
   "execution_count": null,
   "outputs": [],
   "source": [
    "print_frequency(current_df=real_data_1000_genome, target_column=\"Superpopulation code\",\n",
    "                title=\"allele frequencies by Superpopulation code\")"
   ],
   "metadata": {
    "collapsed": false
   }
  },
  {
   "cell_type": "code",
   "execution_count": null,
   "outputs": [],
   "source": [
    "print_frequency(current_df=real_data_1000_genome, target_column=\"Population code\",\n",
    "                title=\"allele frequencies by Population code\")"
   ],
   "metadata": {
    "collapsed": false
   }
  },
  {
   "cell_type": "markdown",
   "source": [
    "PCA"
   ],
   "metadata": {
    "collapsed": false
   }
  },
  {
   "cell_type": "code",
   "execution_count": null,
   "outputs": [],
   "source": [
    "n_components = 2\n",
    "pca = PCA(n_components=n_components)\n",
    "components = pca.fit_transform(real_data_1000_genome[genotypes_ids])"
   ],
   "metadata": {
    "collapsed": false
   }
  },
  {
   "cell_type": "code",
   "execution_count": null,
   "outputs": [],
   "source": [
    "fig = px.scatter(components, x=0, y=1, color=real_data_1000_genome[\"Superpopulation code\"],\n",
    "                 title=\"PCA By Super Population\")\n",
    "fig.show()"
   ],
   "metadata": {
    "collapsed": false
   }
  },
  {
   "cell_type": "code",
   "execution_count": null,
   "outputs": [],
   "source": [
    "fig = px.scatter(components, x=0, y=1, color=real_data_1000_genome[\"Population code\"],\n",
    "                 title=\"PCA By Population\")\n",
    "fig.show()"
   ],
   "metadata": {
    "collapsed": false
   }
  },
  {
   "cell_type": "code",
   "execution_count": null,
   "outputs": [],
   "source": [],
   "metadata": {
    "collapsed": false
   }
  }
 ],
 "metadata": {
  "kernelspec": {
   "display_name": "Python 3",
   "language": "python",
   "name": "python3"
  },
  "language_info": {
   "codemirror_mode": {
    "name": "ipython",
    "version": 2
   },
   "file_extension": ".py",
   "mimetype": "text/x-python",
   "name": "python",
   "nbconvert_exporter": "python",
   "pygments_lexer": "ipython2",
   "version": "2.7.6"
  }
 },
 "nbformat": 4,
 "nbformat_minor": 0
}
