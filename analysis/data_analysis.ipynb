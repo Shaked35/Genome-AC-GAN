{
 "cells": [
  {
   "cell_type": "code",
   "execution_count": 1,
   "metadata": {
    "collapsed": true
   },
   "outputs": [
    {
     "name": "stderr",
     "output_type": "stream",
     "text": [
      "\n",
      "KeyboardInterrupt\n",
      "\n"
     ]
    }
   ],
   "source": [
    "from pathlib import Path\n",
    "from utils.util import *\n",
    "import plotly.express as px\n",
    "output_dir = \"data_analysis\"\n",
    "Path(output_dir).mkdir(parents=True, exist_ok=True)\n",
    "real_data_1000_genome = load_real_data(hapt_genotypes_path=f\"../{REAL_10K_SNP_1000G_PATH}\",\n",
    "                                       extra_data_path=f\"../{REAL_EXTRA_DATA_PATH}\")\n",
    "real_data_1000_genome"
   ]
  },
  {
   "cell_type": "code",
   "execution_count": null,
   "outputs": [],
   "source": [
    "sns.set(style=\"whitegrid\", rc={\"figure.figsize\": (20, 10)})\n",
    "\n",
    "\n",
    "def plot_number_of_samples(target_column_name: str, output_path: str):\n",
    "    ax = sns.countplot(x=target_column_name, data=real_data_1000_genome)\n",
    "    plt.xlabel(target_column_name)\n",
    "    plt.ylabel(\"Number of Samples\")\n",
    "    plt.title(\"Number of Samples by \" + target_column_name)\n",
    "\n",
    "    # Add count values to the plot\n",
    "    for p in ax.patches:\n",
    "        ax.annotate(format(p.get_height(), '.0f'), (p.get_x() + p.get_width() / 2., p.get_height()),\n",
    "                    ha='center', va='center', xytext=(0, 10), textcoords='offset points')\n",
    "    plt.savefig(output_path)\n",
    "    plt.show()"
   ],
   "metadata": {
    "collapsed": false
   }
  },
  {
   "cell_type": "code",
   "execution_count": null,
   "outputs": [],
   "source": [
    "plot_number_of_samples(\"Superpopulation code\", output_path=os.path.join(output_dir, \"super_population_distribution.jpg\"))"
   ],
   "metadata": {
    "collapsed": false
   }
  },
  {
   "cell_type": "code",
   "execution_count": null,
   "outputs": [],
   "source": [
    "plot_number_of_samples(\"Population code\", output_path=os.path.join(output_dir, \"sub_population_distribution.jpg\"))"
   ],
   "metadata": {
    "collapsed": false
   }
  },
  {
   "cell_type": "code",
   "execution_count": null,
   "outputs": [],
   "source": [
    "genotypes_ids = get_relevant_columns(input_df=real_data_1000_genome, input_columns=[])\n",
    "# genotypes_ids.pop(0)\n",
    "# genotypes_ids.pop(0)\n",
    "print(f\"Number of SNPs: {len(genotypes_ids)}\")"
   ],
   "metadata": {
    "collapsed": false
   }
  },
  {
   "cell_type": "code",
   "execution_count": null,
   "outputs": [],
   "source": [
    "def print_frequency(current_df, target_column, title):\n",
    "    rows = []\n",
    "    for pop in current_df[target_column].unique():\n",
    "        tmp_df = current_df[current_df[target_column] == pop]\n",
    "        uniques, counts = np.unique(tmp_df[genotypes_ids], return_counts=True)\n",
    "        tmp_percentages = dict(zip(uniques, 100 * counts / (len(tmp_df[genotypes_ids]) * len(genotypes_ids))))\n",
    "        # tmp_percentages = {key: f\"{str(round(values, 2))}%\" for key, values in tmp_percentages.items()}\n",
    "        tmp_percentages = {key: round(values, 2) for key, values in tmp_percentages.items()}\n",
    "        tmp_percentages[\"pop\"] = pop\n",
    "        rows.append(tmp_percentages)\n",
    "    # print(\"\\033[91m \\033[1m \", title, \"\\033[0m\")\n",
    "    # print(pd.DataFrame(rows).plot())\n",
    "    df = pd.DataFrame(rows)\n",
    "    df.set_index('pop', inplace=True)\n",
    "    df.plot.bar()\n"
   ],
   "metadata": {
    "collapsed": false
   }
  },
  {
   "cell_type": "markdown",
   "source": [
    "Allele Frequency"
   ],
   "metadata": {
    "collapsed": false
   }
  },
  {
   "cell_type": "code",
   "execution_count": null,
   "outputs": [],
   "source": [
    "print_frequency(current_df=real_data_1000_genome, target_column=0, title=\"allele frequencies all\")"
   ],
   "metadata": {
    "collapsed": false
   }
  },
  {
   "cell_type": "code",
   "execution_count": null,
   "outputs": [],
   "source": [
    "print_frequency(current_df=real_data_1000_genome, target_column=\"Superpopulation code\",\n",
    "                title=\"allele frequencies by Superpopulation code\")"
   ],
   "metadata": {
    "collapsed": false
   }
  },
  {
   "cell_type": "code",
   "execution_count": null,
   "outputs": [],
   "source": [
    "print_frequency(current_df=real_data_1000_genome, target_column=\"Population code\",\n",
    "                title=\"allele frequencies by Population code\")"
   ],
   "metadata": {
    "collapsed": false
   }
  },
  {
   "cell_type": "markdown",
   "source": [
    "PCA"
   ],
   "metadata": {
    "collapsed": false
   }
  },
  {
   "cell_type": "code",
   "execution_count": null,
   "outputs": [],
   "source": [
    "n_components = 2\n",
    "pca = PCA(n_components=n_components)\n",
    "components = pca.fit_transform(real_data_1000_genome[genotypes_ids])"
   ],
   "metadata": {
    "collapsed": false
   }
  },
  {
   "cell_type": "code",
   "execution_count": null,
   "outputs": [],
   "source": [
    "fig = px.scatter(components, x=0, y=1, color=real_data_1000_genome[\"Superpopulation code\"],\n",
    "                 title=\"PCA By Super Population\")\n",
    "fig.show()"
   ],
   "metadata": {
    "collapsed": false
   }
  },
  {
   "cell_type": "code",
   "execution_count": null,
   "outputs": [],
   "source": [
    "fig = px.scatter(components, x=0, y=1, color=real_data_1000_genome[\"Population code\"],\n",
    "                 title=\"PCA By Population\")\n",
    "fig.show()"
   ],
   "metadata": {
    "collapsed": false
   }
  },
  {
   "cell_type": "code",
   "execution_count": null,
   "outputs": [],
   "source": [],
   "metadata": {
    "collapsed": false
   }
  }
 ],
 "metadata": {
  "kernelspec": {
   "display_name": "Python 3",
   "language": "python",
   "name": "python3"
  },
  "language_info": {
   "codemirror_mode": {
    "name": "ipython",
    "version": 2
   },
   "file_extension": ".py",
   "mimetype": "text/x-python",
   "name": "python",
   "nbconvert_exporter": "python",
   "pygments_lexer": "ipython2",
   "version": "2.7.6"
  }
 },
 "nbformat": 4,
 "nbformat_minor": 0
}
