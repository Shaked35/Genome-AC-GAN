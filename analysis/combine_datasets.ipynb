{
 "cells": [
  {
   "cell_type": "code",
   "execution_count": null,
   "id": "07d926a9",
   "metadata": {},
   "outputs": [],
   "source": [
    "from utils.util import *"
   ]
  },
  {
   "cell_type": "code",
   "execution_count": null,
   "id": "3be4065f",
   "metadata": {},
   "outputs": [],
   "source": [
    "train_path = '../resource/train_0.8_sub_pop.csv'\n",
    "target_column=\"Population code\"\n",
    "input_to_output = [(\"../fake_genotypes_sequences/new_sequences/discriminator_0.8_test/genotypes.hapt\", \n",
    "                    \"../fake_genotypes_sequences/new_sequences/discriminator_0.8_test/combine_genotypes.csv\")]"
   ]
  },
  {
   "cell_type": "code",
   "execution_count": null,
   "id": "9f6f3ae5",
   "metadata": {},
   "outputs": [],
   "source": [
    "def init_train_data():\n",
    "    dataset, _, _, _ = init_dataset(train_path, target_column=target_column, without_extra_data=True)\n",
    "    train_data = pd.DataFrame(dataset[0])\n",
    "    train_data[target_column] = pd.DataFrame(np.argmax(dataset[1], axis=1), columns=[target_column])\n",
    "    return train_data"
   ]
  },
  {
   "cell_type": "code",
   "execution_count": null,
   "id": "1c918e84",
   "metadata": {},
   "outputs": [],
   "source": [
    "train_data = init_train_data()"
   ]
  },
  {
   "cell_type": "code",
   "execution_count": null,
   "id": "8a0da082",
   "metadata": {},
   "outputs": [],
   "source": [
    "def concatinate_with_fake_genotypes(file_path: str,model_results_path: str, train_data):\n",
    "    tmp_df = pd.read_csv(model_path, sep=' ', header=None)\n",
    "    tmp_df[0] = tmp_df[0].str.replace('Fake_', '')\n",
    "    tmp_df = tmp_df.set_index(tmp_df[0])\n",
    "    tmp_df.drop([0], inplace=True, axis=1)\n",
    "    tmp_df.columns = [genotype for genotype in range(len(tmp_df.columns))]\n",
    "    tmp_df[target_column] = tmp_df.index\n",
    "    tmp_df.reset_index(drop=True)\n",
    "    concat_df = pd.concat([train_data, tmp_df])\n",
    "    concat_df.to_csv(file_path, index=False)"
   ]
  },
  {
   "cell_type": "code",
   "execution_count": null,
   "id": "0882b713",
   "metadata": {},
   "outputs": [],
   "source": [
    "for (file_path ,model_results_path) in input_to_output:\n",
    "    concatinate_with_fake_genotypes(file_path ,model_results_path, train_data)"
   ]
  },
  {
   "cell_type": "code",
   "execution_count": null,
   "id": "da02fc1c",
   "metadata": {},
   "outputs": [],
   "source": []
  }
 ],
 "metadata": {
  "kernelspec": {
   "display_name": "Python 3 (ipykernel)",
   "language": "python",
   "name": "python3"
  },
  "language_info": {
   "codemirror_mode": {
    "name": "ipython",
    "version": 3
   },
   "file_extension": ".py",
   "mimetype": "text/x-python",
   "name": "python",
   "nbconvert_exporter": "python",
   "pygments_lexer": "ipython3",
   "version": "3.9.16"
  }
 },
 "nbformat": 4,
 "nbformat_minor": 5
}
