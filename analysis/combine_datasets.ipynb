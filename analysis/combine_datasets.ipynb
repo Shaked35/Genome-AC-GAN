{
 "cells": [
  {
   "cell_type": "code",
   "execution_count": 1,
   "id": "07d926a9",
   "metadata": {},
   "outputs": [
    {
     "name": "stderr",
     "output_type": "stream",
     "text": [
      "\n",
      "KeyboardInterrupt\n",
      "\n"
     ]
    }
   ],
   "source": [
    "from utils.util import *"
   ]
  },
  {
   "cell_type": "code",
   "execution_count": null,
   "id": "3be4065f",
   "metadata": {},
   "outputs": [],
   "source": [
    "train_path = '../resource/train_0.8_super_pop.csv'\n",
    "target_column = \"Population code\"\n",
    "input_to_output = [{\"input_path\": \"../fake_genotypes_sequences/new_sequences/discriminator_0.8_test/genotypes.hapt\",\n",
    "                    \"output_path\": \"combine_discriminator_0.8_test.csv\"}]"
   ]
  },
  {
   "cell_type": "code",
   "execution_count": null,
   "id": "9f6f3ae5",
   "metadata": {},
   "outputs": [],
   "source": [
    "def init_train_data():\n",
    "    dataset, _, _, class_to_id = init_dataset(train_path, target_column=target_column, without_extra_data=True)\n",
    "    train_data = pd.DataFrame(dataset[0])\n",
    "    train_data[target_column] = pd.DataFrame(np.argmax(dataset[1], axis=1), columns=[target_column])\n",
    "    train_data[\"source\"] = \"Real\"\n",
    "    return train_data, class_to_id"
   ]
  },
  {
   "cell_type": "code",
   "execution_count": null,
   "id": "1c918e84",
   "metadata": {},
   "outputs": [],
   "source": [
    "train_data, class_to_id = init_train_data()"
   ]
  },
  {
   "cell_type": "code",
   "execution_count": null,
   "id": "8a0da082",
   "metadata": {},
   "outputs": [],
   "source": [
    "def concat_with_fake_genotypes(file_path: str, model_results_path: str, train_data):\n",
    "    tmp_df = pd.read_csv(file_path, sep=' ', header=None)\n",
    "    pop_column = tmp_df[0].str.replace('Fake_', '')\n",
    "    tmp_df.drop([0], inplace=True, axis=1)\n",
    "    tmp_df.columns = [genotype for genotype in range(len(tmp_df.columns))]\n",
    "    tmp_df[target_column] = pop_column.replace(class_to_id)\n",
    "    tmp_df[\"source\"] = \"Fake\"\n",
    "    tmp_df.reset_index(drop=True)\n",
    "    concat_df = train_data\n",
    "    concat_df = concat_df.sample(frac=1, random_state=np.random.RandomState(seed=42))\n",
    "    concat_df.to_csv(f\"../resource/{model_results_path}\", index=False)"
   ]
  },
  {
   "cell_type": "code",
   "execution_count": null,
   "id": "0882b713",
   "metadata": {},
   "outputs": [],
   "source": [
    "for combine_data in input_to_output:\n",
    "    concat_with_fake_genotypes(combine_data[\"input_path\"], combine_data[\"output_path\"], train_data)"
   ]
  },
  {
   "cell_type": "code",
   "execution_count": null,
   "id": "da02fc1c",
   "metadata": {},
   "outputs": [],
   "source": [
    "x = pd.read_csv(\"resource/combine_discriminator_0.8_test.csv\")"
   ]
  },
  {
   "cell_type": "code",
   "execution_count": null,
   "outputs": [],
   "source": [
    "import matplotlib.pyplot as plt\n",
    "from sklearn.decomposition import PCA\n",
    "\n",
    "def plot_pca(df):\n",
    "    # Extract population code and source columns\n",
    "    pop_code = df['Population code']\n",
    "    source = df['source']\n",
    "    df_without_fake = df[df['source']=='Fake']\n",
    "    # Drop population code and source columns from the dataframe\n",
    "    df = df.drop(columns=['Population code', 'source'])\n",
    "    df_without_fake = df_without_fake.drop(columns=['Population code', 'source'])\n",
    "    # Perform PCA with 2 components\n",
    "    pca = PCA(n_components=2)\n",
    "    PCs = pca.fit_transform(df)\n",
    "    PCs_df = pd.DataFrame(data=PCs, columns=['PC1', 'PC2'])\n",
    "    PCs_df['Class'] = source\n",
    "    real_color = 'blue'\n",
    "    fake_color = 'red'\n",
    "    real_idx = PCs_df.index[PCs_df['Class'].str.contains('Real')]\n",
    "    fake_idx = PCs_df.index[PCs_df['Class'].str.contains('Fake')]\n",
    "    real_pca = PCs_df.loc[real_idx, ['PC1', 'PC2']]\n",
    "    fake_pca = PCs_df.loc[fake_idx, ['PC1', 'PC2']]\n",
    "    plt.scatter(real_pca['PC1'], real_pca['PC2'], c=real_color, label='Real',\n",
    "                        alpha=0.2)\n",
    "    plt.scatter(fake_pca['PC1'], fake_pca['PC2'], c=fake_color, label='Fake',\n",
    "                    alpha=0.2)\n",
    "\n",
    "    # Add axis labels and a legend\n",
    "    plt.xlabel('PCA Component 1')\n",
    "    plt.ylabel('PCA Component 2')\n",
    "    plt.legend()\n",
    "\n",
    "    # Display the plot\n",
    "    plt.show()"
   ],
   "metadata": {
    "collapsed": false
   }
  },
  {
   "cell_type": "code",
   "execution_count": null,
   "outputs": [],
   "source": [
    "print(pop_column)"
   ],
   "metadata": {
    "collapsed": false
   }
  },
  {
   "cell_type": "code",
   "execution_count": null,
   "outputs": [],
   "source": [
    "tmp_df = pd.read_csv(\"../fake_genotypes_sequences/new_sequences/discriminator_0.8_test/genotypes.hapt\", sep=' ', header=None)\n",
    "tmp_df = tmp_df[tmp_df[0] == 'Fake_MXL']\n",
    "pop_column = tmp_df[0].str.replace('Fake_', '')\n",
    "tmp_df.drop([0], inplace=True, axis=1)\n",
    "tmp_df.columns = [genotype for genotype in range(len(tmp_df.columns))]\n",
    "tmp_df[target_column] = pop_column.replace(class_to_id)\n",
    "tmp_df[\"source\"] = \"Fake\"\n",
    "tmp_df.reset_index(drop=True)\n",
    "tmp_df.sum()"
   ],
   "metadata": {
    "collapsed": false
   }
  },
  {
   "cell_type": "code",
   "execution_count": null,
   "outputs": [],
   "source": [
    "%matplotlib inline\n",
    "import math\n",
    "\n",
    "generated_genomes_df = pd.read_csv(\"../fake_genotypes_sequences/new_sequences/discriminator_0.8_test/genotypes.hapt\", sep=' ', header=None)\n",
    "pop_column = generated_genomes_df[0]\n",
    "generated_genomes_df.drop([0], inplace=True, axis=1)\n",
    "generated_genomes_df.columns = [genotype for genotype in range(len(generated_genomes_df.columns))]\n",
    "generated_genomes_df['Type'] = pop_column\n",
    "# generated_genomes_df.insert(loc=0, column='Type', value=f\"Fake_{pop_column}\")\n",
    "plt.rcParams['figure.max_open_warning'] = 50  # set the max number of figures before the warning is triggered to 50\n",
    "\n",
    "# Make PCA\n",
    "dataset, _, _, class_to_id = init_dataset(train_path, target_column=target_column, without_extra_data=True)\n",
    "id_to_class = {i: clas for (clas, i) in class_to_id.items()}\n",
    "real_sequences = dataset[0]\n",
    "real_sequences[real_sequences < 0] = 0\n",
    "real_sequences = np.rint(real_sequences)\n",
    "real_sequences = pd.DataFrame(real_sequences)\n",
    "real_sequences['Type'] = pd.DataFrame(np.argmax(dataset[1], axis=1), columns=[target_column])\n",
    "real_sequences['Type'] = real_sequences['Type'].replace(id_to_class)\n",
    "real_sequences['Type'] = 'Real_'+real_sequences['Type']\n",
    "df_all_pca = pd.concat([real_sequences, generated_genomes_df])\n",
    "\n",
    "pca = PCA(n_components=2)\n",
    "PCs = pca.fit_transform(df_all_pca.drop(['Type'], axis=1))\n",
    "PCs_df = pd.DataFrame(data=PCs, columns=['PC1', 'PC2'])\n",
    "PCs_df['Class'] = list(df_all_pca['Type'])\n",
    "# Define the colors for real and fake points\n",
    "real_color = 'blue'\n",
    "fake_color = 'red'\n",
    "# Define the populations\n",
    "populations = list(class_to_id.keys())\n",
    "# Create a figure with multiple subplots\n",
    "fig, axs = plt.subplots(nrows=math.ceil((len(populations) + 1) / 2), ncols=2,\n",
    "                        figsize=(16, len(populations) * 4))\n",
    "# Loop over each population and plot the real and fake points separately\n",
    "column_mod = 2\n",
    "row = 0\n",
    "alpha_color = 0.3\n",
    "for i, pop in enumerate(populations):\n",
    "    # Get the indices of the real and fake points for this population\n",
    "    real_idx = (PCs_df['Class'] == f'Real_{pop}')\n",
    "    fake_idx = (PCs_df['Class'] == f'Fake_{pop}')\n",
    "\n",
    "    # Get the PCA values for the real and fake points\n",
    "    real_pca = PCs_df.loc[real_idx, ['PC1', 'PC2']]\n",
    "    fake_pca = PCs_df.loc[fake_idx, ['PC1', 'PC2']]\n",
    "\n",
    "    # Plot the real and fake points in separate subplots\n",
    "    axs[row, column_mod % 2].scatter(real_pca['PC1'], real_pca['PC2'], c=real_color, label='Real',\n",
    "                                     alpha=alpha_color)\n",
    "    axs[row, column_mod % 2].scatter(fake_pca['PC1'], fake_pca['PC2'], c=fake_color, label='Fake',\n",
    "                                     alpha=alpha_color)\n",
    "    axs[row, column_mod % 2].set_xlabel('PC1')\n",
    "    axs[row, column_mod % 2].set_ylabel('PC2')\n",
    "    axs[row, column_mod % 2].set_title(f'{pop} - Real vs Fake')\n",
    "    axs[row, column_mod % 2].legend()\n",
    "    column_mod += 1\n",
    "    row += 1 if column_mod % 2 == 0 else 0\n",
    "# Get the indices of the real and fake points for this population\n",
    "real_idx = PCs_df.index[PCs_df['Class'].str.contains('Real')]\n",
    "fake_idx = PCs_df.index[PCs_df['Class'].str.contains('Fake')]\n",
    "# Get the PCA values for the real and fake points\n",
    "real_pca = PCs_df.loc[real_idx, ['PC1', 'PC2']]\n",
    "fake_pca = PCs_df.loc[fake_idx, ['PC1', 'PC2']]\n",
    "# Plot the real and fake points together in another subplot\n",
    "axs[row, 1].scatter(real_pca['PC1'], real_pca['PC2'], c=real_color, label='Real',\n",
    "                    alpha=alpha_color)\n",
    "axs[row, 1].scatter(fake_pca['PC1'], fake_pca['PC2'], c=fake_color, label='Fake',\n",
    "                    alpha=alpha_color)\n",
    "axs[row, 1].set_xlabel('PC1')\n",
    "axs[row, 1].set_ylabel('PC2')\n",
    "axs[row, 1].set_title(f'All - Real vs Fake')\n",
    "axs[row, 1].legend()\n",
    "plt.tight_layout()\n",
    "plt.show()"
   ],
   "metadata": {
    "collapsed": false
   }
  },
  {
   "cell_type": "code",
   "execution_count": null,
   "outputs": [],
   "source": [
    "print(populations)"
   ],
   "metadata": {
    "collapsed": false
   }
  },
  {
   "cell_type": "code",
   "execution_count": null,
   "outputs": [],
   "source": [
    "df_all_pca['Type'] = df_all_pca['Type'].str.replace('Fake_', '')\n",
    "df_all_pca['Type'] = df_all_pca['Type'].str.replace('Real_', '')\n",
    "pop = df_all_pca['Type']\n",
    "df_all_pca_out = df_all_pca[[i for i in range(len(df_all_pca.columns) - 2)]]\n",
    "df_all_pca_out = df_all_pca_out.astype(int)\n",
    "df_all_pca_out['Population code'] = pop\n",
    "# df_all_pca['Population code'] = df_all_pca['Population code'].replace(class_to_id)\n",
    "df_all_pca_out.to_csv(\"../resource/combine_discriminator_0.8_test.csv\", index=False)"
   ],
   "metadata": {
    "collapsed": false
   }
  },
  {
   "cell_type": "code",
   "execution_count": null,
   "outputs": [],
   "source": [],
   "metadata": {
    "collapsed": false
   }
  }
 ],
 "metadata": {
  "kernelspec": {
   "display_name": "Python 3 (ipykernel)",
   "language": "python",
   "name": "python3"
  },
  "language_info": {
   "codemirror_mode": {
    "name": "ipython",
    "version": 3
   },
   "file_extension": ".py",
   "mimetype": "text/x-python",
   "name": "python",
   "nbconvert_exporter": "python",
   "pygments_lexer": "ipython3",
   "version": "3.9.16"
  }
 },
 "nbformat": 4,
 "nbformat_minor": 5
}
