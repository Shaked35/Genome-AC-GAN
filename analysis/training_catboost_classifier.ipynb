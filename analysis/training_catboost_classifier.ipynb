{
 "cells": [
  {
   "cell_type": "code",
   "execution_count": 1,
   "metadata": {
    "collapsed": true
   },
   "outputs": [
    {
     "name": "stderr",
     "output_type": "stream",
     "text": [
      "\n",
      "KeyboardInterrupt\n",
      "\n"
     ]
    }
   ],
   "source": [
    "from gs_ac_gan_training import prepare_test_and_fake_dataset\n",
    "import catboost\n",
    "from catboost import CatBoostClassifier, Pool\n",
    "\n",
    "from utils.util import *\n",
    "%matplotlib inline\n",
    "output_folder = \"classifier_analysis\"\n",
    "hapt_genotypes_path = '../resource/train_0.8_super_pop.csv'\n",
    "experiment_results = '../experiment_results/f1_score_macro'\n",
    "output_results_path = 'catboost_classification_results.csv'\n",
    "target_column = 'Superpopulation code'\n",
    "(x_train, y_train), _, _, class_to_id = init_dataset(hapt_genotypes_path=hapt_genotypes_path,\n",
    "                                                     target_column=target_column, without_extra_data=True)\n",
    "id_to_class = {v: k for k, v in class_to_id.items()}\n",
    "\n",
    "test_dataset = prepare_test_and_fake_dataset(experiment_results, test_path=\"../resource/test_0.2_super_pop.csv\")\n",
    "y_train = np.argmax(y_train, axis=-1)\n",
    "print(y_train)"
   ]
  },
  {
   "cell_type": "code",
   "execution_count": null,
   "outputs": [],
   "source": [
    "# Create a CatBoost classifier\n",
    "clf = CatBoostClassifier(iterations=1000, learning_rate=0.1)\n",
    "train_pool = catboost.Pool(data=x_train, label=y_train)\n",
    "# Train the classifier\n",
    "clf.fit(train_pool)"
   ],
   "metadata": {
    "collapsed": false
   }
  },
  {
   "cell_type": "code",
   "execution_count": null,
   "outputs": [],
   "source": [
    "def evaluate_and_save_catboost_model(test_dataset, prefix=\"\"):\n",
    "    shuffled_dataset = tensorflow.data.Dataset.from_tensor_slices(test_dataset).shuffle(\n",
    "        test_dataset[0].shape[0]).batch(test_dataset[0].shape[0], drop_remainder=True)\n",
    "    for x_batch_real, y_batch_real in shuffled_dataset:\n",
    "        test_pool = Pool(np.array(x_batch_real))\n",
    "        class_predictions = clf.predict(test_pool)\n",
    "        class_classifier_results = pd.DataFrame(\n",
    "            {\"class_pred\": np.array(class_predictions.flatten()), \"class_real\": np.array(y_batch_real)})\n",
    "        class_classifier_results[\"class_name_real\"] = class_classifier_results[\"class_real\"].replace(id_to_class)\n",
    "        class_classifier_results[\"class_name_pred\"] = class_classifier_results[\"class_pred\"].replace(id_to_class)\n",
    "        class_classifier_results.to_csv(\n",
    "            os.path.join(output_folder, prefix+\"discriminator_pred_on_test.csv\"), index=False)\n",
    "\n",
    "        row_results = compute_metrics(class_classifier_results[\"class_real\"], class_classifier_results[\"class_pred\"])\n",
    "        row_results[\"epoch\"] = 1\n",
    "        row_results = pd.DataFrame([row_results])\n",
    "        class_metric_results = pd.DataFrame(row_results)\n",
    "\n",
    "        class_metric_results.to_csv(os.path.join(output_folder, prefix+output_results_path), index=False)\n"
   ],
   "metadata": {
    "collapsed": false
   }
  },
  {
   "cell_type": "code",
   "execution_count": null,
   "outputs": [],
   "source": [
    "evaluate_and_save_catboost_model(test_dataset)"
   ],
   "metadata": {
    "collapsed": false
   }
  },
  {
   "cell_type": "code",
   "execution_count": null,
   "outputs": [],
   "source": [
    "fake_dataset = prepare_test_and_fake_dataset(experiment_results, test_path=\"../fake_genotypes_sequences/new_sequences/full_pop/10001_genotypes.hapt\", from_generated=True)"
   ],
   "metadata": {
    "collapsed": false
   }
  },
  {
   "cell_type": "code",
   "execution_count": null,
   "outputs": [],
   "source": [
    "evaluate_and_save_catboost_model(fake_dataset, prefix=\"fake_pop_\")"
   ],
   "metadata": {
    "collapsed": false
   }
  },
  {
   "cell_type": "code",
   "execution_count": null,
   "outputs": [],
   "source": [
    "from sklearn.metrics import cohen_kappa_score\n",
    "\n",
    "def plot_classifications_confusion_matrix(file_paths, output_dir, experiments_rename, prefix=\"\"):\n",
    "    # Create an empty list to store the confusion matrices and kappa scores\n",
    "    cm_list = []\n",
    "    kappa_list = []\n",
    "\n",
    "    # Loop through each file path\n",
    "    for i, path in enumerate(file_paths):\n",
    "        # Read in the CSV file\n",
    "        data = pd.read_csv(path)\n",
    "\n",
    "        # Extract the actual and predicted population values from the dataframe\n",
    "        actual_pop = data['class_name_real'].values\n",
    "        predicted_pop = data['class_name_pred'].values\n",
    "\n",
    "        # Get the unique classes\n",
    "        classes = np.unique(actual_pop)\n",
    "\n",
    "        # Create the confusion matrix\n",
    "        cm = confusion_matrix(actual_pop, predicted_pop, labels=classes)\n",
    "\n",
    "        # Calculate Cohen's kappa score\n",
    "        kappa = cohen_kappa_score(actual_pop, predicted_pop)\n",
    "\n",
    "        # Append the confusion matrix and kappa score to the list\n",
    "        cm_list.append(cm)\n",
    "        kappa_list.append(kappa)\n",
    "\n",
    "    # Calculate the number of rows and columns for the subplots\n",
    "    n_plots = len(file_paths)\n",
    "    n_cols = min(2, n_plots)\n",
    "    n_rows = int(np.ceil(n_plots / n_cols))\n",
    "\n",
    "    # Create the subplots\n",
    "    fig, axes = plt.subplots(n_rows, n_cols, figsize=(10, 5 * n_rows))\n",
    "    fig.suptitle('Confusion Matrix Comparison')\n",
    "\n",
    "    # Flatten the axes array for indexing\n",
    "    axes = axes.flatten()\n",
    "\n",
    "    # Loop through each confusion matrix and subplot\n",
    "    for i, (cm, kappa) in enumerate(zip(cm_list, kappa_list)):\n",
    "        ax = axes[i]\n",
    "        im = ax.imshow(cm, cmap=plt.cm.Blues)\n",
    "        ax.set_title(f'{experiments_rename[i]}\\nKappa Score: {kappa:.2f}')\n",
    "        ax.set_xlabel('Predicted Label')\n",
    "        ax.set_ylabel('True Label')\n",
    "        ax.set_xticks(np.arange(len(classes)))\n",
    "        ax.set_yticks(np.arange(len(classes)))\n",
    "        ax.set_xticklabels(classes)\n",
    "        ax.set_yticklabels(classes)\n",
    "\n",
    "        # Add a colorbar\n",
    "        fig.colorbar(im, ax=ax, shrink=0.6)\n",
    "\n",
    "        # Add the confusion matrix values as text annotations\n",
    "        for j in range(len(classes)):\n",
    "            for k in range(len(classes)):\n",
    "                text = ax.text(k, j, cm[j, k], ha='center', va='center', color='white')\n",
    "\n",
    "    # Hide any unused subplots\n",
    "    for i in range(n_plots, n_rows * n_cols):\n",
    "        axes[i].axis('off')\n",
    "\n",
    "    # Show the plot\n",
    "    plt.savefig(os.path.join(output_dir, prefix + \"compare_confusion_matrix.jpg\"))\n",
    "    plt.show()"
   ],
   "metadata": {
    "collapsed": false
   }
  },
  {
   "cell_type": "code",
   "execution_count": null,
   "outputs": [],
   "source": [
    "plot_classifications_confusion_matrix(['classifier_analysis/discriminator_pred_on_test.csv', 'classifier_analysis/fake_pop_discriminator_pred_on_test.csv'], output_folder, experiments_rename=['test_set', 'Gen-AC-GAN'], prefix=\"pop_classifier_comparison\")"
   ],
   "metadata": {
    "collapsed": false
   }
  },
  {
   "cell_type": "code",
   "execution_count": null,
   "outputs": [],
   "source": [],
   "metadata": {
    "collapsed": false
   }
  }
 ],
 "metadata": {
  "kernelspec": {
   "display_name": "Python 3",
   "language": "python",
   "name": "python3"
  },
  "language_info": {
   "codemirror_mode": {
    "name": "ipython",
    "version": 2
   },
   "file_extension": ".py",
   "mimetype": "text/x-python",
   "name": "python",
   "nbconvert_exporter": "python",
   "pygments_lexer": "ipython2",
   "version": "2.7.6"
  }
 },
 "nbformat": 4,
 "nbformat_minor": 0
}
