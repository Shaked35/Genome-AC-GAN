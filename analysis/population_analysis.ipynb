{
 "cells": [
  {
   "cell_type": "code",
   "execution_count": 1,
   "metadata": {
    "collapsed": true
   },
   "outputs": [
    {
     "name": "stderr",
     "output_type": "stream",
     "text": [
      "<frozen importlib._bootstrap>:228: RuntimeWarning: scipy._lib.messagestream.MessageStream size changed, may indicate binary incompatibility. Expected 56 from C header, got 64 from PyObject\n",
      "\n",
      "KeyboardInterrupt\n",
      "\n"
     ]
    }
   ],
   "source": [
    "\n",
    "import os.path\n",
    "from pathlib import Path\n",
    "\n",
    "from utils.util import *"
   ]
  },
  {
   "cell_type": "code",
   "execution_count": null,
   "outputs": [],
   "source": [
    "models_to_test = {\n",
    "    \"Real\": {\n",
    "        \"path\": \"resource/10K_SNP_1000G_real.hapt\",\n",
    "        \"color\": \"gray\"\n",
    "    },\n",
    "    \"F1 WITH PENALTY GS-AC-GAN\": {\n",
    "        \"path\": \"fake_genotypes_sequences/new_sequences/f1_score_test/genotypes.hapt\",\n",
    "        \"color\": \"red\"\n",
    "    },\n",
    "    \"SUB F1 WITH PENALTY GS-AC-GAN\": {\n",
    "        \"path\": \"fake_genotypes_sequences/new_sequences/f1_score_sub_pop/genotypes.hapt\",\n",
    "        \"color\": \"blue\"\n",
    "    },\n",
    "}"
   ],
   "metadata": {
    "collapsed": false
   }
  },
  {
   "cell_type": "code",
   "execution_count": null,
   "outputs": [],
   "source": [
    "output_dir = \"population_analysis\"\n",
    "Path(output_dir).mkdir(parents=True, exist_ok=True)\n",
    "figwi = 12"
   ],
   "metadata": {
    "collapsed": false
   }
  },
  {
   "cell_type": "code",
   "execution_count": null,
   "outputs": [],
   "source": [
    "model_name_to_input_file, model_name_to_color, color_palette = init_analysis_args(output_dir, models_to_test)"
   ],
   "metadata": {
    "collapsed": false
   }
  },
  {
   "cell_type": "code",
   "execution_count": null,
   "outputs": [],
   "source": [
    "real_data_1000_genome = load_real_data(hapt_genotypes_path=f\"../{REAL_10K_SNP_1000G_PATH}\",\n",
    "                                       extra_data_path=f\"../{REAL_EXTRA_DATA_PATH}\")\n",
    "real_data_1000_genome"
   ],
   "metadata": {
    "collapsed": false
   }
  },
  {
   "cell_type": "code",
   "execution_count": null,
   "outputs": [],
   "source": [
    "genotypes = get_relevant_columns(input_df=real_data_1000_genome, input_columns=[])\n",
    "relevant_columns = genotypes + ['Superpopulation code', 'Population code']\n",
    "print(f\"Number of SNPs: {len(genotypes)}\")"
   ],
   "metadata": {
    "collapsed": false
   }
  },
  {
   "cell_type": "code",
   "execution_count": null,
   "outputs": [],
   "source": [
    "pop = real_data_1000_genome['Superpopulation code']\n",
    "sub_pop = real_data_1000_genome['Population code']\n",
    "real_data_1000_genome_genotypes = real_data_1000_genome[genotypes]\n",
    "genotypes = [genotype for genotype in range(real_data_1000_genome_genotypes.shape[1])]\n",
    "real_data_1000_genome_genotypes.columns = genotypes\n",
    "\n",
    "real_data_1000_genome_genotypes['is_real'] = 1\n",
    "real_data_1000_genome_genotypes_by_pop = real_data_1000_genome_genotypes.copy()\n",
    "real_data_1000_genome_genotypes_by_pop['Superpopulation code'] = pop\n",
    "real_data_1000_genome_genotypes_by_pop = real_data_1000_genome_genotypes_by_pop.reset_index(drop=True)\n",
    "\n",
    "real_data_1000_genome_genotypes_by_sub_pop = real_data_1000_genome_genotypes.copy()\n",
    "real_data_1000_genome_genotypes_by_sub_pop['Population code'] = sub_pop\n",
    "real_data_1000_genome_genotypes_by_sub_pop = real_data_1000_genome_genotypes_by_sub_pop.reset_index(drop=True)\n",
    "\n",
    "real_data_1000_genome.head()"
   ],
   "metadata": {
    "collapsed": false
   }
  },
  {
   "cell_type": "code",
   "execution_count": null,
   "outputs": [],
   "source": [
    "def prepare_synthetic_data(input_file_path, target_column):\n",
    "    synthetic_pop_results = pd.read_csv(input_file_path, sep=' ', header=None)\n",
    "    pop = synthetic_pop_results[0]\n",
    "    synthetic_pop_results = synthetic_pop_results.drop(0, axis=1)\n",
    "    synthetic_pop_results.columns = [genotype for genotype in range(synthetic_pop_results.shape[1])]\n",
    "    synthetic_pop_results[target_column] = pop.str.replace('Fake_', \"\")\n",
    "    return synthetic_pop_results\n",
    "\n",
    "\n",
    "def prepare_old_synthetic_data(input_file_path):\n",
    "    synthetic_pop_results = pd.read_csv(input_file_path, sep=' ', header=None)\n",
    "    synthetic_pop_results = synthetic_pop_results.drop([0, 1], axis=1)\n",
    "    synthetic_pop_results.columns = [genotype for genotype in range(synthetic_pop_results.shape[1])]\n",
    "    return synthetic_pop_results\n",
    "\n",
    "\n",
    "synthetic_pop_results = prepare_synthetic_data(\n",
    "    '../fake_genotypes_sequences/new_sequences/full_pop/10001_genotypes.hapt', 'Superpopulation code')\n",
    "synthetic_pop_results = prepare_old_synthetic_data(\n",
    "    '../fake_genotypes_sequences/preview_sequences/10K_SNP_RBM_AG_1050epochs.hapt')\n",
    "synthetic_sub_pop_results = prepare_synthetic_data(\n",
    "    '../fake_genotypes_sequences/new_sequences/full_sub_pop/10001_genotypes.hapt', 'Population code')"
   ],
   "metadata": {
    "collapsed": false
   }
  },
  {
   "cell_type": "code",
   "execution_count": null,
   "outputs": [],
   "source": [
    "real_with_fake_by_pop = pd.concat([real_data_1000_genome_genotypes_by_pop, synthetic_pop_results])\n",
    "real_with_fake_by_pop['is_real'] = real_with_fake_by_pop['is_real'].fillna(0)\n",
    "real_with_fake_by_pop"
   ],
   "metadata": {
    "collapsed": false
   }
  },
  {
   "cell_type": "code",
   "execution_count": null,
   "outputs": [],
   "source": [
    "real_with_fake_by_sub_pop = pd.concat([real_data_1000_genome_genotypes_by_sub_pop, synthetic_sub_pop_results])\n",
    "real_with_fake_by_sub_pop['is_real'] = real_with_fake_by_sub_pop['is_real'].fillna(0)\n",
    "real_with_fake_by_sub_pop"
   ],
   "metadata": {
    "collapsed": false
   }
  },
  {
   "cell_type": "code",
   "execution_count": null,
   "outputs": [],
   "source": [
    "import pandas as pd\n",
    "import matplotlib.pyplot as plt\n",
    "from sklearn.decomposition import PCA\n",
    "\n",
    "\n",
    "def plot_pca_real_vs_fake(df, population_col, is_real_col, n_components):\n",
    "    \"\"\"\n",
    "    Plot PCA of real compared to fake on each population, with the number of required components.\n",
    "\n",
    "    Args:\n",
    "    df (pd.DataFrame): The dataset containing the samples.\n",
    "    population_col (str): The name of the column containing the population code.\n",
    "    is_real_col (str): The name of the column containing the indicator for real/fake samples.\n",
    "    n_components (int): The number of components to use in the PCA analysis.\n",
    "    \"\"\"\n",
    "\n",
    "    # Get unique populations\n",
    "    # uniques, counts = np.unique(df[population_col], return_counts=True)\n",
    "    # populations = [pop for i, pop in enumerate(uniques) if counts[i] > 420]\n",
    "    # print(counts)\n",
    "    populations = random.sample(list(df[population_col]), 6)\n",
    "    ext = 1\n",
    "    fig, axs = plt.subplots(nrows=3, ncols=len(populations),\n",
    "                            figsize=(len(populations) * 16, 3 * 22), constrained_layout=True)\n",
    "\n",
    "    # Create subplots\n",
    "\n",
    "    # Loop through populations\n",
    "    for pop_index, pop in enumerate(populations):\n",
    "\n",
    "        # Get real and fake samples for population\n",
    "        pop_df = df[df[population_col] == pop].reset_index(drop=True)\n",
    "        real_samples = pop_df[pop_df[is_real_col] == 1].iloc[:, :-2].values\n",
    "        fake_samples = pop_df[pop_df[is_real_col] == 0].iloc[:, :-2].values\n",
    "\n",
    "        # Fit PCA on real samples\n",
    "        pca = PCA(n_components=6)\n",
    "        # real_pca = pca.fit_transform(datasets['Real'])\n",
    "        pca.fit_transform(real_samples)\n",
    "\n",
    "        pcs = pca.transform(np.concatenate([real_samples, fake_samples]))\n",
    "        pcdf = pd.DataFrame(pcs, columns=[\"PC{}\".format(x + 1) for x in np.arange(pcs.shape[1])])\n",
    "        pcdf['label'] = pop_df['is_real']\n",
    "        pcdf['label'] = np.where(pcdf['label'] > 0.5, pop, 'Real')\n",
    "\n",
    "        for i, pcx in enumerate([0, 2, 4]):\n",
    "            # compute x and y ranges to force same dimension for all methods\n",
    "            pcs = pcdf.drop(columns=['label', 'coupled_with'], errors='ignore').values\n",
    "            xlim = (np.min(pcs[:, pcx]) - ext, np.max(pcs[:, pcx]) + ext)\n",
    "            ylim = (np.min(pcs[:, pcx + 1]) - ext, np.max(pcs[:, pcx + 1]) + ext)\n",
    "\n",
    "            reals = (pcdf.label == 'Real')\n",
    "            ax = axs[i, pop_index]\n",
    "\n",
    "            ax.scatter(pcdf.values[reals, pcx], pcdf.values[reals, pcx + 1], alpha=.5, s=500, color='white',\n",
    "                       edgecolor='white', linewidths=2)\n",
    "            keep = (pcdf.label == pop)\n",
    "            ax.scatter(pcdf.values[keep, pcx], pcdf.values[keep, pcx + 1], alpha=.5, color='red', s=500,\n",
    "                       edgecolor='red', linewidths=2)\n",
    "            ax.set_xlim(xlim)\n",
    "            ax.set_ylim(ylim)\n",
    "            ax.set_xlabel(\"PC{}\\n\".format(pcx + 1), fontsize=65, fontweight='bold')\n",
    "            ax.set_ylabel(\"\\nPC{}\".format(pcx + 2), fontsize=65, fontweight='bold')\n",
    "            if i == 0:\n",
    "                ax.set_title(f\"\\n{pop}\\n\", fontsize=80, fontweight='bold')\n",
    "            ax.set_facecolor('black')\n",
    "\n",
    "    plt.savefig(os.path.join(output_dir, 'pca_by_sub_pop.jpg'))\n",
    "    plt.show()"
   ],
   "metadata": {
    "collapsed": false
   }
  },
  {
   "cell_type": "code",
   "execution_count": null,
   "outputs": [],
   "source": [
    "plot_pca_real_vs_fake(real_with_fake_by_sub_pop, 'Population code', 'is_real', 2)\n"
   ],
   "metadata": {
    "collapsed": false
   }
  },
  {
   "cell_type": "code",
   "execution_count": null,
   "outputs": [],
   "source": [
    "def get_number_of_duplicate(df):\n",
    "    # Find all the duplicate rows in the dataframe\n",
    "    duplicates = df[df.duplicated(keep=False)]\n",
    "\n",
    "    # Get the indices of each duplicate row\n",
    "    indices = duplicates.index.tolist()\n",
    "\n",
    "    return round(len(indices) / float(len(df)) * 100, 2)"
   ],
   "metadata": {
    "collapsed": false
   }
  },
  {
   "cell_type": "code",
   "execution_count": null,
   "outputs": [],
   "source": [
    "rows = []\n",
    "for weight in [0.01, 0.02, 0.03, 0.1, 0.5]:\n",
    "    sub_size = int(len(genotypes) * weight)\n",
    "    print(f\"start calculating {sub_size} duplications\")\n",
    "    for i in range(200):\n",
    "        sub_list = random.sample(genotypes, sub_size)\n",
    "        rows.append({\"batch_size\": sub_size, \"Type\": \"Real\", \"percentage_of_duplications\": get_number_of_duplicate(\n",
    "            real_data_1000_genome_genotypes_by_pop[sub_list])})\n",
    "        rows.append({\"batch_size\": sub_size, \"Type\": \"Real & Old\",\n",
    "                     \"percentage_of_duplications\": get_number_of_duplicate(real_with_fake_by_pop[sub_list])})\n",
    "        rows.append({\"batch_size\": sub_size, \"Type\": \"Old\", \"percentage_of_duplications\":\n",
    "            get_number_of_duplicate(synthetic_pop_results[sub_list])})\n",
    "        rows.append({\"batch_size\": sub_size, \"Type\": \"Real & New\",\n",
    "                     \"percentage_of_duplications\": get_number_of_duplicate(real_with_fake_by_sub_pop[sub_list])})\n",
    "        rows.append({\"batch_size\": sub_size, \"Type\": \"New\", \"percentage_of_duplications\":\n",
    "            get_number_of_duplicate(synthetic_sub_pop_results[sub_list])})\n",
    "        if (i + 1) % 50 == 0:\n",
    "            print(f\"finished calculating {sub_size} duplications for {i+1} sub lists\")\n",
    "    print(f\"finished calculating {sub_size} duplications\")\n",
    "\n",
    "duplicates_sub_genomics = pd.DataFrame(rows)"
   ],
   "metadata": {
    "collapsed": false
   }
  },
  {
   "cell_type": "code",
   "execution_count": null,
   "outputs": [],
   "source": [
    "import matplotlib.pyplot as plt\n",
    "import numpy as np\n",
    "\n",
    "\n",
    "def plot_comparison(df):\n",
    "    fig, ax = plt.subplots(figsize=(18, 8))\n",
    "\n",
    "    # Group the DataFrame by 'Type' and calculate the mean of 'percentage_of_duplications' for each 'batch_size'\n",
    "    grouped_df = df.groupby(['Type', 'batch_size'])['percentage_of_duplications'].mean().reset_index()\n",
    "\n",
    "    # Get unique types and their count\n",
    "    types = np.unique(grouped_df['Type'])\n",
    "    num_types = len(types)\n",
    "\n",
    "    # Get unique non-empty batch sizes\n",
    "    batch_sizes = np.unique(grouped_df['batch_size'])\n",
    "\n",
    "    # Set the bar width and offset\n",
    "    bar_width = 1 / num_types\n",
    "    offset = bar_width / 2\n",
    "\n",
    "    # Loop through the types and plot the bars\n",
    "    for i, t in enumerate(types):\n",
    "        subset = grouped_df[grouped_df['Type'] == t]\n",
    "\n",
    "        # Filter the subset to include only non-empty batch sizes\n",
    "        subset = subset[subset['batch_size'].isin(batch_sizes)]\n",
    "\n",
    "        x = np.arange(len(subset))\n",
    "\n",
    "        # Plot the bars with mean 'percentage_of_duplications' values\n",
    "        bars = ax.bar(x + (i * bar_width) - offset, subset['percentage_of_duplications'], width=bar_width, label=t)\n",
    "\n",
    "        # Add the numbers on top of each bar\n",
    "        for bar in bars:\n",
    "            height = bar.get_height()\n",
    "            ax.text(bar.get_x() + bar.get_width() / 2, height, round(height, 2),\n",
    "                    ha='center', va='bottom')\n",
    "\n",
    "    # Set the y-axis as 'percentage_of_duplications'\n",
    "    ax.set_ylabel('Mean Number of Duplications Percentage')\n",
    "\n",
    "    # Set the x-axis as 'batch_size'\n",
    "    ax.set_xlabel('Batch Size')\n",
    "\n",
    "    # Set the title and legend\n",
    "    ax.set_title('Mean Number of Duplications Percentage by Type and Batch Size')\n",
    "    ax.legend()\n",
    "\n",
    "    # Adjust the x-axis tick labels\n",
    "    ax.set_xticks(np.arange(len(batch_sizes)))\n",
    "    ax.set_xticklabels(batch_sizes)\n",
    "\n",
    "    # Set the position of the x-axis label to be at the middle of the bars\n",
    "    # ax.xaxis.set_label_coords(0.5, -0.15)\n",
    "\n",
    "    # Rotate the x-axis tick labels for better visibility\n",
    "    plt.xticks(rotation=45)\n",
    "\n",
    "    # Show the plot\n",
    "    plt.tight_layout()\n",
    "    plt.show()\n"
   ],
   "metadata": {
    "collapsed": false
   }
  },
  {
   "cell_type": "code",
   "execution_count": null,
   "outputs": [],
   "source": [
    "plot_comparison(duplicates_sub_genomics)\n",
    "grouped_df = duplicates_sub_genomics.groupby(['Type', 'batch_size'])['percentage_of_duplications'].mean().reset_index()\n",
    "grouped_df.to_csv(\"grouped_df.csv\")"
   ],
   "metadata": {
    "collapsed": false
   }
  },
  {
   "cell_type": "code",
   "execution_count": null,
   "outputs": [],
   "source": [
    "def print_frequency_compression(current_df, target_column, title):\n",
    "    rows = []\n",
    "    for pop in current_df[target_column].unique():\n",
    "        if \",\" not in pop:\n",
    "            for is_real in [0, 1]:\n",
    "                tmp_df = current_df[current_df[target_column] == pop]\n",
    "                tmp_df = tmp_df[tmp_df[\"is_real\"] == is_real]\n",
    "                uniques, counts = np.unique(tmp_df[genotypes], return_counts=True)\n",
    "                tmp_percentages = dict(zip(uniques, 100 * counts / (len(tmp_df[genotypes]) * len(genotypes))))\n",
    "                tmp_percentages = {key: round(values, 3) for key, values in tmp_percentages.items()}\n",
    "                tmp_percentages[\"Pop\"] = pop\n",
    "                tmp_percentages[\"Type\"] = \"Real\" if is_real == 1 else \"Fake\"\n",
    "                rows.append(tmp_percentages)\n",
    "    # print(\"\\033[91m \\033[1m \", title, \"\\033[0m\")\n",
    "    # print(pd.DataFrame(rows).plot())\n",
    "    return pd.DataFrame(rows).sort_values(0)"
   ],
   "metadata": {
    "collapsed": false
   }
  },
  {
   "cell_type": "code",
   "execution_count": null,
   "outputs": [],
   "source": [
    "allel_freq_df = print_frequency_compression(real_with_fake_by_pop, target_column='Superpopulation code', title=\"title\")\n",
    "\n",
    "fig, ax = plt.subplots(figsize=(16, 10))\n",
    "\n",
    "real_genotypes = real_with_fake_by_sub_pop[real_with_fake_by_sub_pop[\"is_real\"] == 1][genotypes]\n",
    "uniques, counts = np.unique(real_genotypes, return_counts=True)\n",
    "tmp_percentages = dict(zip(uniques, 100 * counts / (len(real_genotypes) * len(genotypes))))\n",
    "tmp_percentages = {key: round(values) for key, values in tmp_percentages.items()}\n",
    "ax.axhline(y=tmp_percentages[1], color='black', linestyle='--', linewidth=2)\n",
    "\n",
    "# group the dataframe by 'Pop' and 'Type' columns, and get the sum of '1' column\n",
    "grouped = allel_freq_df.groupby(['Pop', 'Type'])[1].mean()\n",
    "\n",
    "# plot the grouped data as a bar plot with color mapped to the 'Type' categories\n",
    "grouped.unstack().plot(kind='bar', ax=ax, color=['red', 'blue'], width=0.6)\n",
    "\n",
    "# set the title and axis labels\n",
    "ax.set_title('Bar plot of Pop vs. 1, colored by Type')\n",
    "ax.set_xlabel('Pop')\n",
    "ax.set_ylabel('1')\n",
    "\n",
    "# show the plot"
   ],
   "metadata": {
    "collapsed": false
   }
  },
  {
   "cell_type": "code",
   "execution_count": null,
   "outputs": [],
   "source": [
    "def init_fake_genotypes(model_name: str):\n",
    "    tmp_df = pd.read_csv(model_name_to_input_file[model_name], sep=' ', header=None)\n",
    "    tmp_df[0] = tmp_df[0].str.replace('Fake_', '')\n",
    "    tmp_df = tmp_df.set_index(tmp_df[0])\n",
    "    tmp_df.drop([0], inplace=True, axis=1)\n",
    "    tmp_df.columns = genotypes\n",
    "    return tmp_df"
   ],
   "metadata": {
    "collapsed": false
   }
  },
  {
   "cell_type": "code",
   "execution_count": null,
   "outputs": [],
   "source": [
    "def split_by_target_column(input_df: pd.DataFrame, target_column):\n",
    "    real_split = {}\n",
    "    fake_split = {}\n",
    "    populations = input_df[target_column].unique()\n",
    "    input_df.set_index(target_column, inplace=True)\n",
    "    for pop_name in list(populations):\n",
    "        if len(input_df[input_df.index == pop_name]) > 20 and pop_name not in ['GBR', 'CLM', 'PJL', 'ACB', 'ESN', 'ITU',\n",
    "                                                                               'LWK', 'GIH', 'PUR', 'GWD', 'MSL']:\n",
    "            pop_df = input_df[input_df.index == pop_name]\n",
    "            real_split[pop_name] = pop_df[pop_df[\"is_real\"] == 0]\n",
    "            fake_split[pop_name] = pop_df[pop_df[\"is_real\"] == 1]\n",
    "    return real_split, fake_split"
   ],
   "metadata": {
    "collapsed": false
   }
  },
  {
   "cell_type": "code",
   "execution_count": null,
   "outputs": [],
   "source": [
    "real_split_by_sub_pop, fake_split_by_sub_pop = split_by_target_column(input_df=real_with_fake_by_pop.copy(),\n",
    "                                                                      target_column=\"Superpopulation code\")"
   ],
   "metadata": {
    "collapsed": false
   }
  },
  {
   "cell_type": "code",
   "execution_count": null,
   "outputs": [],
   "source": [
    "real_split_by_super_pop, fake_split_by_super_pop = split_by_target_column(input_df=real_with_fake_by_sub_pop.copy(),\n",
    "                                                                          target_column=\"Population code\")"
   ],
   "metadata": {
    "collapsed": false
   }
  },
  {
   "cell_type": "code",
   "execution_count": null,
   "outputs": [],
   "source": [
    "fake_sum_alleles_by_sub_pop, fake_allele_frequency_by_sub_pop, _ = build_allele_frequency(fake_split_by_sub_pop)\n",
    "fake_sum_alleles_by_super_pop, fake_allele_frequency_by_super_pop, _ = build_allele_frequency(fake_split_by_super_pop)\n",
    "real_sum_alleles_by_sub_pop, real_allele_frequency_by_sub_pop, _ = build_allele_frequency(real_split_by_sub_pop)\n",
    "real_sum_alleles_by_super_pop, real_allele_frequency_by_super_pop, _ = build_allele_frequency(real_split_by_super_pop)"
   ],
   "metadata": {
    "collapsed": false
   }
  },
  {
   "cell_type": "code",
   "execution_count": null,
   "outputs": [],
   "source": [
    "def plot_allele_frequency_fake_vs_real(real_input, fake_input, color, output_file_name):\n",
    "    l, c = np.ceil(len(fake_input) / 3), 3\n",
    "    plt.figure(figsize=(figwi, figwi * l / c))\n",
    "    for i, (model_name, fake_allele_frequency) in enumerate(fake_input.items()):\n",
    "        ax = plt.subplot(int(l), 3, i + 1)\n",
    "        plotreg(x=real_input[model_name], y=fake_allele_frequency,\n",
    "                keys=['Real', \"Fake\"], statname=\"Allele frequency\",\n",
    "                col=color, ax=ax)\n",
    "        plt.title(f'Allele Frequencies Fake vs Real - {model_name}')\n",
    "    plt.suptitle(f'Allele Frequencies vs Real \\n\\n')\n",
    "    plt.tight_layout()\n",
    "    plt.savefig(os.path.join(output_dir, output_file_name))"
   ],
   "metadata": {
    "collapsed": false
   }
  },
  {
   "cell_type": "code",
   "execution_count": null,
   "outputs": [],
   "source": [
    "plot_allele_frequency_fake_vs_real(real_input=real_allele_frequency_by_super_pop,\n",
    "                                   fake_input=fake_allele_frequency_by_super_pop,\n",
    "                                   color=\"blue\", output_file_name=\"allele_frequency_sub_pop.jpg\")"
   ],
   "metadata": {
    "collapsed": false
   }
  },
  {
   "cell_type": "code",
   "execution_count": null,
   "outputs": [],
   "source": [
    "plot_allele_frequency_fake_vs_real(real_input=real_allele_frequency_by_sub_pop,\n",
    "                                   fake_input=fake_allele_frequency_by_sub_pop,\n",
    "                                   color=\"red\", output_file_name=\"allele_frequency_pop.jpg\")"
   ],
   "metadata": {
    "collapsed": false
   }
  }
 ],
 "metadata": {
  "kernelspec": {
   "display_name": "Python 3",
   "language": "python",
   "name": "python3"
  },
  "language_info": {
   "codemirror_mode": {
    "name": "ipython",
    "version": 2
   },
   "file_extension": ".py",
   "mimetype": "text/x-python",
   "name": "python",
   "nbconvert_exporter": "python",
   "pygments_lexer": "ipython2",
   "version": "2.7.6"
  }
 },
 "nbformat": 4,
 "nbformat_minor": 0
}
