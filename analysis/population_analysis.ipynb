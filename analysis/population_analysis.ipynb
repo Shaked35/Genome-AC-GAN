{
 "cells": [
  {
   "cell_type": "code",
   "execution_count": 1,
   "metadata": {
    "collapsed": true
   },
   "outputs": [],
   "source": [
    "\n",
    "import os.path\n",
    "from pathlib import Path\n",
    "import plotly.graph_objects as go\n",
    "import plotly.subplots as sp\n",
    "import plotly.express as px\n",
    "\n",
    "from utils.util import *"
   ]
  },
  {
   "cell_type": "code",
   "execution_count": 2,
   "outputs": [],
   "source": [
    "output_dir = \"population_analysis\"\n",
    "Path(output_dir).mkdir(parents=True, exist_ok=True)\n",
    "figwi = 12"
   ],
   "metadata": {
    "collapsed": false
   }
  },
  {
   "cell_type": "code",
   "execution_count": 3,
   "outputs": [
    {
     "data": {
      "text/plain": "<Figure size 700x100 with 1 Axes>",
      "image/png": "[encoded data removed]"
     },
     "metadata": {},
     "output_type": "display_data"
    }
   ],
   "source": [
    "color_palette = [\"red\", \"blue\", \"gray\", \"green\", \"yellow\", \"black\", \"pink\"]\n",
    "sns.set_palette(color_palette)\n",
    "sns.palplot(sns.color_palette())"
   ],
   "metadata": {
    "collapsed": false
   }
  },
  {
   "cell_type": "code",
   "execution_count": 4,
   "outputs": [
    {
     "name": "stderr",
     "output_type": "stream",
     "text": [
      "\n",
      "KeyboardInterrupt\n",
      "\n"
     ]
    }
   ],
   "source": [
    "real_data_1000_genome = load_real_data(hapt_genotypes_path=f\"../{REAL_10K_SNP_1000G_PATH}\",\n",
    "                                       extra_data_path=f\"../{REAL_EXTRA_DATA_PATH}\")\n",
    "real_data_1000_genome = real_data_1000_genome[\n",
    "    ~real_data_1000_genome['Superpopulation code'].str.contains(',', na=False)]\n",
    "\n",
    "real_data_1000_genome"
   ],
   "metadata": {
    "collapsed": false
   }
  },
  {
   "cell_type": "code",
   "execution_count": null,
   "outputs": [],
   "source": [
    "genotypes = get_relevant_columns(input_df=real_data_1000_genome, input_columns=[])\n",
    "relevant_columns = genotypes + ['Superpopulation code', 'Population code']\n",
    "print(f\"Number of SNPs: {len(genotypes)}\")"
   ],
   "metadata": {
    "collapsed": false
   }
  },
  {
   "cell_type": "code",
   "execution_count": null,
   "outputs": [],
   "source": [
    "pop = real_data_1000_genome['Superpopulation code']\n",
    "sub_pop = real_data_1000_genome['Population code']\n",
    "real_data_1000_genome_genotypes = real_data_1000_genome[genotypes]\n",
    "genotypes = [genotype for genotype in range(real_data_1000_genome_genotypes.shape[1])]\n",
    "real_data_1000_genome_genotypes.columns = genotypes\n",
    "\n",
    "real_data_1000_genome_genotypes['is_real'] = 1\n",
    "real_data_1000_genome_genotypes_by_pop = real_data_1000_genome_genotypes.copy()\n",
    "real_data_1000_genome_genotypes_by_pop['Superpopulation code'] = pop\n",
    "real_data_1000_genome_genotypes_by_pop = real_data_1000_genome_genotypes_by_pop.reset_index(drop=True)\n",
    "\n",
    "real_data_1000_genome_genotypes_by_sub_pop = real_data_1000_genome_genotypes.copy()\n",
    "real_data_1000_genome_genotypes_by_sub_pop['Population code'] = sub_pop\n",
    "real_data_1000_genome_genotypes_by_sub_pop = real_data_1000_genome_genotypes_by_sub_pop.reset_index(drop=True)\n",
    "\n",
    "real_data_pop_ane_sub_pop = real_data_1000_genome_genotypes.copy()\n",
    "real_data_pop_ane_sub_pop['Superpopulation code'] = pop\n",
    "real_data_pop_ane_sub_pop['Population code'] = sub_pop\n",
    "real_data_1000_genome.head()"
   ],
   "metadata": {
    "collapsed": false
   }
  },
  {
   "cell_type": "code",
   "execution_count": null,
   "outputs": [],
   "source": [
    "def prepare_synthetic_data(input_file_path, target_column):\n",
    "    synthetic_pop_results = pd.read_csv(input_file_path, sep=' ', header=None)\n",
    "    pop = synthetic_pop_results[0]\n",
    "    synthetic_pop_results = synthetic_pop_results.drop(0, axis=1)\n",
    "    synthetic_pop_results.columns = [genotype for genotype in range(synthetic_pop_results.shape[1])]\n",
    "    synthetic_pop_results[target_column] = pop.str.replace('Fake_', \"\")\n",
    "    return synthetic_pop_results\n",
    "\n",
    "\n",
    "def prepare_old_synthetic_data(input_file_path):\n",
    "    synthetic_pop_results = pd.read_csv(input_file_path, sep=' ', header=None)\n",
    "    synthetic_pop_results = synthetic_pop_results.drop([0, 1], axis=1)\n",
    "    synthetic_pop_results.columns = [genotype for genotype in range(synthetic_pop_results.shape[1])]\n",
    "    return synthetic_pop_results\n",
    "\n",
    "\n",
    "synthetic_pop_results = prepare_synthetic_data(\n",
    "    '../fake_genotypes_sequences/new_sequences/polyloss_ce_10k_pop/9000_genotypes.hapt', 'Superpopulation code')\n",
    "\n",
    "synthetic_sub_pop_results = prepare_synthetic_data(\n",
    "    '../fake_genotypes_sequences/new_sequences/polyloss_ce_10k_sub_pop/9000_genotypes.hapt', 'Population code')"
   ],
   "metadata": {
    "collapsed": false
   }
  },
  {
   "cell_type": "code",
   "execution_count": null,
   "outputs": [],
   "source": [
    "real_with_fake_by_pop = pd.concat([real_data_1000_genome_genotypes_by_pop, synthetic_pop_results])\n",
    "real_with_fake_by_pop['is_real'] = real_with_fake_by_pop['is_real'].fillna(0)\n",
    "real_with_fake_by_pop"
   ],
   "metadata": {
    "collapsed": false
   }
  },
  {
   "cell_type": "code",
   "execution_count": null,
   "outputs": [],
   "source": [
    "real_with_fake_by_sub_pop = pd.concat([real_data_1000_genome_genotypes_by_sub_pop, synthetic_sub_pop_results])\n",
    "real_with_fake_by_sub_pop['is_real'] = real_with_fake_by_sub_pop['is_real'].fillna(0)\n",
    "real_with_fake_by_sub_pop"
   ],
   "metadata": {
    "collapsed": false
   }
  },
  {
   "cell_type": "code",
   "execution_count": null,
   "outputs": [],
   "source": [
    "def plot_pca_real_vs_fake(df, population_col, is_real_col, pop_type, color, number_of_columns=5):\n",
    "    \"\"\"\n",
    "    Plot PCA of real compared to fake on each population, with the number of required components.\n",
    "\n",
    "    Args:\n",
    "    df (pd.DataFrame): The dataset containing the samples.\n",
    "    population_col (str): The name of the column containing the population code.\n",
    "    is_real_col (str): The name of the column containing the indicator for real/fake samples.\n",
    "    \"\"\"\n",
    "\n",
    "    # Get unique populations\n",
    "    populations = list(df[population_col].unique())\n",
    "    populations = [pop for pop in populations if \",\" not in pop]\n",
    "    num_populations = len(populations)\n",
    "    num_rows = min(3, int(np.ceil(num_populations / number_of_columns)))\n",
    "    num_cols = number_of_columns\n",
    "    fig, axes = plt.subplots(num_rows, num_cols, figsize=(30, 7 * num_rows))\n",
    "    # fig.suptitle(f'PCA Population Comparison {pop_type} Population\\n', fontsize=24, fontweight='bold')\n",
    "\n",
    "    # Loop through populations\n",
    "    for pop_index, pop_name in enumerate(populations):\n",
    "\n",
    "        row = pop_index // num_cols\n",
    "        col = pop_index % num_cols\n",
    "        if row > 2:\n",
    "            break\n",
    "        print(f\"start calculating population: {pop_name}\")\n",
    "        # Get real and fake samples for population\n",
    "        pop_df = df[df[population_col] == pop_name].reset_index(drop=True)\n",
    "        real_samples = pop_df[pop_df[is_real_col] == 1].iloc[:, :-2].values\n",
    "        fake_samples = pop_df[pop_df[is_real_col] == 0].iloc[:, :-2].values\n",
    "\n",
    "        print(f\"calculating PCA population: {pop_name}\")\n",
    "        # Fit PCA on real samples\n",
    "        pca_real = PCA(n_components=2)\n",
    "        pca_real.fit(real_samples)\n",
    "        pca_real_transformed = pca_real.transform(real_samples)\n",
    "\n",
    "        # Fit PCA on fake samples\n",
    "        pca_fake = PCA(n_components=2)\n",
    "        pca_fake.fit(fake_samples)\n",
    "        pca_fake_transformed = pca_fake.transform(fake_samples)\n",
    "\n",
    "        wasserstein_dist = wasserstein_distance(pca_real_transformed.flatten(), pca_fake_transformed.flatten())\n",
    "\n",
    "        # Plot PCA comparison\n",
    "        if num_rows > 1:\n",
    "            ax = axes[row, col]\n",
    "        else:\n",
    "            ax = axes[col]\n",
    "        ax.scatter(pca_real_transformed[:, 0], pca_real_transformed[:, 1], color='black', label='Real',\n",
    "                   alpha=0.6, s=100)\n",
    "        ax.scatter(pca_fake_transformed[:, 0], pca_fake_transformed[:, 1], color=color,\n",
    "                   label=pop_name, alpha=0.5, s=100)\n",
    "        ax.set_title(\n",
    "            f'{pop_name}\\nWasserstein Distance: {wasserstein_dist:.4f}\\nNumber Of Real Sequences: {real_samples.shape[0]}\\nNumber Of Synthetic Sequences: {fake_samples.shape[0]}',\n",
    "            fontsize=22, fontweight='bold')\n",
    "\n",
    "        ax.legend()\n",
    "        print(f\"finished calculating population: {pop_name}\\n\")\n",
    "\n",
    "    plt.tight_layout()\n",
    "    plt.savefig(os.path.join(output_dir, f\"pca2_on_{pop_type}.jpg\"))\n",
    "    plt.show()\n"
   ],
   "metadata": {
    "collapsed": false
   }
  },
  {
   "cell_type": "code",
   "execution_count": null,
   "outputs": [],
   "source": [
    "plot_pca_real_vs_fake(real_with_fake_by_pop, 'Superpopulation code', 'is_real', 'Continental', color='blue')\n"
   ],
   "metadata": {
    "collapsed": false
   }
  },
  {
   "cell_type": "code",
   "execution_count": null,
   "outputs": [],
   "source": [
    "plot_pca_real_vs_fake(real_with_fake_by_sub_pop, 'Population code', 'is_real', 'National', color='green')"
   ],
   "metadata": {
    "collapsed": false
   }
  },
  {
   "cell_type": "code",
   "execution_count": null,
   "outputs": [],
   "source": [
    "\n",
    "n_components = 2\n",
    "pca = PCA(n_components=n_components)\n",
    "\n",
    "pca.fit(real_with_fake_by_pop[real_with_fake_by_pop['is_real'] == 1].iloc[:, :-2].values)\n",
    "\n",
    "components = pca.transform(real_with_fake_by_pop[real_with_fake_by_pop['is_real'] == 1].iloc[:, :-2].values)\n",
    "fig1 = px.scatter(components, x=0, y=1,\n",
    "                  color=real_with_fake_by_pop[real_with_fake_by_pop['is_real'] == 1][\"Superpopulation code\"],\n",
    "                  title=\"PCA By Super Population\")\n",
    "\n",
    "components = pca.transform(real_with_fake_by_pop[real_with_fake_by_pop['is_real'] == 0].iloc[:, :-2].values)\n",
    "\n",
    "fig2 = px.scatter(components, x=0, y=1,\n",
    "                  color=real_with_fake_by_pop[real_with_fake_by_pop['is_real'] == 0][\"Superpopulation code\"],\n",
    "                  title=\"PCA By Super Population\")"
   ],
   "metadata": {
    "collapsed": false
   }
  },
  {
   "cell_type": "code",
   "execution_count": null,
   "outputs": [],
   "source": [
    "n_components = 2\n",
    "pca = PCA(n_components=n_components)\n",
    "\n",
    "# Assign unique numeric labels to 'Superpopulation code'\n",
    "superpop_labels = np.unique(real_with_fake_by_pop['Superpopulation code'])\n",
    "label_map = {label: i for i, label in enumerate(superpop_labels)}\n",
    "real_with_fake_by_pop['Superpop Label'] = real_with_fake_by_pop['Superpopulation code'].map(label_map)\n",
    "print(\"label_map:\", label_map)\n",
    "# Fit and transform data for real samples\n",
    "real_data = real_with_fake_by_pop[real_with_fake_by_pop['is_real'] == 1].iloc[:, :-3].values\n",
    "pca.fit(real_data)\n",
    "real_components = pca.transform(real_data)\n",
    "\n",
    "# Fit and transform data for fake samples\n",
    "fake_data = real_with_fake_by_pop[real_with_fake_by_pop['is_real'] == 0].iloc[:, :-3].values\n",
    "pca.fit(fake_data)\n",
    "fake_components = pca.transform(fake_data)\n",
    "\n",
    "# Create subplots\n",
    "fig = sp.make_subplots(rows=1, cols=2,\n",
    "                       subplot_titles=(\"PCA By Continental Population (Real)\", \"PCA By Continental Population (Fake)\"))\n",
    "fig.update_layout(width=1000)\n",
    "# Add scatter plot for real components\n",
    "fig.add_trace(\n",
    "    go.Scatter(x=real_components[:, 0], y=real_components[:, 1],\n",
    "               mode='markers',\n",
    "               marker=dict(color=real_with_fake_by_pop[real_with_fake_by_pop['is_real'] == 1]['Superpop Label'],\n",
    "                           colorscale='Viridis', colorbar=dict(title='Continental')),\n",
    "               showlegend=False),\n",
    "\n",
    "    row=1, col=1\n",
    ")\n",
    "\n",
    "# Add scatter plot for fake components\n",
    "fig.add_trace(\n",
    "    go.Scatter(x=fake_components[:, 0], y=fake_components[:, 1],\n",
    "               mode='markers',\n",
    "               marker=dict(color=real_with_fake_by_pop[real_with_fake_by_pop['is_real'] == 0]['Superpop Label'],\n",
    "                           colorscale='Viridis', colorbar=dict(title='Continental')),\n",
    "               showlegend=False),\n",
    "    row=1, col=2\n",
    ")\n",
    "\n",
    "fig.write_image(os.path.join(output_dir, \"Continental_pca_total.jpg\"), format=\"jpeg\")\n",
    "fig.show()\n"
   ],
   "metadata": {
    "collapsed": false
   }
  },
  {
   "cell_type": "code",
   "execution_count": null,
   "outputs": [],
   "source": [
    "def dataframe_to_dict(df, key_column, value_column):\n",
    "    result_dict = {}\n",
    "\n",
    "    for index, row in df.iterrows():\n",
    "        key = row[key_column]\n",
    "        value = row[value_column]\n",
    "        result_dict[key] = value\n",
    "\n",
    "    return result_dict"
   ],
   "metadata": {
    "collapsed": false
   }
  },
  {
   "cell_type": "code",
   "execution_count": null,
   "outputs": [],
   "source": [
    "pop_to_super_pop = dataframe_to_dict(real_data_pop_ane_sub_pop, 'Population code', 'Superpopulation code')"
   ],
   "metadata": {
    "collapsed": false
   }
  },
  {
   "cell_type": "code",
   "execution_count": null,
   "outputs": [],
   "source": [
    "import random\n",
    "\n",
    "\n",
    "def plot_pca_with_colors(df, color_column, marker_column, file_name):\n",
    "    n_components = 2\n",
    "    pca = PCA(n_components=n_components)\n",
    "    components = pca.fit_transform(df)\n",
    "    color_map = {'AFR': 'red', 'AMR': 'blue', 'EAS': 'green', 'EUR': 'yellow', 'SAS': 'gray'}\n",
    "    fig = px.scatter(components, x=0, y=1, color=color_column, size_max=100, color_continuous_scale='Viridis',\n",
    "                     symbol=marker_column, symbol_sequence=['circle-open-dot'], color_discrete_map=color_map)\n",
    "\n",
    "    fig.update_layout(width=800, height=600, showlegend=False)\n",
    "    fig.update_xaxes(title=\"PCA1\", showticklabels=False, showgrid=False, zeroline=True)\n",
    "    fig.update_yaxes(title=\"PCA2\", showticklabels=False, showgrid=False, zeroline=True)\n",
    "\n",
    "    # Set the desired zoom-in range\n",
    "    # fig.update_xaxes(range=[-15, 19])\n",
    "    # fig.update_yaxes(range=[-15, 19])\n",
    "\n",
    "    # Calculate group sizes\n",
    "    group_sizes = marker_column.value_counts().to_dict()\n",
    "\n",
    "    # Add symbol name with random arrow length for each trace\n",
    "    ax_ay = [(50, 50), (-50, -50), (-100, 0), (100, 0), (-80, 60), (80, -60)]\n",
    "\n",
    "    for index, trace in enumerate(fig.data):\n",
    "        pos = index % len(ax_ay)\n",
    "\n",
    "        symbol_name = trace.name\n",
    "        symbol_name = symbol_name.split(\",\")[-1].strip()\n",
    "        x_avg = sum(trace.x) / len(trace.x)\n",
    "        y_avg = sum(trace.y) / len(trace.y)\n",
    "\n",
    "        ax_len = random.uniform(-100, 100)\n",
    "        ay_len = random.uniform(-100, 100)\n",
    "        color = trace.marker.color\n",
    "\n",
    "        group_name = symbol_name\n",
    "        if group_name in group_sizes:\n",
    "            borderpad = group_sizes[group_name] / max(group_sizes.values()) * 20\n",
    "        else:\n",
    "            borderpad = 10\n",
    "\n",
    "        fig.add_annotation(\n",
    "            x=x_avg,\n",
    "            y=y_avg,\n",
    "            text=symbol_name,\n",
    "            showarrow=False,\n",
    "            arrowhead=4,\n",
    "            bordercolor=\"black\",\n",
    "            borderwidth=2,\n",
    "            borderpad=borderpad,\n",
    "            bgcolor=color,\n",
    "            opacity=0.5,\n",
    "            font=dict(size=15)\n",
    "        )\n",
    "\n",
    "    fig.write_image(os.path.join(output_dir, file_name), format=\"jpg\", width=800, height=600)\n",
    "    fig.show()\n"
   ],
   "metadata": {
    "collapsed": false
   }
  },
  {
   "cell_type": "code",
   "execution_count": null,
   "outputs": [],
   "source": [
    "plot_pca_with_colors(synthetic_sub_pop_results.drop([\"Population code\"], axis=1),\n",
    "                     synthetic_sub_pop_results[\"Population code\"].replace(pop_to_super_pop),\n",
    "                     synthetic_sub_pop_results[\"Population code\"], \"fake_pca_by_sub_pop_and_pop.jpg\")"
   ],
   "metadata": {
    "collapsed": false
   }
  },
  {
   "cell_type": "code",
   "execution_count": null,
   "outputs": [],
   "source": [
    "plot_pca_with_colors(real_data_pop_ane_sub_pop[genotypes].drop([0, 1], axis=1),\n",
    "                     real_data_pop_ane_sub_pop[\"Superpopulation code\"], real_data_pop_ane_sub_pop[\"Population code\"],\n",
    "                     \"real_pca_by_sub_pop_and_pop.jpg\")"
   ],
   "metadata": {
    "collapsed": false
   }
  },
  {
   "cell_type": "code",
   "execution_count": null,
   "outputs": [],
   "source": [
    "print(real_data_pop_ane_sub_pop[genotypes])"
   ],
   "metadata": {
    "collapsed": false
   }
  },
  {
   "cell_type": "code",
   "execution_count": null,
   "outputs": [],
   "source": [
    "def print_frequency_compression(current_df, target_column):\n",
    "    rows = []\n",
    "    for pop in current_df[target_column].unique():\n",
    "        if \",\" not in pop:\n",
    "            for is_real in [0, 1]:\n",
    "                tmp_df = current_df[current_df[target_column] == pop]\n",
    "                tmp_df = tmp_df[tmp_df[\"is_real\"] == is_real]\n",
    "                uniques, counts = np.unique(tmp_df[genotypes], return_counts=True)\n",
    "                tmp_percentages = dict(zip(uniques, 100 * counts / (len(tmp_df[genotypes]) * len(genotypes))))\n",
    "                tmp_percentages = {key: round(values, 3) for key, values in tmp_percentages.items()}\n",
    "                tmp_percentages[\"Pop\"] = pop\n",
    "                tmp_percentages[\"Type\"] = \"Real\" if is_real == 1 else \"Fake\"\n",
    "                rows.append(tmp_percentages)\n",
    "\n",
    "    return pd.DataFrame(rows).sort_values(0)"
   ],
   "metadata": {
    "collapsed": false
   }
  },
  {
   "cell_type": "code",
   "execution_count": null,
   "outputs": [],
   "source": [
    "allel_freq_df = print_frequency_compression(real_with_fake_by_pop, target_column='Superpopulation code')\n",
    "\n",
    "fig, ax = plt.subplots(figsize=(16, 10))\n",
    "\n",
    "real_genotypes = real_with_fake_by_sub_pop[real_with_fake_by_sub_pop[\"is_real\"] == 1][genotypes]\n",
    "uniques, counts = np.unique(real_genotypes, return_counts=True)\n",
    "tmp_percentages = dict(zip(uniques, 100 * counts / (len(real_genotypes) * len(genotypes))))\n",
    "tmp_percentages = {key: round(values) for key, values in tmp_percentages.items()}\n",
    "ax.axhline(y=tmp_percentages[1], color='black', linestyle='--', linewidth=2)\n",
    "\n",
    "# group the dataframe by 'Pop' and 'Type' columns, and get the sum of '1' column\n",
    "grouped = allel_freq_df.groupby(['Pop', 'Type'])[1].mean()\n",
    "\n",
    "# plot the grouped data as a bar plot with color mapped to the 'Type' categories\n",
    "grouped.unstack().plot(kind='bar', ax=ax, color=['red', 'blue'], width=0.6)\n",
    "\n",
    "# set the title and axis labels\n",
    "ax.set_title('Bar plot of Pop vs. 1, colored by Type')\n",
    "ax.set_xlabel('Pop')\n",
    "ax.set_ylabel('1')\n",
    "\n",
    "# show the plot"
   ],
   "metadata": {
    "collapsed": false
   }
  },
  {
   "cell_type": "code",
   "execution_count": null,
   "outputs": [],
   "source": [
    "def split_by_target_column(input_df: pd.DataFrame, target_column):\n",
    "    real_split = {}\n",
    "    fake_split = {}\n",
    "    populations = input_df[target_column].unique()\n",
    "    input_df.set_index(target_column, inplace=True)\n",
    "    category_counts = pd.Series(list(input_df.index)).value_counts()\n",
    "    mean_counts = category_counts.mean()\n",
    "    std_counts = category_counts.std()\n",
    "    print(mean_counts, std_counts)\n",
    "    for index, pop_name in enumerate(list(populations)):\n",
    "        if index > 14:\n",
    "            break\n",
    "        pop_df = input_df[input_df.index == pop_name]\n",
    "        real_split[pop_name] = pop_df[pop_df[\"is_real\"] == 1].drop('is_real', axis=1)\n",
    "        fake_split[pop_name] = pop_df[pop_df[\"is_real\"] == 0].drop('is_real', axis=1)\n",
    "    return real_split, fake_split"
   ],
   "metadata": {
    "collapsed": false
   }
  },
  {
   "cell_type": "code",
   "execution_count": null,
   "outputs": [],
   "source": [
    "real_split_by_sub_pop, fake_split_by_sub_pop = split_by_target_column(input_df=real_with_fake_by_pop.copy(),\n",
    "                                                                      target_column=\"Superpopulation code\")"
   ],
   "metadata": {
    "collapsed": false
   }
  },
  {
   "cell_type": "code",
   "execution_count": null,
   "outputs": [],
   "source": [
    "real_split_by_super_pop, fake_split_by_super_pop = split_by_target_column(input_df=real_with_fake_by_sub_pop.copy(),\n",
    "                                                                          target_column=\"Population code\")"
   ],
   "metadata": {
    "collapsed": false
   }
  },
  {
   "cell_type": "code",
   "execution_count": null,
   "outputs": [],
   "source": [
    "fake_sum_alleles_by_sub_pop, fake_allele_frequency_by_sub_pop, _ = build_allele_frequency(fake_split_by_sub_pop)\n",
    "fake_sum_alleles_by_super_pop, fake_allele_frequency_by_super_pop, _ = build_allele_frequency(fake_split_by_super_pop)\n",
    "real_sum_alleles_by_sub_pop, real_allele_frequency_by_sub_pop, _ = build_allele_frequency(real_split_by_sub_pop)\n",
    "real_sum_alleles_by_super_pop, real_allele_frequency_by_super_pop, _ = build_allele_frequency(real_split_by_super_pop)\n",
    "real_allele_frequency_by_sub_pop"
   ],
   "metadata": {
    "collapsed": false
   }
  },
  {
   "cell_type": "code",
   "execution_count": null,
   "outputs": [],
   "source": [
    "def plot_allele_frequency_fake_vs_real(real_input, fake_input, color, output_file_name, pop_type):\n",
    "    l, c = np.ceil(len(fake_input) / 5), 5\n",
    "    plt.figure(figsize=(figwi, figwi * l / c))\n",
    "    for i, (pop_name, fake_allele_frequency) in enumerate(fake_input.items()):\n",
    "        ax = plt.subplot(int(l), 5, i + 1)\n",
    "        plotreg(x=real_input[pop_name], y=fake_allele_frequency,\n",
    "                keys=['Real', \"Fake\"], statname=\"Allele frequency\",\n",
    "                col=color, ax=ax)\n",
    "        plt.title(pop_name)\n",
    "    # plt.suptitle(f'Allele Frequencies {pop_type} Fake vs Real \\n')\n",
    "    plt.tight_layout()\n",
    "    plt.savefig(os.path.join(output_dir, output_file_name))\n",
    "\n",
    "\n",
    "def plot_allele_frequency_fake_vs_real(real_input, fake_input, color, output_file_name, pop_type):\n",
    "    l, c = np.ceil(len(fake_input) / 5), 5\n",
    "    plt.figure(figsize=(figwi, figwi * l / c))\n",
    "    for i, (pop_name, fake_allele_frequency) in enumerate(fake_input.items()):\n",
    "        ax = plt.subplot(int(l), 5, i + 1)\n",
    "        plotreg(x=real_input[pop_name], y=fake_allele_frequency,\n",
    "                keys=['Real', \"Fake\"], statname=\"Allele frequency\",\n",
    "                col=color, ax=ax)\n",
    "        plt.title(pop_name)\n",
    "        plt.xlabel(\"Real allele frequency\")\n",
    "        plt.ylabel(\"Fake allele frequency\")\n",
    "        plt.tight_layout()\n",
    "    plt.savefig(os.path.join(output_dir, output_file_name))\n"
   ],
   "metadata": {
    "collapsed": false
   }
  },
  {
   "cell_type": "code",
   "execution_count": null,
   "outputs": [],
   "source": [
    "plot_allele_frequency_fake_vs_real(real_input=real_allele_frequency_by_super_pop,\n",
    "                                   fake_input=fake_allele_frequency_by_super_pop,\n",
    "                                   color=\"blue\", output_file_name=\"allele_frequency_sub_pop.jpg\", pop_type=\"National\")"
   ],
   "metadata": {
    "collapsed": false
   }
  },
  {
   "cell_type": "code",
   "execution_count": null,
   "outputs": [],
   "source": [
    "plot_allele_frequency_fake_vs_real(real_input=real_allele_frequency_by_sub_pop,\n",
    "                                   fake_input=fake_allele_frequency_by_sub_pop,\n",
    "                                   color=\"green\", output_file_name=\"allele_frequency_pop.jpg\", pop_type=\"Continental\")"
   ],
   "metadata": {
    "collapsed": false
   }
  },
  {
   "cell_type": "code",
   "execution_count": null,
   "outputs": [],
   "source": [
    "pd.DataFrame(real_allele_frequency_by_super_pop)\n"
   ],
   "metadata": {
    "collapsed": false
   }
  },
  {
   "cell_type": "code",
   "execution_count": null,
   "outputs": [],
   "source": [
    "import matplotlib.pyplot as plt\n",
    "import pandas as pd\n",
    "from scipy.stats import wasserstein_distance\n",
    "\n",
    "\n",
    "def get_allele_frequency_plot(real_frequency, fake_frequency, color, output_file_name):\n",
    "    # Get the list of population names\n",
    "    population_names = real_frequency.columns.tolist()\n",
    "    population_names = random.sample(population_names, min(len(population_names), 5))\n",
    "    # Create a figure and subplots\n",
    "    fig, axes = plt.subplots(figsize=(16, 10), nrows=len(population_names), sharey=True)\n",
    "\n",
    "    # Plot the data\n",
    "    for i, population_name in enumerate(population_names):\n",
    "        axes[i].plot(real_frequency.index, real_frequency[population_name], label='Real', color='black')\n",
    "        axes[i].plot(fake_frequency.index, fake_frequency[population_name], label='Fake', alpha=0.5, color=color)\n",
    "        wasserstein_distance_value = wasserstein_distance(real_frequency[population_name],\n",
    "                                                          fake_frequency[population_name])\n",
    "        axes[i].set_title(f\"{population_name}: Wasserstein Distance = {round(wasserstein_distance_value, 3)}\",\n",
    "                          fontsize=18)\n",
    "        axes[i].legend(loc='right')\n",
    "\n",
    "    # Set the figure title and adjust the layout\n",
    "    # fig.suptitle('Comparison of Allele Frequencies by Position')\n",
    "    plt.tight_layout()\n",
    "\n",
    "    # Save the figure\n",
    "    plt.savefig(os.path.join(output_dir, output_file_name))\n"
   ],
   "metadata": {
    "collapsed": false
   }
  },
  {
   "cell_type": "code",
   "execution_count": null,
   "outputs": [],
   "source": [
    "get_allele_frequency_plot(real_frequency=pd.DataFrame(real_allele_frequency_by_sub_pop).drop('Superpop Label', axis=0),\n",
    "                          fake_frequency=pd.DataFrame(fake_allele_frequency_by_sub_pop).drop('Superpop Label', axis=0),\n",
    "                          color='blue', output_file_name=\"allele_frequency_by_continental.jpg\")"
   ],
   "metadata": {
    "collapsed": false
   }
  },
  {
   "cell_type": "code",
   "execution_count": null,
   "outputs": [],
   "source": [
    "get_allele_frequency_plot(real_frequency=pd.DataFrame(real_allele_frequency_by_super_pop),\n",
    "                          fake_frequency=pd.DataFrame(fake_allele_frequency_by_super_pop),\n",
    "                          color='green', output_file_name=\"allele_frequency_by_National.jpg\")"
   ],
   "metadata": {
    "collapsed": false
   }
  },
  {
   "cell_type": "code",
   "execution_count": null,
   "outputs": [],
   "source": [
    "real_data_pop_ane_sub_pop[\"Population code\"]"
   ],
   "metadata": {
    "collapsed": false
   }
  },
  {
   "cell_type": "code",
   "execution_count": null,
   "outputs": [],
   "source": [
    "sample_count_per_population = real_data_pop_ane_sub_pop[\"Population code\"].value_counts()\n",
    "print(sample_count_per_population)"
   ],
   "metadata": {
    "collapsed": false
   }
  },
  {
   "cell_type": "code",
   "execution_count": null,
   "outputs": [],
   "source": [
    "# Assuming you have a pandas DataFrame named \"df\" with the desired columns\n",
    "grouped_df = real_data_1000_genome.groupby(\n",
    "    [\"Population code\", \"Population name\", \"Superpopulation code\", \"Superpopulation name\"]).agg({\n",
    "    \"Superpopulation code\": \"count\"\n",
    "})\n",
    "\n",
    "# Rename the count columns\n",
    "grouped_df = grouped_df.rename(columns={\"Superpopulation code\": \"Superpopulation code count\"})\n",
    "\n",
    "# Reset the index to turn the groupby keys into columns\n",
    "grouped_df = grouped_df.reset_index()\n",
    "\n",
    "# Print the resulting DataFrame\n",
    "print(grouped_df[grouped_df[\"Population code\"].isin([\"MSL\", \"FIN\", \"PJL\", \"BEB\", \"CLM\"])])"
   ],
   "metadata": {
    "collapsed": false
   }
  },
  {
   "cell_type": "code",
   "execution_count": null,
   "outputs": [],
   "source": [
    "# Assuming you have a pandas DataFrame named \"df\" with the desired columns\n",
    "population_counts = real_data_1000_genome[\"Population code\"].value_counts().reset_index()\n",
    "population_counts.columns = [\"Population code\", \"Population code count\"]\n",
    "\n",
    "superpopulation_counts = real_data_1000_genome[\"Superpopulation code\"].value_counts().reset_index()\n",
    "superpopulation_counts.columns = [\"Superpopulation code\", \"Superpopulation code count\"]\n",
    "\n",
    "# Merge the counts into a single DataFrame\n",
    "combined_counts = population_counts.merge(superpopulation_counts, how=\"outer\", left_on=\"Population code\",\n",
    "                                          right_on=\"Superpopulation code\")\n",
    "combined_counts = combined_counts.drop(\"Superpopulation code\", axis=1)\n",
    "\n",
    "# Print the resulting DataFrame\n",
    "print(combined_counts)\n"
   ],
   "metadata": {
    "collapsed": false
   }
  },
  {
   "cell_type": "code",
   "execution_count": null,
   "outputs": [],
   "source": [],
   "metadata": {
    "collapsed": false
   }
  }
 ],
 "metadata": {
  "kernelspec": {
   "display_name": "Python 3",
   "language": "python",
   "name": "python3"
  },
  "language_info": {
   "codemirror_mode": {
    "name": "ipython",
    "version": 2
   },
   "file_extension": ".py",
   "mimetype": "text/x-python",
   "name": "python",
   "nbconvert_exporter": "python",
   "pygments_lexer": "ipython2",
   "version": "2.7.6"
  }
 },
 "nbformat": 4,
 "nbformat_minor": 0
}
