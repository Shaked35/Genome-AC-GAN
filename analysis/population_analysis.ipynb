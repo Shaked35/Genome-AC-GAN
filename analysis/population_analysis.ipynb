{
 "cells": [
  {
   "cell_type": "code",
   "execution_count": null,
   "metadata": {
    "collapsed": true
   },
   "outputs": [],
   "source": [
    "import os.path\n",
    "from pathlib import Path\n",
    "\n",
    "import plotly.express as px\n",
    "import plotly.graph_objects as go\n",
    "import plotly.subplots as sp\n",
    "\n",
    "from utils.util import *\n",
    "from scipy.stats import wasserstein_distance\n",
    "%matplotlib inline"
   ]
  },
  {
   "cell_type": "code",
   "execution_count": null,
   "outputs": [],
   "source": [
    "output_dir = \"population_analysis\"\n",
    "Path(output_dir).mkdir(parents=True, exist_ok=True)\n",
    "figwi = 20"
   ],
   "metadata": {
    "collapsed": false
   }
  },
  {
   "cell_type": "code",
   "execution_count": null,
   "outputs": [],
   "source": [
    "color_palette = [\"white\", \"blue\", \"red\", \"green\", \"yellow\", \"black\", \"pink\"]\n",
    "sns.set_palette(color_palette)\n",
    "sns.palplot(sns.color_palette())"
   ],
   "metadata": {
    "collapsed": false
   }
  },
  {
   "cell_type": "code",
   "execution_count": null,
   "outputs": [],
   "source": [
    "real_data_1000_genome = load_real_data(hapt_genotypes_path=f\"../{REAL_10K_SNP_1000G_PATH}\",\n",
    "                                       extra_data_path=f\"../{REAL_EXTRA_DATA_PATH}\")\n",
    "real_data_1000_genome = real_data_1000_genome[\n",
    "    ~real_data_1000_genome['Superpopulation code'].str.contains(',', na=False)]\n",
    "\n",
    "real_data_1000_genome"
   ],
   "metadata": {
    "collapsed": false
   }
  },
  {
   "cell_type": "code",
   "execution_count": null,
   "outputs": [],
   "source": [
    "genotypes = get_relevant_columns(input_df=real_data_1000_genome, input_columns=[])\n",
    "relevant_columns = genotypes + ['Superpopulation code', 'Population code']\n",
    "print(f\"Number of SNPs: {len(genotypes)}\")"
   ],
   "metadata": {
    "collapsed": false
   }
  },
  {
   "cell_type": "code",
   "execution_count": null,
   "outputs": [],
   "source": [
    "pop = real_data_1000_genome['Superpopulation code']\n",
    "sub_pop = real_data_1000_genome['Population code']\n",
    "real_data_1000_genome_genotypes = real_data_1000_genome[genotypes]\n",
    "genotypes = [genotype for genotype in range(real_data_1000_genome_genotypes.shape[1])]\n",
    "real_data_1000_genome_genotypes.columns = genotypes\n",
    "\n",
    "real_data_1000_genome_genotypes['is_real'] = 1\n",
    "real_data_1000_genome_genotypes_by_pop = real_data_1000_genome_genotypes.copy()\n",
    "real_data_1000_genome_genotypes_by_pop['Superpopulation code'] = pop\n",
    "real_data_1000_genome_genotypes_by_pop = real_data_1000_genome_genotypes_by_pop.reset_index(drop=True)\n",
    "\n",
    "real_data_1000_genome_genotypes_by_sub_pop = real_data_1000_genome_genotypes.copy()\n",
    "real_data_1000_genome_genotypes_by_sub_pop['Population code'] = sub_pop\n",
    "real_data_1000_genome_genotypes_by_sub_pop = real_data_1000_genome_genotypes_by_sub_pop.reset_index(drop=True)\n",
    "\n",
    "real_data_pop_ane_sub_pop = real_data_1000_genome_genotypes.copy()\n",
    "real_data_pop_ane_sub_pop['Superpopulation code'] = pop\n",
    "real_data_pop_ane_sub_pop['Population code'] = sub_pop\n",
    "real_data_1000_genome.head()"
   ],
   "metadata": {
    "collapsed": false
   }
  },
  {
   "cell_type": "code",
   "execution_count": null,
   "outputs": [],
   "source": [
    "# def prepare_synthetic_data(input_file_path, target_column, number_of_samples):\n",
    "#     synthetic_pop_results = pd.read_csv(input_file_path, sep=' ', header=None)\n",
    "#\n",
    "#     category_counts = synthetic_pop_results[0].value_counts()\n",
    "#     sample_counts = (category_counts / category_counts.sum() * (number_of_samples)).astype(int)\n",
    "#     synthetic_pop_results = synthetic_pop_results.sample(frac=1).reset_index(drop=True)\n",
    "#     # Sample rows from each category\n",
    "#     synthetic_pop_results = synthetic_pop_results.groupby(0).apply(\n",
    "#         lambda x: x.sample(sample_counts[x.name])).reset_index(drop=True)\n",
    "#     pop = synthetic_pop_results[0]\n",
    "#     synthetic_pop_results = synthetic_pop_results.drop(0, axis=1)\n",
    "#     synthetic_pop_results.columns = [genotype for genotype in range(synthetic_pop_results.shape[1])]\n",
    "#\n",
    "#     synthetic_pop_results[target_column] = pop.str.replace('Fake_', \"\")\n",
    "#     return synthetic_pop_results\n",
    "\n",
    "def prepare_synthetic_data(input_file_path, target_column):\n",
    "    synthetic_pop_results = pd.read_csv(input_file_path, sep=' ', header=None)\n",
    "    pop = synthetic_pop_results[0]\n",
    "    synthetic_pop_results = synthetic_pop_results.drop(0, axis=1)\n",
    "    synthetic_pop_results.columns = [genotype for genotype in range(synthetic_pop_results.shape[1])]\n",
    "    synthetic_pop_results[target_column] = pop.str.replace('Fake_', \"\")\n",
    "    return synthetic_pop_results\n",
    "\n",
    "def prepare_old_synthetic_data(input_file_path):\n",
    "    synthetic_pop_results = pd.read_csv(input_file_path, sep=' ', header=None)\n",
    "    synthetic_pop_results = synthetic_pop_results.drop([0, 1], axis=1)\n",
    "    synthetic_pop_results.columns = [genotype for genotype in range(synthetic_pop_results.shape[1])]\n",
    "    return synthetic_pop_results\n"
   ],
   "metadata": {
    "collapsed": false
   }
  },
  {
   "cell_type": "code",
   "execution_count": null,
   "outputs": [],
   "source": [
    "synthetic_sub_pop_results = prepare_synthetic_data(\n",
    "    '../resource/Genome-AC-GAN By National Population genotypes.hapt', 'Population code')\n",
    "synthetic_sub_pop_results"
   ],
   "metadata": {
    "collapsed": false
   }
  },
  {
   "cell_type": "code",
   "execution_count": null,
   "outputs": [],
   "source": [
    "synthetic_pop_results = prepare_synthetic_data(\n",
    "    '../resource/Genome-AC-GAN By Continental Population genotypes.hapt', 'Superpopulation code')\n",
    "synthetic_pop_results"
   ],
   "metadata": {
    "collapsed": false
   }
  },
  {
   "cell_type": "code",
   "execution_count": null,
   "outputs": [],
   "source": [
    "synthetic_pop_results.shape"
   ],
   "metadata": {
    "collapsed": false
   }
  },
  {
   "cell_type": "code",
   "execution_count": null,
   "outputs": [],
   "source": [
    "real_with_fake_by_pop = pd.concat([real_data_1000_genome_genotypes_by_pop, synthetic_pop_results])\n",
    "real_with_fake_by_pop['is_real'] = real_with_fake_by_pop['is_real'].fillna(0)\n",
    "real_with_fake_by_pop"
   ],
   "metadata": {
    "collapsed": false
   }
  },
  {
   "cell_type": "code",
   "execution_count": null,
   "outputs": [],
   "source": [
    "real_with_fake_by_sub_pop = pd.concat([real_data_1000_genome_genotypes_by_sub_pop, synthetic_sub_pop_results])\n",
    "real_with_fake_by_sub_pop['is_real'] = real_with_fake_by_sub_pop['is_real'].fillna(0)\n",
    "real_with_fake_by_sub_pop[\"Population code\"].unique()"
   ],
   "metadata": {
    "collapsed": false
   }
  },
  {
   "cell_type": "code",
   "execution_count": null,
   "outputs": [],
   "source": [
    "def plot_pca_real_vs_fake(df, population_col, is_real_col, pop_type, color, number_of_columns=5):\n",
    "    \"\"\"\n",
    "    Plot PCA of real compared to fake on each population, with the number of required components.\n",
    "\n",
    "    Args:\n",
    "    df (pd.DataFrame): The dataset containing the samples.\n",
    "    population_col (str): The name of the column containing the population code.\n",
    "    is_real_col (str): The name of the column containing the indicator for real/fake samples.\n",
    "    \"\"\"\n",
    "\n",
    "    # Get unique populations\n",
    "    populations = list(df[population_col].unique())\n",
    "    populations = [pop for pop in populations if \",\" not in pop]\n",
    "    num_populations = len(populations)\n",
    "    num_rows = min(5, int(np.ceil(num_populations / number_of_columns)))\n",
    "    num_cols = number_of_columns\n",
    "    fig, axes = plt.subplots(num_rows, num_cols, figsize=(30, 6 * num_rows))\n",
    "    # fig.suptitle(f'PCA Population Comparison {pop_type} Population\\n', fontsize=24, fontweight='bold')\n",
    "\n",
    "    # Loop through populations\n",
    "    for pop_index, pop_name in enumerate(populations):\n",
    "\n",
    "        row = pop_index // num_cols\n",
    "        col = pop_index % num_cols\n",
    "        if row > 4:\n",
    "            break\n",
    "        print(f\"start calculating population: {pop_name}\")\n",
    "        # Get real and fake samples for population\n",
    "        pop_df = df[df[population_col] == pop_name].reset_index(drop=True)\n",
    "        real_samples = pop_df[pop_df[is_real_col] == 1].iloc[:, :-2].values\n",
    "        fake_samples = pop_df[pop_df[is_real_col] == 0].iloc[:, :-2].values\n",
    "\n",
    "        print(f\"calculating PCA population: {pop_name}\")\n",
    "        # Fit PCA on real samples\n",
    "        pca_real = PCA(n_components=2)\n",
    "        pca_real.fit(real_samples)\n",
    "        pca_real_transformed = pca_real.transform(real_samples)\n",
    "\n",
    "        pca_fake_transformed = pca_real.transform(fake_samples)\n",
    "\n",
    "        # Plot PCA comparison\n",
    "        if num_rows > 1:\n",
    "            ax = axes[row, col]\n",
    "        else:\n",
    "            ax = axes[col]\n",
    "        ax.scatter(pca_real_transformed[:, 0], pca_real_transformed[:, 1], color='black', label='Real',\n",
    "                   alpha=0.6, s=100)\n",
    "        ax.scatter(pca_fake_transformed[:, 0], pca_fake_transformed[:, 1], color=color, alpha=0.5, s=100)\n",
    "\n",
    "        title = ax.set_title(pop_name, fontsize=40, fontweight='bold', color=\"white\")\n",
    "        title.set_bbox({'facecolor': 'black', 'edgecolor': color, 'pad': 10})  # Add a box around the title\n",
    "        print(f\"finished calculating population: {pop_name}\\n\")\n",
    "\n",
    "    # plt.tight_layout()\n",
    "    plt.savefig(os.path.join(output_dir, f\"pca2_on_{pop_type}.jpg\"), bbox_inches='tight', dpi=500)\n",
    "    plt.show()\n"
   ],
   "metadata": {
    "collapsed": false
   }
  },
  {
   "cell_type": "code",
   "execution_count": null,
   "outputs": [],
   "source": [
    "plot_pca_real_vs_fake(real_with_fake_by_pop.copy(), 'Superpopulation code', 'is_real', 'Continental', color='blue')\n"
   ],
   "metadata": {
    "collapsed": false,
    "pycharm": {
     "is_executing": true
    }
   }
  },
  {
   "cell_type": "code",
   "execution_count": null,
   "outputs": [],
   "source": [
    "from sklearn.manifold import TSNE  # Import t-SNE\n",
    "\n",
    "def plot_tsne_real_vs_fake(df, population_col, is_real_col, pop_type, color, number_of_columns=5):\n",
    "    \"\"\"\n",
    "    Plot t-SNE of real compared to fake on each population, with the number of required components.\n",
    "\n",
    "    Args:\n",
    "    df (pd.DataFrame): The dataset containing the samples.\n",
    "    population_col (str): The name of the column containing the population code.\n",
    "    is_real_col (str): The name of the column containing the indicator for real/fake samples.\n",
    "    \"\"\"\n",
    "\n",
    "    # Get unique populations\n",
    "    populations = list(df[population_col].unique())\n",
    "    populations = [pop for pop in populations if \",\" not in pop]\n",
    "    num_populations = len(populations)\n",
    "    num_rows = min(5, int(np.ceil(num_populations / number_of_columns)))\n",
    "    num_cols = number_of_columns\n",
    "    fig, axes = plt.subplots(num_rows, num_cols, figsize=(30, 6 * num_rows))\n",
    "\n",
    "    # Loop through populations\n",
    "    for pop_index, pop_name in enumerate(populations):\n",
    "\n",
    "        row = pop_index // num_cols\n",
    "        col = pop_index % num_cols\n",
    "        if row > 4:\n",
    "            break\n",
    "        print(f\"Start calculating population: {pop_name}\")\n",
    "\n",
    "        # Get real and fake samples for population\n",
    "        pop_df = df[df[population_col] == pop_name].reset_index(drop=True)\n",
    "        real_samples = pop_df[pop_df[is_real_col] == 1].iloc[:, :-2].values\n",
    "        fake_samples = pop_df[pop_df[is_real_col] == 0].iloc[:, :-2].values\n",
    "\n",
    "        print(f\"Calculating t-SNE for population: {pop_name}\")\n",
    "\n",
    "        # Fit t-SNE on real samples\n",
    "        tsne = TSNE(n_components=2, init='pca', learning_rate='auto', random_state=42)  # Adjust parameters as needed\n",
    "        tsne_real_transformed = tsne.fit_transform(real_samples)\n",
    "        tsne_fake_transformed = tsne.fit_transform(fake_samples)\n",
    "        wd = wasserstein_distance(tsne_real_transformed.flatten(), tsne_fake_transformed.flatten())\n",
    "\n",
    "        # Plot t-SNE comparison\n",
    "        if num_rows > 1:\n",
    "            ax = axes[row, col]\n",
    "        else:\n",
    "            ax = axes[col]\n",
    "        ax.scatter(tsne_real_transformed[:, 0], tsne_real_transformed[:, 1], color='black', label='Real',\n",
    "                   alpha=0.6, s=100)\n",
    "        ax.scatter(tsne_fake_transformed[:, 0], tsne_fake_transformed[:, 1], color=color,\n",
    "                   label=pop_name, alpha=0.5, s=100)\n",
    "\n",
    "        title = ax.set_title(pop_name, fontsize=40, fontweight='bold', color=\"white\")\n",
    "        title.set_bbox({'facecolor': 'black', 'edgecolor': color, 'pad': 10})  # Add a box around the title\n",
    "        print(f\"Finished calculating population: {pop_name} - {round(wd, 3)}\\n\")\n",
    "\n",
    "    plt.savefig(os.path.join(output_dir, f\"tsne_on_{pop_type}.jpg\"), bbox_inches='tight', dpi=500)\n",
    "    plt.show()\n"
   ],
   "metadata": {
    "collapsed": false,
    "pycharm": {
     "is_executing": true
    }
   }
  },
  {
   "cell_type": "code",
   "execution_count": null,
   "outputs": [],
   "source": [
    "# plot_tsne_real_vs_fake(real_with_fake_by_pop.copy(), 'Superpopulation code', 'is_real', 'Continental', color='blue')\n"
   ],
   "metadata": {
    "collapsed": false,
    "pycharm": {
     "is_executing": true
    }
   }
  },
  {
   "cell_type": "code",
   "execution_count": null,
   "outputs": [],
   "source": [
    "plot_pca_real_vs_fake(real_with_fake_by_sub_pop.copy(), 'Population code', 'is_real', 'National', color='green')"
   ],
   "metadata": {
    "collapsed": false,
    "pycharm": {
     "is_executing": true
    }
   }
  },
  {
   "cell_type": "code",
   "execution_count": null,
   "outputs": [],
   "source": [
    "n_components = 2\n",
    "pca = PCA(n_components=n_components)\n",
    "\n",
    "pca.fit(real_with_fake_by_pop[real_with_fake_by_pop['is_real'] == 1].iloc[:, :-2].values)\n",
    "\n",
    "components = pca.transform(real_with_fake_by_pop[real_with_fake_by_pop['is_real'] == 1].iloc[:, :-2].values)\n",
    "fig1 = px.scatter(components, x=0, y=1,\n",
    "                  color=real_with_fake_by_pop[real_with_fake_by_pop['is_real'] == 1][\"Superpopulation code\"],\n",
    "                  title=\"PCA By Super Population\")\n",
    "\n",
    "components = pca.transform(real_with_fake_by_pop[real_with_fake_by_pop['is_real'] == 0].iloc[:, :-2].values)\n",
    "\n",
    "fig2 = px.scatter(components, x=0, y=1,\n",
    "                  color=real_with_fake_by_pop[real_with_fake_by_pop['is_real'] == 0][\"Superpopulation code\"],\n",
    "                  title=\"PCA By Super Population\")"
   ],
   "metadata": {
    "collapsed": false
   }
  },
  {
   "cell_type": "code",
   "execution_count": null,
   "outputs": [],
   "source": [
    "n_components = 2\n",
    "pca = PCA(n_components=n_components)\n",
    "\n",
    "# Assign unique numeric labels to 'Superpopulation code'\n",
    "superpop_labels = np.unique(real_with_fake_by_pop['Superpopulation code'])\n",
    "label_map = {label: i for i, label in enumerate(superpop_labels)}\n",
    "real_with_fake_by_pop['Superpop Label'] = real_with_fake_by_pop['Superpopulation code'].map(label_map)\n",
    "print(\"label_map:\", label_map)\n",
    "# Fit and transform data for real samples\n",
    "real_data = real_with_fake_by_pop[real_with_fake_by_pop['is_real'] == 1].iloc[:, :-3].values\n",
    "pca.fit(real_data)\n",
    "real_components = pca.transform(real_data)\n",
    "\n",
    "# Fit and transform data for fake samples\n",
    "fake_data = real_with_fake_by_pop[real_with_fake_by_pop['is_real'] == 0].iloc[:, :-3].values\n",
    "pca.fit(fake_data)\n",
    "fake_components = pca.transform(fake_data)\n",
    "\n",
    "# Create subplots\n",
    "fig = sp.make_subplots(rows=1, cols=2,\n",
    "                       subplot_titles=(\"PCA By Continental Population (Real)\", \"PCA By Continental Population (Fake)\"))\n",
    "fig.update_layout(width=1000)\n",
    "# Add scatter plot for real components\n",
    "fig.add_trace(\n",
    "    go.Scatter(x=real_components[:, 0], y=real_components[:, 1],\n",
    "               mode='markers',\n",
    "               marker=dict(color=real_with_fake_by_pop[real_with_fake_by_pop['is_real'] == 1]['Superpop Label'],\n",
    "                           colorscale='Viridis', colorbar=dict(title='Continental')),\n",
    "               showlegend=False),\n",
    "\n",
    "    row=1, col=1\n",
    ")\n",
    "\n",
    "# Add scatter plot for fake components\n",
    "fig.add_trace(\n",
    "    go.Scatter(x=fake_components[:, 0], y=fake_components[:, 1],\n",
    "               mode='markers',\n",
    "               marker=dict(color=real_with_fake_by_pop[real_with_fake_by_pop['is_real'] == 0]['Superpop Label'],\n",
    "                           colorscale='Viridis', colorbar=dict(title='Continental')),\n",
    "               showlegend=False),\n",
    "    row=1, col=2\n",
    ")\n",
    "\n",
    "fig.write_image(os.path.join(output_dir, \"Continental_pca_total.jpg\"), format=\"jpeg\")\n",
    "fig.show()\n"
   ],
   "metadata": {
    "collapsed": false,
    "pycharm": {
     "is_executing": true
    }
   }
  },
  {
   "cell_type": "code",
   "execution_count": null,
   "outputs": [],
   "source": [
    "def dataframe_to_dict(df, key_column, value_column):\n",
    "    result_dict = {}\n",
    "\n",
    "    for index, row in df.iterrows():\n",
    "        key = row[key_column]\n",
    "        value = row[value_column]\n",
    "        result_dict[key] = value\n",
    "\n",
    "    return result_dict"
   ],
   "metadata": {
    "collapsed": false,
    "pycharm": {
     "is_executing": true
    }
   }
  },
  {
   "cell_type": "code",
   "execution_count": null,
   "outputs": [],
   "source": [
    "pop_to_super_pop = dataframe_to_dict(real_data_pop_ane_sub_pop, 'Population code', 'Superpopulation code')"
   ],
   "metadata": {
    "collapsed": false,
    "pycharm": {
     "is_executing": true
    }
   }
  },
  {
   "cell_type": "code",
   "execution_count": null,
   "outputs": [],
   "source": [
    "import random\n",
    "def plot_pca_with_colors(df, color_column, marker_column, file_name):\n",
    "    n_components = 2\n",
    "    pca = PCA(n_components=n_components)\n",
    "    components = pca.fit_transform(df)\n",
    "    color_map = {'AFR': 'white', 'AMR': 'blue', 'EAS': 'green', 'EUR': 'yellow', 'SAS': 'red'}\n",
    "    fig = px.scatter(components, x=0, y=1, color=color_column, size_max=100, color_continuous_scale='Viridis',\n",
    "                     symbol=marker_column, symbol_sequence=['circle-open-dot'], color_discrete_map=color_map)\n",
    "\n",
    "    fig.update_layout(width=800, height=600, showlegend=False)\n",
    "    fig.update_xaxes(title=\"PCA1\", showticklabels=False, showgrid=False, zeroline=True)\n",
    "    fig.update_yaxes(title=\"PCA2\", showticklabels=False, showgrid=False, zeroline=True)\n",
    "\n",
    "    # Calculate group sizes\n",
    "    group_sizes = marker_column.value_counts().to_dict()\n",
    "\n",
    "    # Add symbol name with random arrow length for each trace\n",
    "    ax_ay = [(50, 50), (-50, -50), (-100, 0), (100, 0), (-80, 60), (80, -60)]\n",
    "\n",
    "    for index, trace in enumerate(fig.data):\n",
    "        pos = index % len(ax_ay)\n",
    "\n",
    "        symbol_name = trace.name\n",
    "        symbol_name = symbol_name.split(\",\")[-1].strip()\n",
    "        x_avg = sum(trace.x) / len(trace.x)\n",
    "        y_avg = sum(trace.y) / len(trace.y)\n",
    "\n",
    "        ax_len = random.uniform(-100, 100)\n",
    "        ay_len = random.uniform(-100, 100)\n",
    "        color = trace.marker.color\n",
    "\n",
    "        group_name = symbol_name\n",
    "        if group_name in group_sizes:\n",
    "            borderpad = group_sizes[group_name] / max(group_sizes.values()) * 25\n",
    "        else:\n",
    "            borderpad = 15\n",
    "\n",
    "    fig.write_image(os.path.join(output_dir, file_name), format=\"jpg\", width=800, height=600)\n",
    "    fig.show()\n"
   ],
   "metadata": {
    "collapsed": false,
    "pycharm": {
     "is_executing": true
    }
   }
  },
  {
   "cell_type": "code",
   "execution_count": null,
   "outputs": [],
   "source": [
    "plot_pca_with_colors(synthetic_sub_pop_results.drop([\"Population code\"], axis=1),\n",
    "                     synthetic_sub_pop_results[\"Population code\"].replace(pop_to_super_pop),\n",
    "                     synthetic_sub_pop_results[\"Population code\"], \"fake_pca_by_sub_pop_and_pop.jpg\")"
   ],
   "metadata": {
    "collapsed": false,
    "pycharm": {
     "is_executing": true
    }
   }
  },
  {
   "cell_type": "code",
   "execution_count": null,
   "outputs": [],
   "source": [
    "plot_pca_with_colors(real_data_pop_ane_sub_pop[genotypes].drop([0, 1], axis=1),\n",
    "                     real_data_pop_ane_sub_pop[\"Superpopulation code\"], real_data_pop_ane_sub_pop[\"Population code\"],\n",
    "                     \"real_pca_by_sub_pop_and_pop.jpg\")"
   ],
   "metadata": {
    "collapsed": false,
    "pycharm": {
     "is_executing": true
    }
   }
  },
  {
   "cell_type": "code",
   "execution_count": null,
   "outputs": [],
   "source": [
    "plot_pca_with_colors(synthetic_pop_results.drop([\"Superpopulation code\"], axis=1),\n",
    "                     synthetic_pop_results[\"Superpopulation code\"],\n",
    "                     synthetic_pop_results[\"Superpopulation code\"], \"fake_pca_by_cont.jpg\")"
   ],
   "metadata": {
    "collapsed": false,
    "pycharm": {
     "is_executing": true
    }
   }
  },
  {
   "cell_type": "code",
   "execution_count": null,
   "outputs": [],
   "source": [
    "print(real_data_pop_ane_sub_pop[genotypes])"
   ],
   "metadata": {
    "collapsed": false,
    "pycharm": {
     "is_executing": true
    }
   }
  },
  {
   "cell_type": "code",
   "execution_count": null,
   "outputs": [],
   "source": [
    "def print_frequency_compression(current_df, target_column):\n",
    "    rows = []\n",
    "    for pop in current_df[target_column].unique():\n",
    "        if \",\" not in pop:\n",
    "            for is_real in [0, 1]:\n",
    "                tmp_df = current_df[current_df[target_column] == pop]\n",
    "                tmp_df = tmp_df[tmp_df[\"is_real\"] == is_real]\n",
    "                uniques, counts = np.unique(tmp_df[genotypes], return_counts=True)\n",
    "                tmp_percentages = dict(zip(uniques, 100 * counts / (len(tmp_df[genotypes]) * len(genotypes))))\n",
    "                tmp_percentages = {key: round(values, 3) for key, values in tmp_percentages.items()}\n",
    "                tmp_percentages[\"Pop\"] = pop\n",
    "                tmp_percentages[\"Type\"] = \"Real\" if is_real == 1 else \"Fake\"\n",
    "                rows.append(tmp_percentages)\n",
    "\n",
    "    return pd.DataFrame(rows).sort_values(0)"
   ],
   "metadata": {
    "collapsed": false,
    "pycharm": {
     "is_executing": true
    }
   }
  },
  {
   "cell_type": "code",
   "execution_count": null,
   "outputs": [],
   "source": [
    "allel_freq_df = print_frequency_compression(real_with_fake_by_pop, target_column='Superpopulation code')\n",
    "\n",
    "fig, ax = plt.subplots(figsize=(16, 10))\n",
    "\n",
    "real_genotypes = real_with_fake_by_sub_pop[real_with_fake_by_sub_pop[\"is_real\"] == 1][genotypes]\n",
    "uniques, counts = np.unique(real_genotypes, return_counts=True)\n",
    "tmp_percentages = dict(zip(uniques, 100 * counts / (len(real_genotypes) * len(genotypes))))\n",
    "tmp_percentages = {key: round(values) for key, values in tmp_percentages.items()}\n",
    "ax.axhline(y=tmp_percentages[1], color='black', linestyle='--', linewidth=2)\n",
    "\n",
    "# group the dataframe by 'Pop' and 'Type' columns, and get the sum of '1' column\n",
    "grouped = allel_freq_df.groupby(['Pop', 'Type'])[1].mean()\n",
    "\n",
    "# plot the grouped data as a bar plot with color mapped to the 'Type' categories\n",
    "grouped.unstack().plot(kind='bar', ax=ax, color=['red', 'blue'], width=0.6)\n",
    "\n",
    "# set the title and axis labels\n",
    "ax.set_title('Bar plot of Pop vs. 1, colored by Type')\n",
    "ax.set_xlabel('Pop')\n",
    "ax.set_ylabel('1')\n",
    "\n",
    "# show the plot"
   ],
   "metadata": {
    "collapsed": false,
    "pycharm": {
     "is_executing": true
    }
   }
  },
  {
   "cell_type": "code",
   "execution_count": null,
   "outputs": [],
   "source": [
    "def split_by_target_column(input_df: pd.DataFrame, target_column, label=None):\n",
    "    real_split = {}\n",
    "    fake_split = {}\n",
    "    populations = input_df[target_column].unique()\n",
    "    input_df.set_index(target_column, inplace=True)\n",
    "    category_counts = pd.Series(list(input_df.index)).value_counts()\n",
    "    mean_counts = category_counts.mean()\n",
    "    std_counts = category_counts.std()\n",
    "    print(mean_counts, std_counts)\n",
    "    for index, pop_name in enumerate(list(populations)):\n",
    "        pop_df = input_df[input_df.index == pop_name]\n",
    "        if label is None:\n",
    "            real_split[pop_name] = pop_df[pop_df[\"is_real\"] == 1].drop('is_real', axis=1)\n",
    "            fake_split[pop_name] = pop_df[pop_df[\"is_real\"] == 0].drop('is_real', axis=1)\n",
    "        else:\n",
    "            real_split[pop_name] = pop_df[pop_df[\"is_real\"] == 1].drop('is_real', axis=1).drop(label, axis=1)\n",
    "            fake_split[pop_name] = pop_df[pop_df[\"is_real\"] == 0].drop('is_real', axis=1).drop(label, axis=1)\n",
    "    return real_split, fake_split"
   ],
   "metadata": {
    "collapsed": false
   }
  },
  {
   "cell_type": "code",
   "execution_count": null,
   "outputs": [],
   "source": [
    "real_split_by_sub_pop, fake_split_by_sub_pop = split_by_target_column(input_df=real_with_fake_by_pop.copy(),\n",
    "                                                                      target_column=\"Superpopulation code\", label='Superpop Label')"
   ],
   "metadata": {
    "collapsed": false
   }
  },
  {
   "cell_type": "code",
   "execution_count": null,
   "outputs": [],
   "source": [
    "real_split_by_super_pop, fake_split_by_super_pop = split_by_target_column(input_df=real_with_fake_by_sub_pop.copy(),\n",
    "                                                                          target_column=\"Population code\")"
   ],
   "metadata": {
    "collapsed": false
   }
  },
  {
   "cell_type": "code",
   "execution_count": null,
   "outputs": [],
   "source": [
    "# real_split[pop_name] = pop_df[pop_df[\"is_real\"] == 1].drop('is_real', axis=1)\n",
    "# fake_split[pop_name] = pop_df[pop_df[\"is_real\"] == 0].drop('is_real', axis=1)\n",
    "\n",
    "fake_sum_alleles_by_sub_pop, fake_allele_frequency_by_sub_pop, _ = build_allele_frequency(fake_split_by_sub_pop)\n",
    "fake_sum_alleles_by_super_pop, fake_allele_frequency_by_super_pop, _ = build_allele_frequency(fake_split_by_super_pop)\n",
    "real_sum_alleles_by_sub_pop, real_allele_frequency_by_sub_pop, _ = build_allele_frequency(real_split_by_sub_pop)\n",
    "real_sum_alleles_by_super_pop, real_allele_frequency_by_super_pop, _ = build_allele_frequency(real_split_by_super_pop)\n",
    "# len(real_split_by_super_pop.keys())"
   ],
   "metadata": {
    "collapsed": false
   }
  },
  {
   "cell_type": "code",
   "execution_count": null,
   "outputs": [],
   "source": [
    "from sklearn.metrics import mean_absolute_error, mean_squared_error\n",
    "\n",
    "\n",
    "def plotreg(x, y, keys, pop_name, col, ax=None):\n",
    "    \"\"\"\n",
    "    Plot for x versus y with regression scores and returns correlation coefficient\n",
    "\n",
    "    Parameters\n",
    "    ----------\n",
    "    x : array, scalar\n",
    "    y : array, scalar\n",
    "    statname : str\n",
    "        'Allele frequency' LD' or '3 point correlation' etc.\n",
    "    col : str, color code\n",
    "        color\n",
    "\n",
    "    \"\"\"\n",
    "\n",
    "    lims = [np.min(x), np.max(x)]\n",
    "    r, _ = pearsonr(x, y)\n",
    "    mae = mean_absolute_error(x, y)\n",
    "    # euclidean_distance = np.linalg.norm(x - y)\n",
    "    if ax is None:\n",
    "        ax = plt.subplot(1, 1, 1)\n",
    "\n",
    "\n",
    "    ax.plot(x, y, c=col, marker='o', lw=0, markersize=10)\n",
    "    ax.plot(lims, lims, ls='--', alpha=1, c='black')\n",
    "    title = ax.set_title(\n",
    "        f'{pop_name}\\nCorrelation={round(r * 100, 2)}%\\nMAE={round(mae, 4)}',\n",
    "        fontsize=65, fontweight='bold', color='black', y=1.05)\n",
    "    title.set_bbox({'facecolor': (0.9, 0.9, 0.9), 'edgecolor': \"black\", 'pad': 1.5})\n",
    "    ax.set_xlabel(\"AF In Real\", fontsize=50, fontweight=\"bold\")\n",
    "    ax.set_ylabel(\"AF In Synthetic\", fontsize=50, fontweight=\"bold\")\n",
    "\n",
    "    return r"
   ],
   "metadata": {
    "collapsed": false
   }
  },
  {
   "cell_type": "code",
   "execution_count": null,
   "outputs": [],
   "source": [
    "def plot_allele_frequency_fake_vs_real(real_input, fake_input, color, output_file_name):\n",
    "    num_cols = 5  # Number of columns for subplots\n",
    "    num_rows = len(real_input) // 5 # Number of rows for subplots\n",
    "    plt.figure(figsize=(10 * num_cols, 10 * num_rows))\n",
    "\n",
    "    number_of_plots = 0\n",
    "    for i, (pop_name, fake_allele_frequency) in enumerate(fake_input.items()):\n",
    "        number_of_plots += 1\n",
    "        if number_of_plots > (num_cols * num_rows):\n",
    "            break\n",
    "        ax = plt.subplot(num_rows, num_cols, i + 1)\n",
    "        plotreg(x=real_input[pop_name], y=fake_allele_frequency,\n",
    "                keys=['Real', \"Synthetic\"], pop_name=pop_name,\n",
    "                col=color, ax=ax)\n",
    "    plt.tight_layout()\n",
    "    plt.savefig(os.path.join(output_dir, output_file_name), bbox_inches='tight', dpi=200)\n"
   ],
   "metadata": {
    "collapsed": false
   }
  },
  {
   "cell_type": "code",
   "execution_count": null,
   "outputs": [],
   "source": [
    "plot_allele_frequency_fake_vs_real(real_input=real_allele_frequency_by_sub_pop,\n",
    "                                   fake_input=fake_allele_frequency_by_sub_pop,\n",
    "                                   color=\"blue\", output_file_name=\"maf_continental.jpg\")"
   ],
   "metadata": {
    "collapsed": false
   }
  },
  {
   "cell_type": "code",
   "execution_count": null,
   "outputs": [],
   "source": [
    "plot_allele_frequency_fake_vs_real(real_input=real_allele_frequency_by_super_pop,\n",
    "                                   fake_input=fake_allele_frequency_by_super_pop,\n",
    "                                   color=\"green\", output_file_name=\"maf_national.jpg\")"
   ],
   "metadata": {
    "collapsed": false
   }
  },
  {
   "cell_type": "code",
   "execution_count": null,
   "outputs": [],
   "source": [
    "print(real_allele_frequency_by_sub_pop[\"SAS\"])"
   ],
   "metadata": {
    "collapsed": false
   }
  },
  {
   "cell_type": "code",
   "execution_count": null,
   "outputs": [],
   "source": [
    "\n",
    "import random\n",
    "RANDOM_POSITIONS = 1000\n",
    "def get_allele_frequency_plot(real_frequency, fake_frequency, output_file_name):\n",
    "    # Get the list of population names\n",
    "    population_names = real_frequency.columns.tolist()\n",
    "    if len(population_names) > 5:\n",
    "        population_names = [pop for pop in population_names if pop in ['KHV', 'ACB', 'ESN', 'CDX', 'GBR']]\n",
    "    population_names = random.sample(population_names, min(len(population_names), 5))\n",
    "    random_snp_positions = random.sample(real_frequency.index.tolist(), RANDOM_POSITIONS)\n",
    "\n",
    "    # Define colors for real and synthetic data\n",
    "    colors = ['blue', 'red', 'green', 'purple', 'orange']\n",
    "\n",
    "    # Create a figure and subplots\n",
    "    fig, axes = plt.subplots(figsize=(60, 60), nrows=len(population_names), sharey=True)\n",
    "\n",
    "    # Plot the data\n",
    "    for i, population_name in enumerate(population_names):\n",
    "        real_pop_df = real_frequency[population_name]\n",
    "        fake_pop_df = fake_frequency[population_name]\n",
    "        real_frequency_filtered = real_pop_df[real_pop_df.index.isin(random_snp_positions)]\n",
    "        fake_frequency_filtered = fake_pop_df[fake_pop_df.index.isin(random_snp_positions)]\n",
    "\n",
    "\n",
    "        # Use different colors and line styles for real and synthetic data\n",
    "        axes[i].plot(fake_frequency_filtered.index, fake_frequency_filtered, label='Synthetic', color='red', linestyle='-',  linewidth=15)\n",
    "\n",
    "        axes[i].plot(real_frequency_filtered.index, real_frequency_filtered, label='Real', color=\"black\",  linestyle='-', alpha=0.8,linewidth=15)\n",
    "\n",
    "        wasserstein_distance_value = wasserstein_distance(real_frequency_filtered, fake_frequency_filtered)\n",
    "        title = axes[i].set_title(\n",
    "            f\"{population_name}: Wasserstein Distance = {round(wasserstein_distance_value, 3)},  Number Of SNPs = {round(len(real_frequency_filtered))}\",\n",
    "            fontsize=100, fontweight='bold', color='white', y=1.05)  # Set the title color to black\n",
    "        title.set_bbox({'facecolor': 'black', 'edgecolor': \"black\", 'pad': 2})  # Set the title box color to white\n",
    "\n",
    "        axes[i].set_xlabel('SNP', fontsize=70, fontweight='bold')\n",
    "        axes[i].set_ylabel('MAF', fontsize=70, fontweight='bold')\n",
    "        # axes[i].legend(loc='upper left', fontsize=40)\n",
    "        axes[i].grid(True, color='gray')  # Change grid color to gray for better visibility\n",
    "        # Add black horizontal lines at each 1000 on the x-axis\n",
    "        for j in range(0, int(max(real_frequency_filtered.index)), 1000):\n",
    "            axes[i].axvline(x=j, color='black', linestyle='--', alpha=0.8, linewidth=10)\n",
    "        axes[i].tick_params(axis='x', labelsize=60)\n",
    "        axes[i].tick_params(axis='y', labelsize=60)\n",
    "    plt.tight_layout()\n",
    "\n",
    "    # Save the figure\n",
    "    plt.savefig(os.path.join(output_dir, output_file_name), bbox_inches='tight', dpi=300)\n"
   ],
   "metadata": {
    "collapsed": false,
    "pycharm": {
     "is_executing": true
    }
   }
  },
  {
   "cell_type": "code",
   "execution_count": null,
   "outputs": [],
   "source": [
    "get_allele_frequency_plot(real_frequency=pd.DataFrame(real_allele_frequency_by_sub_pop).drop('Superpop Label', axis=0),\n",
    "                          fake_frequency=pd.DataFrame(fake_allele_frequency_by_sub_pop).drop('Superpop Label', axis=0),\n",
    "                          output_file_name=\"allele_frequency_by_continental.jpg\")"
   ],
   "metadata": {
    "collapsed": false,
    "pycharm": {
     "is_executing": true
    }
   }
  },
  {
   "cell_type": "code",
   "execution_count": null,
   "outputs": [],
   "source": [
    "get_allele_frequency_plot(real_frequency=pd.DataFrame(real_allele_frequency_by_super_pop),\n",
    "                          fake_frequency=pd.DataFrame(fake_allele_frequency_by_super_pop),\n",
    "                          output_file_name=\"allele_frequency_by_National.jpg\")"
   ],
   "metadata": {
    "collapsed": false,
    "pycharm": {
     "is_executing": true
    }
   }
  },
  {
   "cell_type": "code",
   "execution_count": null,
   "outputs": [],
   "source": [
    "real_data_pop_ane_sub_pop[\"Population code\"]"
   ],
   "metadata": {
    "collapsed": false,
    "pycharm": {
     "is_executing": true
    }
   }
  },
  {
   "cell_type": "code",
   "execution_count": null,
   "outputs": [],
   "source": [
    "sample_count_per_population = real_data_pop_ane_sub_pop[\"Population code\"].value_counts()\n",
    "print(sample_count_per_population)"
   ],
   "metadata": {
    "collapsed": false,
    "pycharm": {
     "is_executing": true
    }
   }
  },
  {
   "cell_type": "code",
   "execution_count": null,
   "outputs": [],
   "source": [
    "# Assuming you have a pandas DataFrame named \"df\" with the desired columns\n",
    "grouped_df = real_data_1000_genome.groupby(\n",
    "    [\"Population code\", \"Population name\", \"Superpopulation code\", \"Superpopulation name\"]).agg({\n",
    "    \"Superpopulation code\": \"count\"\n",
    "})\n",
    "\n",
    "# Rename the count columns\n",
    "grouped_df = grouped_df.rename(columns={\"Superpopulation code\": \"Superpopulation code count\"})\n",
    "\n",
    "# Reset the index to turn the groupby keys into columns\n",
    "grouped_df = grouped_df.reset_index()\n",
    "\n",
    "# Print the resulting DataFrame\n",
    "print(grouped_df[grouped_df[\"Population code\"].isin([\"MSL\", \"FIN\", \"PJL\", \"BEB\", \"CLM\"])])"
   ],
   "metadata": {
    "collapsed": false,
    "pycharm": {
     "is_executing": true
    }
   }
  },
  {
   "cell_type": "code",
   "execution_count": null,
   "outputs": [],
   "source": [
    "# Assuming you have a pandas DataFrame named \"df\" with the desired columns\n",
    "population_counts = real_data_1000_genome[\"Population code\"].value_counts().reset_index()\n",
    "population_counts.columns = [\"Population code\", \"Population code count\"]\n",
    "\n",
    "superpopulation_counts = real_data_1000_genome[\"Superpopulation code\"].value_counts().reset_index()\n",
    "superpopulation_counts.columns = [\"Superpopulation code\", \"Superpopulation code count\"]\n",
    "\n",
    "# Merge the counts into a single DataFrame\n",
    "combined_counts = population_counts.merge(superpopulation_counts, how=\"outer\", left_on=\"Population code\",\n",
    "                                          right_on=\"Superpopulation code\")\n",
    "combined_counts = combined_counts.drop(\"Superpopulation code\", axis=1)\n",
    "\n",
    "# Print the resulting DataFrame\n",
    "print(combined_counts)\n"
   ],
   "metadata": {
    "collapsed": false,
    "pycharm": {
     "is_executing": true
    }
   }
  },
  {
   "cell_type": "code",
   "execution_count": null,
   "outputs": [],
   "source": [],
   "metadata": {
    "collapsed": false,
    "pycharm": {
     "is_executing": true
    }
   }
  },
  {
   "cell_type": "code",
   "execution_count": null,
   "outputs": [],
   "source": [],
   "metadata": {
    "collapsed": false,
    "pycharm": {
     "is_executing": true
    }
   }
  },
  {
   "cell_type": "code",
   "execution_count": null,
   "outputs": [],
   "source": [],
   "metadata": {
    "collapsed": false,
    "pycharm": {
     "is_executing": true
    }
   }
  },
  {
   "cell_type": "code",
   "execution_count": null,
   "outputs": [],
   "source": [
    "from sklearn.manifold import TSNE  # Import t-SNE\n",
    "\n",
    "def calculate_2d_wasserstein_distance(d1, d2):\n",
    "    distance_matrix = cdist(d1, d2)\n",
    "\n",
    "    # Solve the linear assignment problem to find the optimal transport plan\n",
    "    row_indices, col_indices = linear_sum_assignment(distance_matrix)\n",
    "\n",
    "    # Calculate the Wasserstein distance\n",
    "    return np.sum(distance_matrix[row_indices, col_indices])\n",
    "\n",
    "def tsne_real_vs_fake(dfs, population_col, is_real_col, pop_type, color, number_of_columns=5):\n",
    "    \"\"\"\n",
    "    Plot t-SNE of real compared to fake on each population, with the number of required components.\n",
    "\n",
    "    Args:\n",
    "    df (pd.DataFrame): The dataset containing the samples.\n",
    "    population_col (str): The name of the column containing the population code.\n",
    "    is_real_col (str): The name of the column containing the indicator for real/fake samples.\n",
    "    \"\"\"\n",
    "\n",
    "    # Get unique populations\n",
    "\n",
    "    num_dfs = len(dfs)\n",
    "    num_rows = min(5, int(np.ceil(num_dfs / number_of_columns)))\n",
    "    num_cols = number_of_columns\n",
    "    fig, axes = plt.subplots(num_rows, num_cols, figsize=(30, 6 * num_rows))\n",
    "    # tsne = TSNE(n_components=2, init='pca', learning_rate='auto', random_state=42)  # Adjust parameters as needed\n",
    "    real_samples = list(dfs[0].values())[0][list(dfs[0].values())[0][is_real_col] == 1].iloc[:, :-2].values\n",
    "    pca_real = PCA(n_components=2)\n",
    "    pca_real.fit(real_samples)\n",
    "    # tsne_real_transformed = tsne.fit_transform(real_samples)\n",
    "    tsne_real_transformed = pca_real.transform(real_samples)\n",
    "    # tsne_real_transformed = tsne.fit_transform(real_samples)\n",
    "    for df_index, name_to_df in enumerate(dfs):\n",
    "        for df_name, df in name_to_df.items():\n",
    "            row = df_index // num_cols\n",
    "            col = df_index % num_cols\n",
    "            if row > 4:\n",
    "                break\n",
    "\n",
    "            fake_samples = df[df[is_real_col] == 0].iloc[:, :-2].values\n",
    "\n",
    "\n",
    "            # Fit t-SNE on real samples\n",
    "            pca_model = PCA(n_components=2)\n",
    "            pca_model.fit(fake_samples)\n",
    "            tsne_fake_transformed = pca_model.transform(fake_samples)\n",
    "            # tsne_fake_transformed = tsne.fit_transform(fake_samples)\n",
    "            wd = calculate_2d_wasserstein_distance(tsne_real_transformed, tsne_fake_transformed)\n",
    "\n",
    "            # Plot t-SNE comparison\n",
    "            if num_rows > 1:\n",
    "                ax = axes[row, col]\n",
    "            else:\n",
    "                ax = axes[col]\n",
    "            ax.scatter(tsne_real_transformed[:, 0], tsne_real_transformed[:, 1], color='black', label='Real',\n",
    "                       alpha=0.6, s=100)\n",
    "            ax.scatter(tsne_fake_transformed[:, 0], tsne_fake_transformed[:, 1], color=color, alpha=0.5, s=100)\n",
    "\n",
    "            title = ax.set_title(f\"{df_name} - wd: {round(wd, 3)}\", fontsize=40, fontweight='bold', color=\"white\")\n",
    "            title.set_bbox({'facecolor': 'black', 'edgecolor': color, 'pad': 10})  # Add a box around the title\n",
    "\n",
    "    plt.savefig(os.path.join(output_dir, f\"tsne_on_{pop_type}.jpg\"), bbox_inches='tight', dpi=500)\n",
    "    plt.show()\n"
   ],
   "metadata": {
    "collapsed": false,
    "pycharm": {
     "is_executing": true
    }
   }
  },
  {
   "cell_type": "code",
   "execution_count": null,
   "outputs": [],
   "source": [
    "full_datasets = {}\n",
    "dfs = []\n",
    "for idx in range(800, 1100, 50):\n",
    "    tmp_df = prepare_synthetic_data(\n",
    "        f'../fake_genotypes_sequences/new_sequences/super_pop_wd/{idx}_genotypes.hapt', 'Superpopulation code')\n",
    "    tmp_df_with_real = pd.concat([real_data_1000_genome_genotypes_by_pop, tmp_df])\n",
    "    tmp_df_with_real['is_real'] = tmp_df_with_real['is_real'].fillna(0)\n",
    "    dfs.append({str(idx): tmp_df_with_real})"
   ],
   "metadata": {
    "collapsed": false,
    "pycharm": {
     "is_executing": true
    }
   }
  },
  {
   "cell_type": "code",
   "execution_count": null,
   "outputs": [],
   "source": [
    "from scipy.optimize import linear_sum_assignment\n",
    "from scipy.spatial.distance import cdist\n",
    "tsne_real_vs_fake(dfs, 'Superpopulation code', 'is_real', 'Continental', color='blue')\n"
   ],
   "metadata": {
    "collapsed": false,
    "pycharm": {
     "is_executing": true
    }
   }
  },
  {
   "cell_type": "code",
   "execution_count": null,
   "outputs": [],
   "source": [
    "tmp_df = prepare_synthetic_data(\n",
    "    f'../fake_genotypes_sequences/new_sequences/super_pop_new2/{idx}_genotypes.hapt', 'Superpopulation code')\n",
    "tmp_df_with_real = pd.concat([real_data_1000_genome_genotypes_by_pop, tmp_df])\n",
    "full_datasets[\"Real\"] = tmp_df_with_real[tmp_df_with_real['is_real'] == 1].iloc[:, :-2].values"
   ],
   "metadata": {
    "collapsed": false,
    "pycharm": {
     "is_executing": true
    }
   }
  },
  {
   "cell_type": "code",
   "execution_count": null,
   "outputs": [],
   "source": [
    "sum_alleles_by_position, allele_frequency, is_fixed = build_allele_frequency(full_datasets)"
   ],
   "metadata": {
    "collapsed": false,
    "pycharm": {
     "is_executing": true
    }
   }
  },
  {
   "cell_type": "code",
   "execution_count": null,
   "outputs": [],
   "source": [
    "from sklearn.metrics import mean_absolute_error, mean_squared_error\n",
    "\n",
    "\n",
    "def plotreg(x, y, keys, statname, col, model_name_display, ax=None):\n",
    "    \"\"\"\n",
    "    Plot for x versus y with regression scores and returns correlation coefficient and MSE\n",
    "\n",
    "    Parameters\n",
    "    ----------\n",
    "    x : array-like, scalar\n",
    "    y : array-like, scalar\n",
    "    keys : tuple\n",
    "        Tuple containing the model names or keys\n",
    "    statname : str\n",
    "        'Allele frequency', 'LD', or '3 point correlation', etc.\n",
    "    col : str\n",
    "        Color code or name\n",
    "\n",
    "    Returns\n",
    "    -------\n",
    "    r : float\n",
    "        Pearson correlation coefficient between x and y\n",
    "    mse : float\n",
    "        Mean Squared Error between x and y\n",
    "    \"\"\"\n",
    "\n",
    "    lims = [np.min(x), np.max(x)]\n",
    "    r, _ = pearsonr(x, y)\n",
    "    mae = mean_absolute_error(x, y)\n",
    "\n",
    "    if sm_loaded:\n",
    "        reg = sm.OLS(x, y).fit()\n",
    "\n",
    "    if ax is None:\n",
    "        ax = plt.subplot(1, 1, 1)\n",
    "\n",
    "    if len(x) < 100:\n",
    "        alpha = 1\n",
    "    else:\n",
    "        alpha = .6\n",
    "\n",
    "    ax.plot(x, y, c=col, marker='o', lw=0, alpha=alpha)\n",
    "    ax.plot(lims, lims, ls='--', alpha=1, c='black')\n",
    "    title = ax.set_title(\n",
    "        f'{model_name_display}\\nCorrelation={round(r * 100, 2)}%\\nMAE={round(mae, 4)}',\n",
    "        fontsize=29, fontweight=\"bold\", y=1, color='black')\n",
    "\n",
    "    title.set_bbox({'facecolor': 'white', 'edgecolor': \"black\", 'pad': 1.2})\n",
    "    ax.set_xlabel(\"MAF In Real\", fontsize=28, fontweight=\"bold\")\n",
    "    ax.set_ylabel(\"MAF In Synthetic\", fontsize=28, fontweight=\"bold\")\n",
    "\n",
    "    ax.plot(x, y, c=col, marker='o', lw=0)\n",
    "    ax.plot(lims, lims, ls='--', alpha=1, c='black')\n",
    "    title = ax.set_title(\n",
    "        f'{model_name_display}\\nCorrelation={round(r * 100, 2)}%\\nMAE={round(mae, 4)}',\n",
    "        fontsize=35, fontweight=\"bold\", y=1, color='black')\n",
    "    title.set_bbox({'facecolor': (0.9, 0.9, 0.9), 'edgecolor': \"black\", 'pad': 1.5})\n",
    "    ax.set_xlabel(\"MAF In Real\", fontsize=25, fontweight=\"bold\")\n",
    "    ax.set_ylabel(\"MAF In Synthetic\", fontsize=25, fontweight=\"bold\")\n",
    "    # Adjust vertical spacing between subplots\n",
    "    # plt.subplots_adjust(hspace=0.2, wspace=0.5)\n",
    "\n",
    "    return r, mae\n",
    "\n",
    "\n",
    "def plot_allele_frequency(allele_frequency, file_name, maf, highest=False):\n",
    "    # Plotting Allele frequencies in Generated vs Real\n",
    "    # below a certain real frequency\n",
    "    figwi = 14\n",
    "    l, c = len(allele_frequency) // 20, 20\n",
    "    plt.figure(figsize=(150, 6))\n",
    "    if highest:\n",
    "        maf = 1 - maf\n",
    "        keep = (allele_frequency['Real'] >= maf)\n",
    "    else:\n",
    "        keep = (allele_frequency['Real'] <= maf)\n",
    "    for i, (model_name, val) in enumerate(allele_frequency.items()):\n",
    "        model_name_display = model_name.replace(\"Population\", \"\").replace(\" By\", \"\").replace(\"Genome-AC-GAN\",\n",
    "                                                                                             \"Genome-AC-GAN\\n\")\n",
    "        if model_name != 'Real':\n",
    "            print(i // 6, c, (i % c) + 1)\n",
    "            ax = plt.subplot(i // 20 + 1, c, (i % c) + 1)\n",
    "            plotreg(x=allele_frequency['Real'][keep], y=val[keep],\n",
    "                    keys=['Real', model_name_display], statname=\"Allele frequency\",\n",
    "                    col=\"blue\", model_name_display=model_name_display, ax=ax)\n",
    "\n",
    "    plt.savefig(os.path.join(output_dir, file_name), bbox_inches='tight', dpi=300)"
   ],
   "metadata": {
    "collapsed": false,
    "pycharm": {
     "is_executing": true
    }
   }
  },
  {
   "cell_type": "code",
   "execution_count": null,
   "outputs": [],
   "source": [
    "plot_allele_frequency(allele_frequency, 'total_allele_frequency.jpg', 1)\n"
   ],
   "metadata": {
    "collapsed": false,
    "pycharm": {
     "is_executing": true
    }
   }
  },
  {
   "cell_type": "code",
   "execution_count": null,
   "outputs": [],
   "source": [
    "plot_allele_frequency(allele_frequency, 'zoom_lowest_total_allele_frequency.jpg', 0.2)"
   ],
   "metadata": {
    "collapsed": false,
    "pycharm": {
     "is_executing": true
    }
   }
  },
  {
   "cell_type": "code",
   "execution_count": null,
   "outputs": [],
   "source": [
    "plot_allele_frequency(allele_frequency, 'zoom_highest_total_allele_frequency.jpg', 0.2, highest=True)\n"
   ],
   "metadata": {
    "collapsed": false,
    "pycharm": {
     "is_executing": true
    }
   }
  },
  {
   "cell_type": "code",
   "execution_count": null,
   "outputs": [],
   "source": [],
   "metadata": {
    "collapsed": false,
    "pycharm": {
     "is_executing": true
    }
   }
  }
 ],
 "metadata": {
  "kernelspec": {
   "display_name": "Python 3",
   "language": "python",
   "name": "python3"
  },
  "language_info": {
   "codemirror_mode": {
    "name": "ipython",
    "version": 2
   },
   "file_extension": ".py",
   "mimetype": "text/x-python",
   "name": "python",
   "nbconvert_exporter": "python",
   "pygments_lexer": "ipython2",
   "version": "2.7.6"
  }
 },
 "nbformat": 4,
 "nbformat_minor": 0
}
