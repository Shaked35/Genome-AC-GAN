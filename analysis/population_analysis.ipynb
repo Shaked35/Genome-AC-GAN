{
 "cells": [
  {
   "cell_type": "code",
   "execution_count": 1,
   "metadata": {
    "collapsed": true
   },
   "outputs": [
    {
     "name": "stderr",
     "output_type": "stream",
     "text": [
      "<frozen importlib._bootstrap>:228: RuntimeWarning: scipy._lib.messagestream.MessageStream size changed, may indicate binary incompatibility. Expected 56 from C header, got 64 from PyObject\n",
      "\n",
      "KeyboardInterrupt\n",
      "\n"
     ]
    }
   ],
   "source": [
    "import itertools\n",
    "import os.path\n",
    "import pickle\n",
    "import random\n",
    "import warnings\n",
    "from pathlib import Path\n",
    "\n",
    "from scipy.stats import binned_statistic\n",
    "from scipy.stats import sem\n",
    "\n",
    "\n",
    "from utils.util import *"
   ]
  },
  {
   "cell_type": "code",
   "execution_count": null,
   "outputs": [],
   "source": [
    "models_to_test = {\n",
    "    \"Real\": {\n",
    "        \"path\": \"resource/10K_SNP_1000G_real.hapt\",\n",
    "        \"color\": \"gray\"\n",
    "    },\n",
    "    \"F1 WITH PENALTY GS-AC-GAN\": {\n",
    "        \"path\": \"fake_genotypes_sequences/new_sequences/f1_score_test/genotypes.hapt\",\n",
    "        \"color\": \"red\"\n",
    "    },\n",
    "    \"SUB F1 WITH PENALTY GS-AC-GAN\": {\n",
    "        \"path\": \"fake_genotypes_sequences/new_sequences/f1_score_sub_pop/genotypes.hapt\",\n",
    "        \"color\": \"blue\"\n",
    "    },\n",
    "}"
   ],
   "metadata": {
    "collapsed": false
   }
  },
  {
   "cell_type": "code",
   "execution_count": null,
   "outputs": [],
   "source": [
    "output_dir = \"population_analysis\"\n",
    "Path(output_dir).mkdir(parents=True, exist_ok=True)\n",
    "figwi = 12"
   ],
   "metadata": {
    "collapsed": false
   }
  },
  {
   "cell_type": "code",
   "execution_count": null,
   "outputs": [],
   "source": [
    "model_name_to_input_file, model_name_to_color, color_palette = init_analysis_args(output_dir, models_to_test)"
   ],
   "metadata": {
    "collapsed": false
   }
  },
  {
   "cell_type": "code",
   "execution_count": null,
   "outputs": [],
   "source": [
    "real_data_1000_genome = load_real_data(hapt_genotypes_path=f\"../{REAL_10K_SNP_1000G_PATH}\",\n",
    "                                       extra_data_path=f\"../{REAL_EXTRA_DATA_PATH}\")\n",
    "real_data_1000_genome"
   ],
   "metadata": {
    "collapsed": false
   }
  },
  {
   "cell_type": "code",
   "execution_count": null,
   "outputs": [],
   "source": [
    "genotypes_ids = get_relevant_columns(input_df=real_data_1000_genome, input_columns=[])\n",
    "print(f\"Number of SNPs: {len(genotypes_ids)}\")"
   ],
   "metadata": {
    "collapsed": false
   }
  },
  {
   "cell_type": "code",
   "execution_count": null,
   "outputs": [],
   "source": [
    "def init_real_genotypes(target_columns):\n",
    "    real_data_1000_genome_by_pop = real_data_1000_genome[genotypes_ids + [target_columns]]\n",
    "    real_data_1000_genome_by_pop = real_data_1000_genome_by_pop.set_index(\n",
    "        real_data_1000_genome_by_pop[target_columns])\n",
    "    real_data_1000_genome_by_pop.drop([target_columns], inplace=True, axis=1)\n",
    "    return real_data_1000_genome_by_pop"
   ],
   "metadata": {
    "collapsed": false
   }
  },
  {
   "cell_type": "code",
   "execution_count": null,
   "outputs": [],
   "source": [
    "real_data_1000_genome_by_sub_pop = init_real_genotypes(target_columns=\"Population code\")\n",
    "real_data_1000_genome_by_super_pop = init_real_genotypes(target_columns=\"Superpopulation code\")"
   ],
   "metadata": {
    "collapsed": false
   }
  },
  {
   "cell_type": "code",
   "execution_count": null,
   "outputs": [],
   "source": [
    "def init_fake_genotypes(model_name: str):\n",
    "    tmp_df = pd.read_csv(model_name_to_input_file[model_name], sep=' ', header=None)\n",
    "    tmp_df[0] = tmp_df[0].str.replace('Fake_', '')\n",
    "    tmp_df = tmp_df.set_index(tmp_df[0])\n",
    "    tmp_df.drop([0], inplace=True, axis=1)\n",
    "    tmp_df.columns = genotypes_ids\n",
    "    return tmp_df"
   ],
   "metadata": {
    "collapsed": false
   }
  },
  {
   "cell_type": "code",
   "execution_count": null,
   "outputs": [],
   "source": [
    "super_pop_df = init_fake_genotypes(model_name=\"F1 WITH PENALTY GS-AC-GAN\")\n",
    "super_pop_df"
   ],
   "metadata": {
    "collapsed": false
   }
  },
  {
   "cell_type": "code",
   "execution_count": null,
   "outputs": [],
   "source": [
    "sub_pop_df = init_fake_genotypes(model_name=\"SUB F1 WITH PENALTY GS-AC-GAN\")\n",
    "sub_pop_df"
   ],
   "metadata": {
    "collapsed": false
   }
  },
  {
   "cell_type": "code",
   "execution_count": null,
   "outputs": [],
   "source": [
    "def split_by_target_column(input_fake_df: pd.DataFrame, input_real_df: pd.DataFrame):\n",
    "    real_split = {}\n",
    "    fake_split = {}\n",
    "    for pop_name in list(set(input_real_df.index)):\n",
    "        if len(input_fake_df[input_fake_df.index == pop_name]) > 0:\n",
    "            real_split[pop_name] = input_real_df[input_real_df.index == pop_name]\n",
    "            fake_split[pop_name] = input_fake_df[input_fake_df.index == pop_name]\n",
    "    return real_split, fake_split"
   ],
   "metadata": {
    "collapsed": false
   }
  },
  {
   "cell_type": "code",
   "execution_count": null,
   "outputs": [],
   "source": [
    "real_split_by_sub_pop, fake_split_by_sub_pop = split_by_target_column(input_fake_df=sub_pop_df,\n",
    "                                                                      input_real_df=real_data_1000_genome_by_sub_pop)"
   ],
   "metadata": {
    "collapsed": false
   }
  },
  {
   "cell_type": "code",
   "execution_count": null,
   "outputs": [],
   "source": [
    "real_split_by_super_pop, fake_split_by_super_pop = split_by_target_column(input_fake_df=super_pop_df,\n",
    "                                                                          input_real_df=real_data_1000_genome_by_super_pop)"
   ],
   "metadata": {
    "collapsed": false
   }
  },
  {
   "cell_type": "code",
   "execution_count": null,
   "outputs": [],
   "source": [
    "fake_sum_alleles_by_sub_pop, fake_allele_frequency_by_sub_pop, _ = build_allele_frequency(fake_split_by_sub_pop)\n",
    "fake_sum_alleles_by_super_pop, fake_allele_frequency_by_super_pop, _ = build_allele_frequency(fake_split_by_super_pop)\n",
    "real_sum_alleles_by_sub_pop, real_allele_frequency_by_sub_pop, _ = build_allele_frequency(real_split_by_sub_pop)\n",
    "real_sum_alleles_by_super_pop, real_allele_frequency_by_super_pop, _ = build_allele_frequency(real_split_by_super_pop)"
   ],
   "metadata": {
    "collapsed": false
   }
  },
  {
   "cell_type": "code",
   "execution_count": null,
   "outputs": [],
   "source": [
    "def plot_allele_frequency_fake_vs_real(real_input, fake_input, color, output_file_name):\n",
    "    l, c = np.ceil(len(fake_input) / 3), 3\n",
    "    plt.figure(figsize=(figwi, figwi * l / c))\n",
    "    for i, (model_name, fake_allele_frequency) in enumerate(fake_input.items()):\n",
    "        ax = plt.subplot(int(l), 3, i + 1)\n",
    "        plotreg(x=real_input[model_name], y=fake_allele_frequency,\n",
    "                keys=['Real', \"Fake\"], statname=\"Allele frequency\",\n",
    "                col=color, ax=ax)\n",
    "        plt.title(f'Allele Frequencies Fake vs Real - {model_name}')\n",
    "    plt.suptitle(f'Allele Frequencies vs Real \\n\\n')\n",
    "    plt.tight_layout()\n",
    "    plt.savefig(os.path.join(output_dir, output_file_name))"
   ],
   "metadata": {
    "collapsed": false
   }
  },
  {
   "cell_type": "code",
   "execution_count": null,
   "outputs": [],
   "source": [
    "plot_allele_frequency_fake_vs_real(real_input=real_allele_frequency_by_super_pop,\n",
    "                                   fake_input=fake_allele_frequency_by_super_pop,\n",
    "                                   color=\"blue\", output_file_name=\"allele_frequency_super_pop.jpg\")"
   ],
   "metadata": {
    "collapsed": false
   }
  },
  {
   "cell_type": "code",
   "execution_count": null,
   "outputs": [],
   "source": [
    "plot_allele_frequency_fake_vs_real(real_input=real_allele_frequency_by_sub_pop,\n",
    "                                   fake_input=fake_allele_frequency_by_sub_pop,\n",
    "                                   color=\"red\", output_file_name=\"allele_frequency_sub_pop.jpg\")"
   ],
   "metadata": {
    "collapsed": false
   }
  }
 ],
 "metadata": {
  "kernelspec": {
   "display_name": "Python 3",
   "language": "python",
   "name": "python3"
  },
  "language_info": {
   "codemirror_mode": {
    "name": "ipython",
    "version": 2
   },
   "file_extension": ".py",
   "mimetype": "text/x-python",
   "name": "python",
   "nbconvert_exporter": "python",
   "pygments_lexer": "ipython2",
   "version": "2.7.6"
  }
 },
 "nbformat": 4,
 "nbformat_minor": 0
}
