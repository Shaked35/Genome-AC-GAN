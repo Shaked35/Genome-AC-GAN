{
 "cells": [
  {
   "cell_type": "code",
   "execution_count": null,
   "metadata": {
    "collapsed": true
   },
   "outputs": [],
   "source": [
    "import os.path\n",
    "from pathlib import Path\n",
    "\n",
    "import plotly.express as px\n",
    "import plotly.graph_objects as go\n",
    "import plotly.subplots as sp\n",
    "\n",
    "from utils.util import *\n",
    "%matplotlib inline"
   ]
  },
  {
   "cell_type": "code",
   "execution_count": null,
   "outputs": [],
   "source": [
    "output_dir = \"population_analysis\"\n",
    "Path(output_dir).mkdir(parents=True, exist_ok=True)\n",
    "figwi = 20"
   ],
   "metadata": {
    "collapsed": false
   }
  },
  {
   "cell_type": "code",
   "execution_count": null,
   "outputs": [],
   "source": [
    "color_palette = [\"white\", \"blue\", \"red\", \"green\", \"yellow\", \"black\", \"pink\"]\n",
    "sns.set_palette(color_palette)\n",
    "sns.palplot(sns.color_palette())"
   ],
   "metadata": {
    "collapsed": false
   }
  },
  {
   "cell_type": "code",
   "execution_count": null,
   "outputs": [],
   "source": [
    "real_data_1000_genome = load_real_data(hapt_genotypes_path=f\"../{REAL_10K_SNP_1000G_PATH}\",\n",
    "                                       extra_data_path=f\"../{REAL_EXTRA_DATA_PATH}\")\n",
    "real_data_1000_genome = real_data_1000_genome[\n",
    "    ~real_data_1000_genome['Superpopulation code'].str.contains(',', na=False)]\n",
    "\n",
    "real_data_1000_genome"
   ],
   "metadata": {
    "collapsed": false
   }
  },
  {
   "cell_type": "code",
   "execution_count": null,
   "outputs": [],
   "source": [
    "genotypes = get_relevant_columns(input_df=real_data_1000_genome, input_columns=[])\n",
    "relevant_columns = genotypes + ['Superpopulation code', 'Population code']\n",
    "print(f\"Number of SNPs: {len(genotypes)}\")"
   ],
   "metadata": {
    "collapsed": false
   }
  },
  {
   "cell_type": "code",
   "execution_count": null,
   "outputs": [],
   "source": [
    "pop = real_data_1000_genome['Superpopulation code']\n",
    "sub_pop = real_data_1000_genome['Population code']\n",
    "real_data_1000_genome_genotypes = real_data_1000_genome[genotypes]\n",
    "genotypes = [genotype for genotype in range(real_data_1000_genome_genotypes.shape[1])]\n",
    "real_data_1000_genome_genotypes.columns = genotypes\n",
    "\n",
    "real_data_1000_genome_genotypes['is_real'] = 1\n",
    "real_data_1000_genome_genotypes_by_pop = real_data_1000_genome_genotypes.copy()\n",
    "real_data_1000_genome_genotypes_by_pop['Superpopulation code'] = pop\n",
    "real_data_1000_genome_genotypes_by_pop = real_data_1000_genome_genotypes_by_pop.reset_index(drop=True)\n",
    "\n",
    "real_data_1000_genome_genotypes_by_sub_pop = real_data_1000_genome_genotypes.copy()\n",
    "real_data_1000_genome_genotypes_by_sub_pop['Population code'] = sub_pop\n",
    "real_data_1000_genome_genotypes_by_sub_pop = real_data_1000_genome_genotypes_by_sub_pop.reset_index(drop=True)\n",
    "\n",
    "real_data_pop_ane_sub_pop = real_data_1000_genome_genotypes.copy()\n",
    "real_data_pop_ane_sub_pop['Superpopulation code'] = pop\n",
    "real_data_pop_ane_sub_pop['Population code'] = sub_pop\n",
    "real_data_1000_genome.head()"
   ],
   "metadata": {
    "collapsed": false
   }
  },
  {
   "cell_type": "code",
   "execution_count": null,
   "outputs": [],
   "source": [
    "def prepare_synthetic_data(input_file_path, target_column):\n",
    "    synthetic_pop_results = pd.read_csv(input_file_path, sep=' ', header=None)\n",
    "    pop = synthetic_pop_results[0]\n",
    "    synthetic_pop_results = synthetic_pop_results.drop(0, axis=1)\n",
    "    synthetic_pop_results.columns = [genotype for genotype in range(synthetic_pop_results.shape[1])]\n",
    "    synthetic_pop_results[target_column] = pop.str.replace('Fake_', \"\")\n",
    "    return synthetic_pop_results\n",
    "\n",
    "\n",
    "def prepare_old_synthetic_data(input_file_path):\n",
    "    synthetic_pop_results = pd.read_csv(input_file_path, sep=' ', header=None)\n",
    "    synthetic_pop_results = synthetic_pop_results.drop([0, 1], axis=1)\n",
    "    synthetic_pop_results.columns = [genotype for genotype in range(synthetic_pop_results.shape[1])]\n",
    "    return synthetic_pop_results\n",
    "\n",
    "\n",
    "synthetic_sub_pop_results = prepare_synthetic_data(\n",
    "    '../resource/Genome-AC-GAN By National Population genotypes.hapt', 'Population code')\n",
    "\n",
    "synthetic_pop_results = prepare_synthetic_data(\n",
    "    '../resource/Genome-AC-GAN By Continental Population genotypes.hapt', 'Superpopulation code')"
   ],
   "metadata": {
    "collapsed": false
   }
  },
  {
   "cell_type": "code",
   "execution_count": null,
   "outputs": [],
   "source": [
    "real_with_fake_by_pop = pd.concat([real_data_1000_genome_genotypes_by_pop, synthetic_pop_results])\n",
    "real_with_fake_by_pop['is_real'] = real_with_fake_by_pop['is_real'].fillna(0)\n",
    "real_with_fake_by_pop"
   ],
   "metadata": {
    "collapsed": false
   }
  },
  {
   "cell_type": "code",
   "execution_count": null,
   "outputs": [],
   "source": [
    "real_with_fake_by_sub_pop = pd.concat([real_data_1000_genome_genotypes_by_sub_pop, synthetic_sub_pop_results])\n",
    "real_with_fake_by_sub_pop['is_real'] = real_with_fake_by_sub_pop['is_real'].fillna(0)\n",
    "real_with_fake_by_sub_pop[\"Population code\"].unique()"
   ],
   "metadata": {
    "collapsed": false
   }
  },
  {
   "cell_type": "code",
   "execution_count": null,
   "outputs": [],
   "source": [
    "def plot_pca_real_vs_fake(df, population_col, is_real_col, pop_type, color, number_of_columns=5):\n",
    "    \"\"\"\n",
    "    Plot PCA of real compared to fake on each population, with the number of required components.\n",
    "\n",
    "    Args:\n",
    "    df (pd.DataFrame): The dataset containing the samples.\n",
    "    population_col (str): The name of the column containing the population code.\n",
    "    is_real_col (str): The name of the column containing the indicator for real/fake samples.\n",
    "    \"\"\"\n",
    "\n",
    "    # Get unique populations\n",
    "    populations = list(df[population_col].unique())\n",
    "    populations = [pop for pop in populations if \",\" not in pop]\n",
    "    num_populations = len(populations)\n",
    "    num_rows = min(5, int(np.ceil(num_populations / number_of_columns)))\n",
    "    num_cols = number_of_columns\n",
    "    fig, axes = plt.subplots(num_rows, num_cols, figsize=(30, 6 * num_rows))\n",
    "    # fig.suptitle(f'PCA Population Comparison {pop_type} Population\\n', fontsize=24, fontweight='bold')\n",
    "\n",
    "    # Loop through populations\n",
    "    for pop_index, pop_name in enumerate(populations):\n",
    "\n",
    "        row = pop_index // num_cols\n",
    "        col = pop_index % num_cols\n",
    "        if row > 4:\n",
    "            break\n",
    "        print(f\"start calculating population: {pop_name}\")\n",
    "        # Get real and fake samples for population\n",
    "        pop_df = df[df[population_col] == pop_name].reset_index(drop=True)\n",
    "        real_samples = pop_df[pop_df[is_real_col] == 1].iloc[:, :-2].values\n",
    "        fake_samples = pop_df[pop_df[is_real_col] == 0].iloc[:, :-2].values\n",
    "\n",
    "        print(f\"calculating PCA population: {pop_name}\")\n",
    "        # Fit PCA on real samples\n",
    "        pca_real = PCA(n_components=2)\n",
    "        pca_real.fit(real_samples)\n",
    "        pca_real_transformed = pca_real.transform(real_samples)\n",
    "\n",
    "        pca_fake_transformed = pca_real.transform(fake_samples)\n",
    "\n",
    "        # Plot PCA comparison\n",
    "        if num_rows > 1:\n",
    "            ax = axes[row, col]\n",
    "        else:\n",
    "            ax = axes[col]\n",
    "        ax.scatter(pca_real_transformed[:, 0], pca_real_transformed[:, 1], color='black', label='Real',\n",
    "                   alpha=0.6, s=100)\n",
    "        ax.scatter(pca_fake_transformed[:, 0], pca_fake_transformed[:, 1], color=color,\n",
    "                   label=pop_name, alpha=0.5, s=100)\n",
    "\n",
    "        title = ax.set_title(pop_name, fontsize=40, fontweight='bold', color=\"white\")\n",
    "        title.set_bbox({'facecolor': 'black', 'edgecolor': color, 'pad': 10})  # Add a box around the title\n",
    "        print(f\"finished calculating population: {pop_name}\\n\")\n",
    "\n",
    "    # plt.tight_layout()\n",
    "    plt.savefig(os.path.join(output_dir, f\"pca2_on_{pop_type}.jpg\"), bbox_inches='tight', dpi=500)\n",
    "    plt.show()\n"
   ],
   "metadata": {
    "collapsed": false
   }
  },
  {
   "cell_type": "code",
   "execution_count": null,
   "outputs": [],
   "source": [
    "plot_pca_real_vs_fake(real_with_fake_by_pop.copy(), 'Superpopulation code', 'is_real', 'Continental', color='blue')\n"
   ],
   "metadata": {
    "collapsed": false,
    "pycharm": {
     "is_executing": true
    }
   }
  },
  {
   "cell_type": "code",
   "execution_count": null,
   "outputs": [],
   "source": [
    "plot_pca_real_vs_fake(real_with_fake_by_sub_pop.copy(), 'Population code', 'is_real', 'National', color='green')"
   ],
   "metadata": {
    "collapsed": false,
    "pycharm": {
     "is_executing": true
    }
   }
  },
  {
   "cell_type": "code",
   "execution_count": null,
   "outputs": [],
   "source": [
    "\n",
    "n_components = 2\n",
    "pca = PCA(n_components=n_components)\n",
    "\n",
    "pca.fit(real_with_fake_by_pop[real_with_fake_by_pop['is_real'] == 1].iloc[:, :-2].values)\n",
    "\n",
    "components = pca.transform(real_with_fake_by_pop[real_with_fake_by_pop['is_real'] == 1].iloc[:, :-2].values)\n",
    "fig1 = px.scatter(components, x=0, y=1,\n",
    "                  color=real_with_fake_by_pop[real_with_fake_by_pop['is_real'] == 1][\"Superpopulation code\"],\n",
    "                  title=\"PCA By Super Population\")\n",
    "\n",
    "components = pca.transform(real_with_fake_by_pop[real_with_fake_by_pop['is_real'] == 0].iloc[:, :-2].values)\n",
    "\n",
    "fig2 = px.scatter(components, x=0, y=1,\n",
    "                  color=real_with_fake_by_pop[real_with_fake_by_pop['is_real'] == 0][\"Superpopulation code\"],\n",
    "                  title=\"PCA By Super Population\")"
   ],
   "metadata": {
    "collapsed": false,
    "pycharm": {
     "is_executing": true
    }
   }
  },
  {
   "cell_type": "code",
   "execution_count": null,
   "outputs": [],
   "source": [
    "n_components = 2\n",
    "pca = PCA(n_components=n_components)\n",
    "\n",
    "# Assign unique numeric labels to 'Superpopulation code'\n",
    "superpop_labels = np.unique(real_with_fake_by_pop['Superpopulation code'])\n",
    "label_map = {label: i for i, label in enumerate(superpop_labels)}\n",
    "real_with_fake_by_pop['Superpop Label'] = real_with_fake_by_pop['Superpopulation code'].map(label_map)\n",
    "print(\"label_map:\", label_map)\n",
    "# Fit and transform data for real samples\n",
    "real_data = real_with_fake_by_pop[real_with_fake_by_pop['is_real'] == 1].iloc[:, :-3].values\n",
    "pca.fit(real_data)\n",
    "real_components = pca.transform(real_data)\n",
    "\n",
    "# Fit and transform data for fake samples\n",
    "fake_data = real_with_fake_by_pop[real_with_fake_by_pop['is_real'] == 0].iloc[:, :-3].values\n",
    "pca.fit(fake_data)\n",
    "fake_components = pca.transform(fake_data)\n",
    "\n",
    "# Create subplots\n",
    "fig = sp.make_subplots(rows=1, cols=2,\n",
    "                       subplot_titles=(\"PCA By Continental Population (Real)\", \"PCA By Continental Population (Fake)\"))\n",
    "fig.update_layout(width=1000)\n",
    "# Add scatter plot for real components\n",
    "fig.add_trace(\n",
    "    go.Scatter(x=real_components[:, 0], y=real_components[:, 1],\n",
    "               mode='markers',\n",
    "               marker=dict(color=real_with_fake_by_pop[real_with_fake_by_pop['is_real'] == 1]['Superpop Label'],\n",
    "                           colorscale='Viridis', colorbar=dict(title='Continental')),\n",
    "               showlegend=False),\n",
    "\n",
    "    row=1, col=1\n",
    ")\n",
    "\n",
    "# Add scatter plot for fake components\n",
    "fig.add_trace(\n",
    "    go.Scatter(x=fake_components[:, 0], y=fake_components[:, 1],\n",
    "               mode='markers',\n",
    "               marker=dict(color=real_with_fake_by_pop[real_with_fake_by_pop['is_real'] == 0]['Superpop Label'],\n",
    "                           colorscale='Viridis', colorbar=dict(title='Continental')),\n",
    "               showlegend=False),\n",
    "    row=1, col=2\n",
    ")\n",
    "\n",
    "fig.write_image(os.path.join(output_dir, \"Continental_pca_total.jpg\"), format=\"jpeg\")\n",
    "fig.show()\n"
   ],
   "metadata": {
    "collapsed": false,
    "pycharm": {
     "is_executing": true
    }
   }
  },
  {
   "cell_type": "code",
   "execution_count": null,
   "outputs": [],
   "source": [
    "def dataframe_to_dict(df, key_column, value_column):\n",
    "    result_dict = {}\n",
    "\n",
    "    for index, row in df.iterrows():\n",
    "        key = row[key_column]\n",
    "        value = row[value_column]\n",
    "        result_dict[key] = value\n",
    "\n",
    "    return result_dict"
   ],
   "metadata": {
    "collapsed": false,
    "pycharm": {
     "is_executing": true
    }
   }
  },
  {
   "cell_type": "code",
   "execution_count": null,
   "outputs": [],
   "source": [
    "pop_to_super_pop = dataframe_to_dict(real_data_pop_ane_sub_pop, 'Population code', 'Superpopulation code')"
   ],
   "metadata": {
    "collapsed": false,
    "pycharm": {
     "is_executing": true
    }
   }
  },
  {
   "cell_type": "code",
   "execution_count": null,
   "outputs": [],
   "source": [
    "import random\n",
    "\n",
    "\n",
    "def plot_pca_with_colors(df, color_column, marker_column, file_name):\n",
    "    n_components = 2\n",
    "    pca = PCA(n_components=n_components)\n",
    "    components = pca.fit_transform(df)\n",
    "    color_map = {'AFR': 'white', 'AMR': 'blue', 'EAS': 'green', 'EUR': 'yellow', 'SAS': 'red'}\n",
    "    fig = px.scatter(components, x=0, y=1, color=color_column, size_max=100, color_continuous_scale='Viridis',\n",
    "                     symbol=marker_column, symbol_sequence=['circle-open-dot'], color_discrete_map=color_map)\n",
    "\n",
    "    fig.update_layout(width=800, height=600, showlegend=False)\n",
    "    fig.update_xaxes(title=\"PCA1\", showticklabels=False, showgrid=False, zeroline=True)\n",
    "    fig.update_yaxes(title=\"PCA2\", showticklabels=False, showgrid=False, zeroline=True)\n",
    "\n",
    "    # Set the desired zoom-in range\n",
    "    # fig.update_xaxes(range=[-15, 19])\n",
    "    # fig.update_yaxes(range=[-15, 19])\n",
    "\n",
    "    # Calculate group sizes\n",
    "    group_sizes = marker_column.value_counts().to_dict()\n",
    "\n",
    "    # Add symbol name with random arrow length for each trace\n",
    "    ax_ay = [(50, 50), (-50, -50), (-100, 0), (100, 0), (-80, 60), (80, -60)]\n",
    "\n",
    "    for index, trace in enumerate(fig.data):\n",
    "        pos = index % len(ax_ay)\n",
    "\n",
    "        symbol_name = trace.name\n",
    "        symbol_name = symbol_name.split(\",\")[-1].strip()\n",
    "        x_avg = sum(trace.x) / len(trace.x)\n",
    "        y_avg = sum(trace.y) / len(trace.y)\n",
    "\n",
    "        ax_len = random.uniform(-100, 100)\n",
    "        ay_len = random.uniform(-100, 100)\n",
    "        color = trace.marker.color\n",
    "\n",
    "        group_name = symbol_name\n",
    "        if group_name in group_sizes:\n",
    "            borderpad = group_sizes[group_name] / max(group_sizes.values()) * 25\n",
    "        else:\n",
    "            borderpad = 15\n",
    "\n",
    "        # fig.add_annotation(\n",
    "        #     x=x_avg,\n",
    "        #     y=y_avg,\n",
    "        #     text=symbol_name,\n",
    "        #     showarrow=False,\n",
    "        #     arrowhead=4,\n",
    "        #     bordercolor=\"black\",\n",
    "        #     borderwidth=2,\n",
    "        #     borderpad=borderpad,\n",
    "        #     bgcolor=color,\n",
    "        #     opacity=0.5,\n",
    "        #     font=dict(size=15)\n",
    "        # )\n",
    "\n",
    "    fig.write_image(os.path.join(output_dir, file_name), format=\"jpg\", width=800, height=600)\n",
    "    fig.show()\n"
   ],
   "metadata": {
    "collapsed": false,
    "pycharm": {
     "is_executing": true
    }
   }
  },
  {
   "cell_type": "code",
   "execution_count": null,
   "outputs": [],
   "source": [
    "plot_pca_with_colors(synthetic_sub_pop_results.drop([\"Population code\"], axis=1),\n",
    "                     synthetic_sub_pop_results[\"Population code\"].replace(pop_to_super_pop),\n",
    "                     synthetic_sub_pop_results[\"Population code\"], \"fake_pca_by_sub_pop_and_pop.jpg\")"
   ],
   "metadata": {
    "collapsed": false,
    "pycharm": {
     "is_executing": true
    }
   }
  },
  {
   "cell_type": "code",
   "execution_count": null,
   "outputs": [],
   "source": [
    "plot_pca_with_colors(real_data_pop_ane_sub_pop[genotypes].drop([0, 1], axis=1),\n",
    "                     real_data_pop_ane_sub_pop[\"Superpopulation code\"], real_data_pop_ane_sub_pop[\"Population code\"],\n",
    "                     \"real_pca_by_sub_pop_and_pop.jpg\")"
   ],
   "metadata": {
    "collapsed": false,
    "pycharm": {
     "is_executing": true
    }
   }
  },
  {
   "cell_type": "code",
   "execution_count": null,
   "outputs": [],
   "source": [
    "plot_pca_with_colors(synthetic_pop_results.drop([\"Superpopulation code\"], axis=1),\n",
    "                     synthetic_pop_results[\"Superpopulation code\"],\n",
    "                     synthetic_pop_results[\"Superpopulation code\"], \"fake_pca_by_cont.jpg\")"
   ],
   "metadata": {
    "collapsed": false,
    "pycharm": {
     "is_executing": true
    }
   }
  },
  {
   "cell_type": "code",
   "execution_count": null,
   "outputs": [],
   "source": [
    "print(real_data_pop_ane_sub_pop[genotypes])"
   ],
   "metadata": {
    "collapsed": false,
    "pycharm": {
     "is_executing": true
    }
   }
  },
  {
   "cell_type": "code",
   "execution_count": null,
   "outputs": [],
   "source": [
    "def print_frequency_compression(current_df, target_column):\n",
    "    rows = []\n",
    "    for pop in current_df[target_column].unique():\n",
    "        if \",\" not in pop:\n",
    "            for is_real in [0, 1]:\n",
    "                tmp_df = current_df[current_df[target_column] == pop]\n",
    "                tmp_df = tmp_df[tmp_df[\"is_real\"] == is_real]\n",
    "                uniques, counts = np.unique(tmp_df[genotypes], return_counts=True)\n",
    "                tmp_percentages = dict(zip(uniques, 100 * counts / (len(tmp_df[genotypes]) * len(genotypes))))\n",
    "                tmp_percentages = {key: round(values, 3) for key, values in tmp_percentages.items()}\n",
    "                tmp_percentages[\"Pop\"] = pop\n",
    "                tmp_percentages[\"Type\"] = \"Real\" if is_real == 1 else \"Fake\"\n",
    "                rows.append(tmp_percentages)\n",
    "\n",
    "    return pd.DataFrame(rows).sort_values(0)"
   ],
   "metadata": {
    "collapsed": false,
    "pycharm": {
     "is_executing": true
    }
   }
  },
  {
   "cell_type": "code",
   "execution_count": null,
   "outputs": [],
   "source": [
    "allel_freq_df = print_frequency_compression(real_with_fake_by_pop, target_column='Superpopulation code')\n",
    "\n",
    "fig, ax = plt.subplots(figsize=(16, 10))\n",
    "\n",
    "real_genotypes = real_with_fake_by_sub_pop[real_with_fake_by_sub_pop[\"is_real\"] == 1][genotypes]\n",
    "uniques, counts = np.unique(real_genotypes, return_counts=True)\n",
    "tmp_percentages = dict(zip(uniques, 100 * counts / (len(real_genotypes) * len(genotypes))))\n",
    "tmp_percentages = {key: round(values) for key, values in tmp_percentages.items()}\n",
    "ax.axhline(y=tmp_percentages[1], color='black', linestyle='--', linewidth=2)\n",
    "\n",
    "# group the dataframe by 'Pop' and 'Type' columns, and get the sum of '1' column\n",
    "grouped = allel_freq_df.groupby(['Pop', 'Type'])[1].mean()\n",
    "\n",
    "# plot the grouped data as a bar plot with color mapped to the 'Type' categories\n",
    "grouped.unstack().plot(kind='bar', ax=ax, color=['red', 'blue'], width=0.6)\n",
    "\n",
    "# set the title and axis labels\n",
    "ax.set_title('Bar plot of Pop vs. 1, colored by Type')\n",
    "ax.set_xlabel('Pop')\n",
    "ax.set_ylabel('1')\n",
    "\n",
    "# show the plot"
   ],
   "metadata": {
    "collapsed": false,
    "pycharm": {
     "is_executing": true
    }
   }
  },
  {
   "cell_type": "code",
   "execution_count": null,
   "outputs": [],
   "source": [
    "def split_by_target_column(input_df: pd.DataFrame, target_column, label=None):\n",
    "    real_split = {}\n",
    "    fake_split = {}\n",
    "    populations = input_df[target_column].unique()\n",
    "    input_df.set_index(target_column, inplace=True)\n",
    "    category_counts = pd.Series(list(input_df.index)).value_counts()\n",
    "    mean_counts = category_counts.mean()\n",
    "    std_counts = category_counts.std()\n",
    "    print(mean_counts, std_counts)\n",
    "    for index, pop_name in enumerate(list(populations)):\n",
    "        pop_df = input_df[input_df.index == pop_name]\n",
    "        if label is None:\n",
    "            real_split[pop_name] = pop_df[pop_df[\"is_real\"] == 1].drop('is_real', axis=1)\n",
    "            fake_split[pop_name] = pop_df[pop_df[\"is_real\"] == 0].drop('is_real', axis=1)\n",
    "        else:\n",
    "            real_split[pop_name] = pop_df[pop_df[\"is_real\"] == 1].drop('is_real', axis=1).drop(label, axis=1)\n",
    "            fake_split[pop_name] = pop_df[pop_df[\"is_real\"] == 0].drop('is_real', axis=1).drop(label, axis=1)\n",
    "    return real_split, fake_split"
   ],
   "metadata": {
    "collapsed": false
   }
  },
  {
   "cell_type": "code",
   "execution_count": null,
   "outputs": [],
   "source": [
    "real_split_by_sub_pop, fake_split_by_sub_pop = split_by_target_column(input_df=real_with_fake_by_pop.copy(),\n",
    "                                                                      target_column=\"Superpopulation code\", label='Superpop Label')"
   ],
   "metadata": {
    "collapsed": false
   }
  },
  {
   "cell_type": "code",
   "execution_count": null,
   "outputs": [],
   "source": [
    "real_split_by_super_pop, fake_split_by_super_pop = split_by_target_column(input_df=real_with_fake_by_sub_pop.copy(),\n",
    "                                                                          target_column=\"Population code\")"
   ],
   "metadata": {
    "collapsed": false
   }
  },
  {
   "cell_type": "code",
   "execution_count": null,
   "outputs": [],
   "source": [
    "# real_split[pop_name] = pop_df[pop_df[\"is_real\"] == 1].drop('is_real', axis=1)\n",
    "# fake_split[pop_name] = pop_df[pop_df[\"is_real\"] == 0].drop('is_real', axis=1)\n",
    "\n",
    "fake_sum_alleles_by_sub_pop, fake_allele_frequency_by_sub_pop, _ = build_allele_frequency(fake_split_by_sub_pop)\n",
    "fake_sum_alleles_by_super_pop, fake_allele_frequency_by_super_pop, _ = build_allele_frequency(fake_split_by_super_pop)\n",
    "real_sum_alleles_by_sub_pop, real_allele_frequency_by_sub_pop, _ = build_allele_frequency(real_split_by_sub_pop)\n",
    "real_sum_alleles_by_super_pop, real_allele_frequency_by_super_pop, _ = build_allele_frequency(real_split_by_super_pop)\n",
    "len(real_split_by_super_pop.keys())"
   ],
   "metadata": {
    "collapsed": false
   }
  },
  {
   "cell_type": "code",
   "execution_count": null,
   "outputs": [],
   "source": [
    "from sklearn.metrics import mean_absolute_error, mean_squared_error\n",
    "\n",
    "\n",
    "def plotreg(x, y, keys, pop_name, col, ax=None):\n",
    "    \"\"\"\n",
    "    Plot for x versus y with regression scores and returns correlation coefficient\n",
    "\n",
    "    Parameters\n",
    "    ----------\n",
    "    x : array, scalar\n",
    "    y : array, scalar\n",
    "    statname : str\n",
    "        'Allele frequency' LD' or '3 point correlation' etc.\n",
    "    col : str, color code\n",
    "        color\n",
    "\n",
    "    \"\"\"\n",
    "\n",
    "    lims = [np.min(x), np.max(x)]\n",
    "    r, _ = pearsonr(x, y)\n",
    "    mae = mean_absolute_error(x, y)\n",
    "    # euclidean_distance = np.linalg.norm(x - y)\n",
    "    if ax is None:\n",
    "        ax = plt.subplot(1, 1, 1)\n",
    "\n",
    "\n",
    "    ax.plot(x, y, c=col, marker='o', lw=0, markersize=10)\n",
    "    ax.plot(lims, lims, ls='--', alpha=1, c='black')\n",
    "    title = ax.set_title(\n",
    "        f'{pop_name}\\nCorrelation={round(r * 100, 2)}%\\nMAE={round(mae, 4)}',\n",
    "        fontsize=65, fontweight='bold', color='black', y=1.05)\n",
    "    title.set_bbox({'facecolor': (0.9, 0.9, 0.9), 'edgecolor': \"black\", 'pad': 1.5})\n",
    "    ax.set_xlabel(\"MAF In Real\", fontsize=50, fontweight=\"bold\")\n",
    "    ax.set_ylabel(\"MAF In Synthetic\", fontsize=50, fontweight=\"bold\")\n",
    "\n",
    "    return r"
   ],
   "metadata": {
    "collapsed": false
   }
  },
  {
   "cell_type": "code",
   "execution_count": null,
   "outputs": [],
   "source": [
    "def plot_allele_frequency_fake_vs_real(real_input, fake_input, color, output_file_name):\n",
    "    num_cols = 5  # Number of columns for subplots\n",
    "    num_rows = len(real_input) // 5 # Number of rows for subplots\n",
    "    plt.figure(figsize=(10 * num_cols, 10 * num_rows))\n",
    "\n",
    "    number_of_plots = 0\n",
    "    for i, (pop_name, fake_allele_frequency) in enumerate(fake_input.items()):\n",
    "        number_of_plots += 1\n",
    "        if number_of_plots > (num_cols * num_rows):\n",
    "            break\n",
    "        ax = plt.subplot(num_rows, num_cols, i + 1)\n",
    "        plotreg(x=real_input[pop_name], y=fake_allele_frequency,\n",
    "                keys=['Real', \"Synthetic\"], pop_name=pop_name,\n",
    "                col=color, ax=ax)\n",
    "    plt.tight_layout()\n",
    "    plt.savefig(os.path.join(output_dir, output_file_name), bbox_inches='tight', dpi=200)\n"
   ],
   "metadata": {
    "collapsed": false
   }
  },
  {
   "cell_type": "code",
   "execution_count": null,
   "outputs": [],
   "source": [
    "plot_allele_frequency_fake_vs_real(real_input=real_allele_frequency_by_sub_pop,\n",
    "                                   fake_input=fake_allele_frequency_by_sub_pop,\n",
    "                                   color=\"blue\", output_file_name=\"maf_continental.jpg\")"
   ],
   "metadata": {
    "collapsed": false
   }
  },
  {
   "cell_type": "code",
   "execution_count": null,
   "outputs": [],
   "source": [
    "plot_allele_frequency_fake_vs_real(real_input=real_allele_frequency_by_super_pop,\n",
    "                                   fake_input=fake_allele_frequency_by_super_pop,\n",
    "                                   color=\"green\", output_file_name=\"maf_national.jpg\")"
   ],
   "metadata": {
    "collapsed": false,
    "pycharm": {
     "is_executing": true
    }
   }
  },
  {
   "cell_type": "code",
   "execution_count": null,
   "outputs": [],
   "source": [
    "print(real_allele_frequency_by_sub_pop[\"SAS\"])"
   ],
   "metadata": {
    "collapsed": false,
    "pycharm": {
     "is_executing": true
    }
   }
  },
  {
   "cell_type": "code",
   "execution_count": null,
   "outputs": [],
   "source": [
    "from scipy.stats import wasserstein_distance\n",
    "import random\n",
    "RANDOM_POSITIONS = 1000\n",
    "def get_allele_frequency_plot(real_frequency, fake_frequency, output_file_name):\n",
    "    # Get the list of population names\n",
    "    population_names = real_frequency.columns.tolist()\n",
    "    if len(population_names) > 5:\n",
    "        population_names = [pop for pop in population_names if pop in ['KHV', 'ACB', 'ESN', 'CDX', 'GBR']]\n",
    "    population_names = random.sample(population_names, min(len(population_names), 5))\n",
    "    random_snp_positions = random.sample(real_frequency.index.tolist(), RANDOM_POSITIONS)\n",
    "\n",
    "    # Define colors for real and synthetic data\n",
    "    colors = ['blue', 'red', 'green', 'purple', 'orange']\n",
    "\n",
    "    # Create a figure and subplots\n",
    "    fig, axes = plt.subplots(figsize=(60, 60), nrows=len(population_names), sharey=True)\n",
    "\n",
    "    # Plot the data\n",
    "    for i, population_name in enumerate(population_names):\n",
    "        real_pop_df = real_frequency[population_name]\n",
    "        fake_pop_df = fake_frequency[population_name]\n",
    "        real_frequency_filtered = real_pop_df[real_pop_df.index.isin(random_snp_positions)]\n",
    "        fake_frequency_filtered = fake_pop_df[fake_pop_df.index.isin(random_snp_positions)]\n",
    "\n",
    "\n",
    "        # Use different colors and line styles for real and synthetic data\n",
    "        axes[i].plot(fake_frequency_filtered.index, fake_frequency_filtered, label='Synthetic', color='red', linestyle='-',  linewidth=15)\n",
    "\n",
    "        axes[i].plot(real_frequency_filtered.index, real_frequency_filtered, label='Real', color=\"black\",  linestyle='-', alpha=0.8,linewidth=15)\n",
    "\n",
    "        wasserstein_distance_value = wasserstein_distance(real_frequency_filtered, fake_frequency_filtered)\n",
    "        title = axes[i].set_title(\n",
    "            f\"{population_name}: Wasserstein Distance = {round(wasserstein_distance_value, 3)},  Number Of SNPs = {round(len(real_frequency_filtered))}\",\n",
    "            fontsize=100, fontweight='bold', color='white', y=1.05)  # Set the title color to black\n",
    "        title.set_bbox({'facecolor': 'black', 'edgecolor': \"black\", 'pad': 2})  # Set the title box color to white\n",
    "\n",
    "        axes[i].set_xlabel('SNP', fontsize=70, fontweight='bold')\n",
    "        axes[i].set_ylabel('MAF', fontsize=70, fontweight='bold')\n",
    "        # axes[i].legend(loc='upper left', fontsize=40)\n",
    "        axes[i].grid(True, color='gray')  # Change grid color to gray for better visibility\n",
    "        # Add black horizontal lines at each 1000 on the x-axis\n",
    "        for j in range(0, int(max(real_frequency_filtered.index)), 1000):\n",
    "            axes[i].axvline(x=j, color='black', linestyle='--', alpha=0.8, linewidth=10)\n",
    "        axes[i].tick_params(axis='x', labelsize=60)\n",
    "        axes[i].tick_params(axis='y', labelsize=60)\n",
    "    plt.tight_layout()\n",
    "\n",
    "    # Save the figure\n",
    "    plt.savefig(os.path.join(output_dir, output_file_name), bbox_inches='tight', dpi=300)\n"
   ],
   "metadata": {
    "collapsed": false,
    "pycharm": {
     "is_executing": true
    }
   }
  },
  {
   "cell_type": "code",
   "execution_count": null,
   "outputs": [],
   "source": [
    "get_allele_frequency_plot(real_frequency=pd.DataFrame(real_allele_frequency_by_sub_pop).drop('Superpop Label', axis=0),\n",
    "                          fake_frequency=pd.DataFrame(fake_allele_frequency_by_sub_pop).drop('Superpop Label', axis=0),\n",
    "                          output_file_name=\"allele_frequency_by_continental.jpg\")"
   ],
   "metadata": {
    "collapsed": false,
    "pycharm": {
     "is_executing": true
    }
   }
  },
  {
   "cell_type": "code",
   "execution_count": null,
   "outputs": [],
   "source": [
    "get_allele_frequency_plot(real_frequency=pd.DataFrame(real_allele_frequency_by_super_pop),\n",
    "                          fake_frequency=pd.DataFrame(fake_allele_frequency_by_super_pop),\n",
    "                          output_file_name=\"allele_frequency_by_National.jpg\")"
   ],
   "metadata": {
    "collapsed": false,
    "pycharm": {
     "is_executing": true
    }
   }
  },
  {
   "cell_type": "code",
   "execution_count": null,
   "outputs": [],
   "source": [
    "real_data_pop_ane_sub_pop[\"Population code\"]"
   ],
   "metadata": {
    "collapsed": false,
    "pycharm": {
     "is_executing": true
    }
   }
  },
  {
   "cell_type": "code",
   "execution_count": null,
   "outputs": [],
   "source": [
    "sample_count_per_population = real_data_pop_ane_sub_pop[\"Population code\"].value_counts()\n",
    "print(sample_count_per_population)"
   ],
   "metadata": {
    "collapsed": false,
    "pycharm": {
     "is_executing": true
    }
   }
  },
  {
   "cell_type": "code",
   "execution_count": null,
   "outputs": [],
   "source": [
    "# Assuming you have a pandas DataFrame named \"df\" with the desired columns\n",
    "grouped_df = real_data_1000_genome.groupby(\n",
    "    [\"Population code\", \"Population name\", \"Superpopulation code\", \"Superpopulation name\"]).agg({\n",
    "    \"Superpopulation code\": \"count\"\n",
    "})\n",
    "\n",
    "# Rename the count columns\n",
    "grouped_df = grouped_df.rename(columns={\"Superpopulation code\": \"Superpopulation code count\"})\n",
    "\n",
    "# Reset the index to turn the groupby keys into columns\n",
    "grouped_df = grouped_df.reset_index()\n",
    "\n",
    "# Print the resulting DataFrame\n",
    "print(grouped_df[grouped_df[\"Population code\"].isin([\"MSL\", \"FIN\", \"PJL\", \"BEB\", \"CLM\"])])"
   ],
   "metadata": {
    "collapsed": false,
    "pycharm": {
     "is_executing": true
    }
   }
  },
  {
   "cell_type": "code",
   "execution_count": null,
   "outputs": [],
   "source": [
    "# Assuming you have a pandas DataFrame named \"df\" with the desired columns\n",
    "population_counts = real_data_1000_genome[\"Population code\"].value_counts().reset_index()\n",
    "population_counts.columns = [\"Population code\", \"Population code count\"]\n",
    "\n",
    "superpopulation_counts = real_data_1000_genome[\"Superpopulation code\"].value_counts().reset_index()\n",
    "superpopulation_counts.columns = [\"Superpopulation code\", \"Superpopulation code count\"]\n",
    "\n",
    "# Merge the counts into a single DataFrame\n",
    "combined_counts = population_counts.merge(superpopulation_counts, how=\"outer\", left_on=\"Population code\",\n",
    "                                          right_on=\"Superpopulation code\")\n",
    "combined_counts = combined_counts.drop(\"Superpopulation code\", axis=1)\n",
    "\n",
    "# Print the resulting DataFrame\n",
    "print(combined_counts)\n"
   ],
   "metadata": {
    "collapsed": false,
    "pycharm": {
     "is_executing": true
    }
   }
  },
  {
   "cell_type": "code",
   "execution_count": null,
   "outputs": [],
   "source": [],
   "metadata": {
    "collapsed": false,
    "pycharm": {
     "is_executing": true
    }
   }
  }
 ],
 "metadata": {
  "kernelspec": {
   "display_name": "Python 3",
   "language": "python",
   "name": "python3"
  },
  "language_info": {
   "codemirror_mode": {
    "name": "ipython",
    "version": 2
   },
   "file_extension": ".py",
   "mimetype": "text/x-python",
   "name": "python",
   "nbconvert_exporter": "python",
   "pygments_lexer": "ipython2",
   "version": "2.7.6"
  }
 },
 "nbformat": 4,
 "nbformat_minor": 0
}
